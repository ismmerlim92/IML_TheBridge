{
 "cells": [
  {
   "attachments": {},
   "cell_type": "markdown",
   "metadata": {},
   "source": [
    "# Examen Ramp-Up Sevilla Febrero 2023"
   ]
  },
  {
   "cell_type": "markdown",
   "metadata": {},
   "source": [
    "**Aviso**: En todos los ejercicios se valorarán las buenas prácticas de programación como una parte importante de la calificación (comentarios, nombres de variables autoexplicativas)."
   ]
  },
  {
   "attachments": {},
   "cell_type": "markdown",
   "metadata": {},
   "source": [
    "## Ejercicio 1: Tipos de Datos (1.7 puntos)"
   ]
  },
  {
   "attachments": {},
   "cell_type": "markdown",
   "metadata": {},
   "source": [
    "En este ejercicio se va a crear una lista con los siguientes elementos. \n",
    "\n",
    "**IMPORTANTE**: En todos los casos, hacer print del resultado y del tipo.\n",
    "\n",
    "Primero, crearemos las variables que luego añadiremos a la lista. Las variables son las siguientes:\n",
    "\n",
    "1. Crea una variable llamada `edad` de tipo Integer que represente tu edad en años. \n",
    "2. Crea una variable llamada `nombre` de tipo String con tu nombre y otra `apellidos` con tus apellidos\n",
    "3. Concatena tu nombre seguido de un espacio en blanco y la inicial de tu primer apellido a partir de `nombre` y `apellidos`. Guárdala en `nombre_y_apellidos`.\n",
    "4. Crea una variable llamada `altura` con el valor de tu altura en metros de tipo float.\n",
    "5. Crea una variable llamada `tipo_ord` de tipo Boolean True si usas Windows y False si usas Mac.\n",
    "6. Crea una variable llamada `nada` de tipo None cuyo valor sea None.\n",
    "\n",
    "#### Listas\n",
    "8. Crea una variable llamada `lista_series` de tipo List que contenga las 5 series de TV que más te gusten. Cada elemento ha de ser de tipo String.\n",
    "9.  Añade todos estos elementos en una lista llamada `lista_examen` en el orden de aparición **usando métodos de lista**. \n",
    "10. Crea `lista_examen_mod_edad` idéntica a `lista_examen` pero sustituyendo la edad por la edad + 10.\n",
    "11. Elimina un elemento de `lista_examen_mod_edad` y guárdalo en una variable.\n",
    "\n",
    "#### Diccionarios\n",
    "12. Crea una variable llamada `dict_info` con dos keys y dos values. Una key es `ciudad`, teniendo como value la ciudad en la que vives. Otra key es `portal`, teniendo como value el número de tu calle.\n",
    "13. Muestra las claves, valores e items de `dict_info`\n",
    "14. Elimina un item usando su clave.\n",
    "\n",
    "#### Tuplas\n",
    "15. Crea una variable llamada `tupla_ropa` de tipo Tuple con la marca de la prenda superior, inferior y calzado que llevas puesto.\n",
    "16. Accede a los elementos de `tupla_ropa` y muéstralos por pantalla\n",
    "17. Convierte `tupla_ropa` en una lista `lista_ropa` usando la función necesaria para ello.\n"
   ]
  },
  {
   "cell_type": "code",
   "execution_count": null,
   "metadata": {},
   "outputs": [
    {
     "name": "stdout",
     "output_type": "stream",
     "text": [
      "26 <class 'int'>\n"
     ]
    }
   ],
   "source": []
  },
  {
   "attachments": {},
   "cell_type": "markdown",
   "metadata": {},
   "source": [
    "## Ejercicio 2: Flujos de Control (3.5 puntos)"
   ]
  },
  {
   "attachments": {},
   "cell_type": "markdown",
   "metadata": {},
   "source": [
    "1. (0.5 puntos) Hacer un programa que permita saber si un año es bisiesto. Para que un año sea bisiesto debe ser divisible por 4 y no debe ser divisible por 100, excepto que también sea divisible por 400.\n",
    "2. (0.5 puntos) Hacer un programa que, dado un número, nos diga si es Real o Entero.\n",
    "3. (2.5 puntos) Calculadora de IRPF. Crea una **función** que, dado el salario bruto anual de una persona estime su salario neto en base a los tramos de IRPF sabiendo que:\n",
    "   1. A los salarios por debajo de 15000€ se les aplica un tipo fijo del 2%\n",
    "   2. A los salarios por encima de esta cantidad se les aplica por tramo:\n",
    "      1. De 0 a 12450€ un 19%\n",
    "      2. De 12450 a 20200 un 24%\n",
    "      3. De 20200 a 35200 un 30%\n",
    "      4. De 35200 a 60000 un 37%\n",
    "      5. De 60000 a 300000 un 45%\n",
    "      6. De 300000 en adelante un 47%\n",
    "\n",
    "   - Añade un input que sea *n_pagas* que valga 1 por defecto y que recibirá el número de pagas entre las cuales dividimos el salario.\n",
    "   - Muestra el salario neto anual, en 12 pagas y en 14 pagas para 10.000€, 20.000€, 35.000€, 45.000€ y 1.000.000€\n",
    "\n",
    "   **IMPORTANTE**: \n",
    "      - Hay que ponderar POR TRAMOS\n",
    "      - AÑADE DOCUMENTACIÓN Y COMENTARIOS"
   ]
  },
  {
   "cell_type": "code",
   "execution_count": null,
   "metadata": {},
   "outputs": [],
   "source": []
  },
  {
   "cell_type": "code",
   "execution_count": null,
   "metadata": {},
   "outputs": [],
   "source": []
  },
  {
   "cell_type": "code",
   "execution_count": 42,
   "metadata": {},
   "outputs": [],
   "source": [
    "\n"
   ]
  },
  {
   "cell_type": "code",
   "execution_count": 43,
   "metadata": {},
   "outputs": [
    {
     "name": "stdout",
     "output_type": "stream",
     "text": [
      "691098.5\n"
     ]
    }
   ],
   "source": []
  },
  {
   "attachments": {},
   "cell_type": "markdown",
   "metadata": {},
   "source": [
    "## Ejercicio 3: Bucles (2 puntos)"
   ]
  },
  {
   "attachments": {},
   "cell_type": "markdown",
   "metadata": {},
   "source": [
    "1. Escribe una **función** que reciba como entrada un conjunto de números y devuelva un número que sea la suma de todos los elementos de la misma. Por ejemplo, dada la lista `[3, 4, 1]`, el resultado debe ser `3 + 4 + 1 = 8`.\n",
    "   \n",
    "   **IMPORTANTE**: No se puede usar ninguna función de listas como `sum`.\n",
    "2. Escribe una **función** que, dada una palabra, devuelva esta misma palabra invertida y separada por guiones (`-`). Por ejemplo, `perro` -> `o-r-r-e-p`.\n",
    "   \n",
    "   **IMPORTANTE**: No se puede usar ninguna función built-in que lo haga por defecto.\n",
    "3. Escribe una **función** que, dada una lista, devuelva otra lista con los índices de los valores divisibles entre 3. Por ejemplo, `[2, 4, 9, 3, 9]` -> `[2, 3, 4]`"
   ]
  },
  {
   "cell_type": "code",
   "execution_count": null,
   "metadata": {},
   "outputs": [],
   "source": [
    "# Apartado 1\n"
   ]
  },
  {
   "attachments": {},
   "cell_type": "markdown",
   "metadata": {},
   "source": [
    "## Ejercicio 4: Calculadora simple (2 Puntos)"
   ]
  },
  {
   "attachments": {},
   "cell_type": "markdown",
   "metadata": {},
   "source": [
    "Construye un programa que:\n",
    "\n",
    "- Salude al usuario por su nombre\n",
    "- Le pregunte si quiere sumar, restar, multiplicar o dividir. Si introduce una operación diferente, debe devolver un error con el mensaje *\"Define una operación válida\"*.\n",
    "- Pida que introduzca 2 números de manera sucesiva. Si el usuario introduce algo distinto, pídele que vuelva a introducir un valor válido hasta que lo sea.\n",
    "- Devuelva el resultado de manera formal con un mensaje apropiado.\n",
    "\n",
    "**Nota**: No se puede dividir por 0. Añade esto como excepción. Captura este error concreo y devuelve el mensaje *\"Revisa el dividendo!!\"*"
   ]
  },
  {
   "cell_type": "code",
   "execution_count": 1,
   "metadata": {},
   "outputs": [
    {
     "name": "stdout",
     "output_type": "stream",
     "text": [
      "Ha activado la CALCULADORA SIMPLE\n",
      "Bienvenido Alberto\n",
      "Primer número: 6.0\n",
      "Operación: +\n",
      "Segundo número: 5.0\n",
      "El resultado de 6.0 + 5.0 es 11.0\n"
     ]
    }
   ],
   "source": [
    "##########################################################################\n",
    "# Este script permite hacer suma, resta, producto y división de 2 números.\n",
    "##########################################################################\n"
   ]
  },
  {
   "attachments": {},
   "cell_type": "markdown",
   "metadata": {},
   "source": [
    "## Ejercicio 5: Text Beautifier (0.8 Puntos)"
   ]
  },
  {
   "attachments": {},
   "cell_type": "markdown",
   "metadata": {},
   "source": [
    "Dado el string `\"HeyYy cOmo EstAas\"`:\n",
    "\n",
    "- Pasa todo a minúsculas con el método adecuado de la clase `str`\n",
    "- Pon las iniciales de cada palabra en mayúscula\n",
    "- Convierte el string en una lista de palabras\n",
    "- Elimina las `y`"
   ]
  },
  {
   "cell_type": "code",
   "execution_count": null,
   "metadata": {},
   "outputs": [],
   "source": []
  },
  {
   "attachments": {},
   "cell_type": "markdown",
   "metadata": {},
   "source": [
    "## Ejercicio Extra 1: Calculadora"
   ]
  },
  {
   "cell_type": "markdown",
   "metadata": {},
   "source": [
    "Construye una calculadora que sea como la anterior pero:\n",
    "\n",
    "- Acepte tantos valores de entrada como queramos\n",
    "- Devuelva mensajes con las cuentas que se van haciendo.\n",
    "- Permita salir con una palabra clave (exit, quit, ...)"
   ]
  },
  {
   "cell_type": "code",
   "execution_count": 2,
   "metadata": {},
   "outputs": [
    {
     "name": "stdout",
     "output_type": "stream",
     "text": [
      "Ha activado la CALCULADORA\n",
      "Bienvenido Alberto\n",
      "Valor: 6.0\n",
      "Operación: /\n",
      "Valor: 7.0\n",
      "====================================================================================================\n",
      "SUBTOTAL: 0.8571428571428571\n",
      "Operación: +\n",
      "Valor: 9.0\n",
      "====================================================================================================\n",
      "SUBTOTAL: 9.857142857142858\n",
      "Operación: -\n",
      "Valor: 6.0\n",
      "====================================================================================================\n",
      "SUBTOTAL: 3.8571428571428577\n",
      "\n",
      "TOTAL: 3.8571428571428577\n",
      "\n",
      "\n",
      "\n",
      "CERRANDO CALCULADORA...\n",
      "Hasta pronto Alberto\n"
     ]
    }
   ],
   "source": [
    "##########################################################################\n",
    "# Este script permite hacer suma, resta, producto y división de tantos \n",
    "# números como deseemos.\n",
    "##########################################################################\n"
   ]
  }
 ],
 "metadata": {
  "kernelspec": {
   "display_name": "Python 3",
   "language": "python",
   "name": "python3"
  },
  "language_info": {
   "codemirror_mode": {
    "name": "ipython",
    "version": 3
   },
   "file_extension": ".py",
   "mimetype": "text/x-python",
   "name": "python",
   "nbconvert_exporter": "python",
   "pygments_lexer": "ipython3",
   "version": "3.10.8"
  },
  "orig_nbformat": 4,
  "vscode": {
   "interpreter": {
    "hash": "7600a12950a547366bb7a6732117e300ffd26224351912980486e1126c5d0f9a"
   }
  }
 },
 "nbformat": 4,
 "nbformat_minor": 2
}
