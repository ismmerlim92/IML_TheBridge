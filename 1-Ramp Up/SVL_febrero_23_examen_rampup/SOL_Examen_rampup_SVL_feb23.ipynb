{
 "cells": [
  {
   "attachments": {},
   "cell_type": "markdown",
   "metadata": {},
   "source": [
    "# Examen Ramp-Up Sevilla Febrero 2023"
   ]
  },
  {
   "cell_type": "markdown",
   "metadata": {},
   "source": [
    "**Aviso**: En todos los ejercicios se valorarán las buenas prácticas de programación como una parte importante de la calificación (comentarios, nombres de variables autoexplicativas)."
   ]
  },
  {
   "attachments": {},
   "cell_type": "markdown",
   "metadata": {},
   "source": [
    "## Ejercicio 1: Tipos de Datos (1.7 puntos)"
   ]
  },
  {
   "attachments": {},
   "cell_type": "markdown",
   "metadata": {},
   "source": [
    "En este ejercicio se va a crear una lista con los siguientes elementos. \n",
    "\n",
    "**IMPORTANTE**: En todos los casos, hacer print del resultado y del tipo.\n",
    "\n",
    "Primero, crearemos las variables que luego añadiremos a la lista. Las variables son las siguientes:\n",
    "\n",
    "1. Crea una variable llamada `edad` de tipo Integer que represente tu edad en años. \n",
    "2. Crea una variable llamada `nombre` de tipo String con tu nombre y otra `apellidos` con tus apellidos\n",
    "3. Concatena tu nombre seguido de un espacio en blanco y la inicial de tu primer apellido a partir de `nombre` y `apellidos`. Guárdala en `nombre_y_apellidos`.\n",
    "4. Crea una variable llamada `altura` con el valor de tu altura en metros de tipo float.\n",
    "5. Crea una variable llamada `tipo_ord` de tipo Boolean True si usas Windows y False si usas Mac.\n",
    "6. Crea una variable llamada `nada` de tipo None cuyo valor sea None.\n",
    "\n",
    "#### Listas\n",
    "8. Crea una variable llamada `lista_series` de tipo List que contenga las 5 series de TV que más te gusten. Cada elemento ha de ser de tipo String.\n",
    "9.  Añade todos estos elementos en una lista llamada `lista_examen` en el orden de aparición **usando métodos de lista**. \n",
    "10. Crea `lista_examen_mod_edad` idéntica a `lista_examen` pero sustituyendo la edad por la edad + 10.\n",
    "11. Elimina un elemento de `lista_examen_mod_edad` y guárdalo en una variable.\n",
    "\n",
    "#### Diccionarios\n",
    "12. Crea una variable llamada `dict_info` con dos keys y dos values. Una key es `ciudad`, teniendo como value la ciudad en la que vives. Otra key es `portal`, teniendo como value el número de tu calle.\n",
    "13. Muestra las claves, valores e items de `dict_info`\n",
    "14. Elimina un item usando su clave.\n",
    "\n",
    "#### Tuplas\n",
    "15. Crea una variable llamada `tupla_ropa` de tipo Tuple con la marca de la prenda superior, inferior y calzado que llevas puesto.\n",
    "16. Accede a los elementos de `tupla_ropa` y muéstralos por pantalla\n",
    "17. Convierte `tupla_ropa` en una lista `lista_ropa` usando la función necesaria para ello.\n"
   ]
  },
  {
   "cell_type": "code",
   "execution_count": null,
   "metadata": {},
   "outputs": [
    {
     "name": "stdout",
     "output_type": "stream",
     "text": [
      "26 <class 'int'>\n"
     ]
    }
   ],
   "source": [
    "## Primera Parte\n",
    "edad = 26\n",
    "print(edad, type(edad))\n",
    "\n",
    "nombre = \"Alberto\"\n",
    "print(nombre, type(nombre))\n",
    "\n",
    "apellidos = \"Becerra Tomé\"\n",
    "print(apellidos, type(apellidos))\n",
    "\n",
    "# nombre_y_apellidos =\n"
   ]
  },
  {
   "attachments": {},
   "cell_type": "markdown",
   "metadata": {},
   "source": [
    "## Ejercicio 2: Flujos de Control (3.5 puntos)"
   ]
  },
  {
   "attachments": {},
   "cell_type": "markdown",
   "metadata": {},
   "source": [
    "1. (0.5 puntos) Hacer un programa que permita saber si un año es bisiesto. Para que un año sea bisiesto debe ser divisible por 4 y no debe ser divisible por 100, excepto que también sea divisible por 400.\n",
    "2. (0.5 puntos) Hacer un programa que, dado un número, nos diga si es Real o Entero.\n",
    "3. (2.5 puntos) Calculadora de IRPF. Crea una **función** que, dado el salario bruto anual de una persona estime su salario neto en base a los tramos de IRPF sabiendo que:\n",
    "   1. A los salarios por debajo de 15000€ se les aplica un tipo fijo del 2%\n",
    "   2. A los salarios por encima de esta cantidad se les aplica por tramo:\n",
    "      1. De 0 a 12450€ un 19%\n",
    "      2. De 12450 a 20200 un 24%\n",
    "      3. De 20200 a 35200 un 30%\n",
    "      4. De 35200 a 60000 un 37%\n",
    "      5. De 60000 a 300000 un 45%\n",
    "      6. De 300000 en adelante un 47%\n",
    "\n",
    "   - Añade un input que sea *n_pagas* que valga 1 por defecto y que recibirá el número de pagas entre las cuales dividimos el salario.\n",
    "   - Muestra el salario neto anual, en 12 pagas y en 14 pagas para 10.000€, 20.000€, 35.000€, 45.000€ y 1.000.000€\n",
    "\n",
    "   **IMPORTANTE**: \n",
    "      - Hay que ponderar POR TRAMOS\n",
    "      - AÑADE DOCUMENTACIÓN Y COMENTARIOS"
   ]
  },
  {
   "cell_type": "code",
   "execution_count": 2,
   "metadata": {},
   "outputs": [
    {
     "name": "stdout",
     "output_type": "stream",
     "text": [
      "El año 800 es bisiesto\n",
      "El año 2004 es bisiesto\n",
      "El año 2008 es bisiesto\n",
      "El año 2012 es bisiesto\n",
      "El año 2016 es bisiesto\n",
      "El año 2020 es bisiesto\n",
      "El año 2024 es bisiesto\n",
      "El año 2028 es bisiesto\n",
      "El año 2032 es bisiesto\n",
      "El año 2036 es bisiesto\n",
      "El año 1700 NO es bisiesto\n",
      "El año 1800 NO es bisiesto\n",
      "El año 1900 NO es bisiesto\n",
      "El año 2100 NO es bisiesto\n",
      "El año 2200 NO es bisiesto\n",
      "El año 2005 NO es bisiesto\n",
      "El año 2009 NO es bisiesto\n"
     ]
    }
   ],
   "source": [
    "# Apartado 1\n",
    "bisiestos = [2004, 2008, 2012, 2016, 2020, 2024, 2028, 2032, 2036]\n",
    "no_bisiestos = [1700, 1800, 1900, 2100, 2200, 2005, 2009]\n",
    "for year in bisiestos + no_bisiestos:\n",
    "    if (year % 4 == 0)&(year % 100 != 0) | (year % 400 == 0):\n",
    "        print(f\"El año {year} es bisiesto\")\n",
    "    else:\n",
    "        print(f\"El año {year} NO es bisiesto\")"
   ]
  },
  {
   "cell_type": "code",
   "execution_count": 4,
   "metadata": {},
   "outputs": [
    {
     "name": "stdout",
     "output_type": "stream",
     "text": [
      "2 es un número entero.\n"
     ]
    }
   ],
   "source": [
    "# Apartado 2\n",
    "import math\n",
    "num = math.pi\n",
    "\n",
    "if type(num) == int:\n",
    "    print(num, \"es un número entero.\")\n",
    "elif type(num) == float:\n",
    "    print(num, \"es un número real.\")"
   ]
  },
  {
   "cell_type": "code",
   "execution_count": 5,
   "metadata": {},
   "outputs": [],
   "source": [
    "# Apartado 3\n",
    "def salario_neto(sueldo, n_pagas=1):\n",
    "    ls_tramos = [(0, 12_450), \n",
    "                 (12_450, 20_200), \n",
    "                 (20_200, 35_200), \n",
    "                 (35_200, 60_000),\n",
    "                 (60_000, 300_000)]\n",
    "    ls_rets = [.19, .24, .30, .37, .45, .47]\n",
    "\n",
    "    min_thres = 15_000\n",
    "    ret_under_thres = .02\n",
    "\n",
    "    max_thres = max(max(ls_tramos))\n",
    "\n",
    "    if sueldo <= min_thres:\n",
    "        out = sueldo * (1 - ret_under_thres)\n",
    "    else:\n",
    "        out = 0\n",
    "        for ret, tramo in zip(ls_rets, ls_tramos):\n",
    "            if (sueldo > tramo[0]):\n",
    "                out += (1 - ret) * (min(tramo[1], sueldo) - tramo[0])\n",
    "            else:\n",
    "                break\n",
    "        \n",
    "        if sueldo > max_thres:\n",
    "            out += (1 - ls_rets[-1]) * (sueldo - max_thres)\n",
    "    \n",
    "    return out / n_pagas\n"
   ]
  },
  {
   "cell_type": "code",
   "execution_count": 11,
   "metadata": {},
   "outputs": [
    {
     "name": "stdout",
     "output_type": "stream",
     "text": [
      "700.0\n"
     ]
    }
   ],
   "source": [
    "print(salario_neto(1000000, 1))"
   ]
  },
  {
   "attachments": {},
   "cell_type": "markdown",
   "metadata": {},
   "source": [
    "## Ejercicio 3: Bucles (2 puntos)"
   ]
  },
  {
   "attachments": {},
   "cell_type": "markdown",
   "metadata": {},
   "source": [
    "1. Escribe una **función** que reciba como entrada un conjunto de números y devuelva un número que sea la suma de todos los elementos de la misma. Por ejemplo, dada la lista `[3, 4, 1]`, el resultado debe ser `3 + 4 + 1 = 8`.\n",
    "   \n",
    "   **IMPORTANTE**: No se puede usar ninguna función de listas como `sum`.\n",
    "2. Escribe una **función** que, dada una palabra, devuelva esta misma palabra invertida y separada por guiones (`-`). Por ejemplo, `perro` -> `o-r-r-e-p`.\n",
    "   \n",
    "   **IMPORTANTE**: No se puede usar ninguna función built-in que lo haga por defecto.\n",
    "3. Escribe una **función** que, dada una lista, devuelva otra lista con los índices de los valores divisibles entre 3. Por ejemplo, `[2, 4, 9, 3, 9]` -> `[2, 3, 4]`"
   ]
  },
  {
   "cell_type": "code",
   "execution_count": 14,
   "metadata": {},
   "outputs": [
    {
     "data": {
      "text/plain": [
       "12"
      ]
     },
     "execution_count": 14,
     "metadata": {},
     "output_type": "execute_result"
    }
   ],
   "source": [
    "# Apartado 1\n",
    "\n",
    "def suma_numeros(*args):\n",
    "    '''\n",
    "    Función que suma los números introducidos como argumentos\n",
    "    '''\n",
    "    out = 0\n",
    "    for num in args:\n",
    "        out += num\n",
    "    return out\n",
    "\n",
    "suma_numeros(1, 1, 2, 3, 5)"
   ]
  },
  {
   "cell_type": "code",
   "execution_count": 6,
   "metadata": {},
   "outputs": [
    {
     "name": "stdout",
     "output_type": "stream",
     "text": [
      "o-r-r-e-p\n",
      "o-r-r-e-p\n"
     ]
    }
   ],
   "source": [
    "# Apartado 2\n",
    "\n",
    "def invierte_palabras_1(word):\n",
    "    '''\n",
    "    Función que recibe como input una palabra y la \n",
    "    devuelve invertida y con sus letras separadas por \"-\"\n",
    "    '''\n",
    "    out = \"\"\n",
    "    for idx in range(len(word) - 1, -1, -1):\n",
    "        out += \"-\"+word[idx]\n",
    "    return out[1:]\n",
    "\n",
    "print(invierte_palabras_1(\"perro\"))\n",
    "\n",
    "def invierte_palabras_2(word):\n",
    "    '''\n",
    "    Función que recibe como input una palabra y la \n",
    "    devuelve invertida y con sus letras separadas por \"-\"\n",
    "    '''\n",
    "    reversed = word[::-1]\n",
    "    ls_reversed = list(reversed)\n",
    "    return '-'.join(ls_reversed)\n",
    "\n",
    "print(invierte_palabras_2(\"perro\"))"
   ]
  },
  {
   "cell_type": "code",
   "execution_count": 22,
   "metadata": {},
   "outputs": [
    {
     "data": {
      "text/plain": [
       "[2, 4]"
      ]
     },
     "execution_count": 22,
     "metadata": {},
     "output_type": "execute_result"
    }
   ],
   "source": [
    "# Apartado 3\n",
    "\n",
    "def divisibles_3(ls):\n",
    "    '''\n",
    "    Recibe una lista de entrada y devuelve los índices de los\n",
    "    valores divisibles entre 3\n",
    "    '''\n",
    "    ls_out = []\n",
    "    for idx, num in enumerate(ls):\n",
    "        if num % 3 == 0:\n",
    "            ls_out.append(idx)\n",
    "    return ls_out\n",
    "\n",
    "divisibles_3([1, 2, 3, 4, 3])"
   ]
  },
  {
   "attachments": {},
   "cell_type": "markdown",
   "metadata": {},
   "source": [
    "## Ejercicio 4: Calculadora simple (2 Puntos)"
   ]
  },
  {
   "attachments": {},
   "cell_type": "markdown",
   "metadata": {},
   "source": [
    "Construye un programa que:\n",
    "\n",
    "- Salude al usuario por su nombre\n",
    "- Le pregunte si quiere sumar, restar, multiplicar o dividir. Si introduce una operación diferente, debe devolver un error con el mensaje *\"Define una operación válida\"*.\n",
    "- Pida que introduzca 2 números de manera sucesiva. Si el usuario introduce algo distinto, pídele que vuelva a introducir un valor válido hasta que lo sea.\n",
    "- Devuelva el resultado de manera formal con un mensaje apropiado.\n",
    "\n",
    "**Nota**: No se puede dividir por 0. Añade esto como excepción. Captura este error concreo y devuelve el mensaje *\"Revisa el dividendo!!\"*"
   ]
  },
  {
   "cell_type": "code",
   "execution_count": 1,
   "metadata": {},
   "outputs": [
    {
     "name": "stdout",
     "output_type": "stream",
     "text": [
      "Ha activado la CALCULADORA SIMPLE\n",
      "Bienvenido Alberto\n",
      "Primer número: 6.0\n",
      "Operación: +\n",
      "Segundo número: 5.0\n",
      "El resultado de 6.0 + 5.0 es 11.0\n"
     ]
    }
   ],
   "source": [
    "##########################################################################\n",
    "# Este script permite hacer suma, resta, producto y división de 2 números.\n",
    "##########################################################################\n",
    "\n",
    "print(\"Ha activado la CALCULADORA SIMPLE\")\n",
    "\n",
    "user = input(\"Introduzca un nombre de usuario:\")\n",
    "print(\"Bienvenido {}\".format(user.title()))\n",
    "\n",
    "while True:\n",
    "    try:\n",
    "        # Primer número con el que se va a operar\n",
    "        num1 = float(input(\"Introduzca primer número:\"))\n",
    "        print(\"Primer número: {}\".format(num1))\n",
    "        break\n",
    "    except:\n",
    "        print(\"Formato incorrecto. Introduzca nuevo número\")\n",
    "        continue\n",
    "\n",
    "# Operación a realizar\n",
    "ops = input(\"Operación: Sumar (+), Restar (-), Mulstiplicar (*), Dividir (/)?\")\n",
    "print(\"Operación: {}\".format(ops))\n",
    "\n",
    "while True:\n",
    "    try:\n",
    "        # Segundo número con el que se va a operar\n",
    "        num2 = float(input(\"Introduzca segundo número:\"))\n",
    "        print(\"Primer número: {}\".format(num2))\n",
    "        break\n",
    "    except:\n",
    "        print(\"Formato incorrecto. Introduzca nuevo número\")\n",
    "        continue\n",
    "\n",
    "# Si intentamos dividir entre 0, damos error personalizado\n",
    "if ops == \"+\":\n",
    "    out = num1 + num2\n",
    "elif ops == \"-\":\n",
    "    out = num1 - num2\n",
    "elif ops == \"*\":\n",
    "    out = num1 * num2\n",
    "elif ops == \"/\":\n",
    "    if num2 != 0:\n",
    "        out = num1 / num2\n",
    "    else:\n",
    "        raise ZeroDivisionError(\"Revisa el dividendo!!\")\n",
    "else:\n",
    "    raise ValueError(\"Define una operación válida\")\n",
    "\n",
    "# Mostramos la salida por pantalla\n",
    "print(f\"El resultado de {num1} {ops} {num2} es {out}\")"
   ]
  },
  {
   "attachments": {},
   "cell_type": "markdown",
   "metadata": {},
   "source": [
    "## Ejercicio 5: Text Beautifier (0.8 Puntos)"
   ]
  },
  {
   "attachments": {},
   "cell_type": "markdown",
   "metadata": {},
   "source": [
    "Dado el string `\"HeyYy cOmo EstAas\"`:\n",
    "\n",
    "- Pasa todo a minúsculas con el método adecuado de la clase `str`\n",
    "- Pon las iniciales de cada palabra en mayúscula\n",
    "- Convierte el string en una lista de palabras\n",
    "- Elimina las `y`"
   ]
  },
  {
   "cell_type": "code",
   "execution_count": 26,
   "metadata": {},
   "outputs": [
    {
     "name": "stdout",
     "output_type": "stream",
     "text": [
      "heyyy como estaas\n",
      "Heyyy Como Estaas\n",
      "He Como Estaas\n",
      "['HeyYy', 'cOmo', 'EstAas']\n"
     ]
    }
   ],
   "source": [
    "str_beauty = \"HeyYy cOmo EstAas\"\n",
    "\n",
    "# Pasar todo a minusculas\n",
    "str_beauty_proc = str_beauty.lower()\n",
    "print(str_beauty_proc)\n",
    "\n",
    "# Poner en mayusculas cada inicial de la palabra\n",
    "str_beauty_proc = str_beauty_proc.title()\n",
    "print(str_beauty_proc)\n",
    "\n",
    "# Eliminar las `y` del texto\n",
    "str_beauty_proc = str_beauty_proc.replace(\"y\", \"\")\n",
    "print(str_beauty_proc)\n",
    "\n",
    "# Separar por los espacios\n",
    "print(str_beauty.split(\" \"))"
   ]
  },
  {
   "attachments": {},
   "cell_type": "markdown",
   "metadata": {},
   "source": [
    "## Ejercicio Extra 1: Calculadora"
   ]
  },
  {
   "cell_type": "markdown",
   "metadata": {},
   "source": [
    "Construye una calculadora que sea como la anterior pero:\n",
    "\n",
    "- Acepte tantos valores de entrada como queramos\n",
    "- Devuelva mensajes con las cuentas que se van haciendo.\n",
    "- Permita salir con una palabra clave (exit, quit, ...)"
   ]
  },
  {
   "cell_type": "code",
   "execution_count": 27,
   "metadata": {},
   "outputs": [
    {
     "name": "stdout",
     "output_type": "stream",
     "text": [
      "Ha activado la CALCULADORA\n",
      "Bienvenido Alberto\n",
      "Valor: 5.0\n",
      "Operación: +\n",
      "Valor: 4.0\n",
      "====================================================================================================\n",
      "SUBTOTAL: 9.0\n",
      "Operación: *\n",
      "Valor: 3.0\n",
      "====================================================================================================\n",
      "SUBTOTAL: 27.0\n",
      "Operación: -\n",
      "Valor: 5.0\n",
      "====================================================================================================\n",
      "SUBTOTAL: 22.0\n",
      "\n",
      "TOTAL: 22.0\n",
      "\n",
      "\n",
      "\n",
      "CERRANDO CALCULADORA...\n",
      "Hasta pronto Alberto\n"
     ]
    }
   ],
   "source": [
    "##########################################################################\n",
    "# Este script permite hacer suma, resta, producto y división de tantos \n",
    "# números como deseemos.\n",
    "##########################################################################\n",
    "\n",
    "print(\"Ha activado la CALCULADORA\")\n",
    "\n",
    "user = input(\"Introduzca un nombre de usuario:\")\n",
    "print(\"Bienvenido {}\".format(user.title()))\n",
    "\n",
    "# Primer número con el que se va a operar. Inicialización.\n",
    "num1 = float(input(\"Introduzca número:\"))\n",
    "print(\"Valor: {}\".format(num1))\n",
    "\n",
    "while True:\n",
    "    ops = input(\"Operación: Sumar (+), Restar (-), Multiplicar (*), Dividir (/), Quit (q)?\")\n",
    "\n",
    "    # Evitamos problemas de mayus con el .lower\n",
    "    # Si salimos, nos despedimos\n",
    "    if ops.lower() == \"q\":\n",
    "        print(f\"\\nTOTAL: {num1}\")\n",
    "        print('\\n\\n')\n",
    "        print(\"CERRANDO CALCULADORA...\")\n",
    "        print(\"Hasta pronto {}\".format(user))\n",
    "        break\n",
    "    else:\n",
    "        print(\"Operación: {}\".format(ops))\n",
    "\n",
    "    num2 = float(input(\"Introduzca segundo número:\"))\n",
    "    print(\"Valor: {}\".format(num2))\n",
    "\n",
    "    # Si intentamos dividir entre 0, damos error personalizado\n",
    "    if ops == \"+\":\n",
    "        out = num1 + num2\n",
    "    elif ops == \"-\":\n",
    "        out = num1 - num2\n",
    "    elif ops == \"*\":\n",
    "        out = num1 * num2\n",
    "    elif ops == \"/\":\n",
    "        if num2 != 0:\n",
    "            out = num1 / num2\n",
    "        else:\n",
    "            raise ZeroDivisionError(\"Revisa el dividendo!!\")\n",
    "            break\n",
    "    else:\n",
    "        raise ValueError(\"Define una operación válida\")\n",
    "        break\n",
    "    \n",
    "    num1 = out \n",
    "    \n",
    "    print(\"=\" * 100)\n",
    "    print(\"SUBTOTAL: {}\".format(num1))"
   ]
  }
 ],
 "metadata": {
  "kernelspec": {
   "display_name": "Python 3",
   "language": "python",
   "name": "python3"
  },
  "language_info": {
   "codemirror_mode": {
    "name": "ipython",
    "version": 3
   },
   "file_extension": ".py",
   "mimetype": "text/x-python",
   "name": "python",
   "nbconvert_exporter": "python",
   "pygments_lexer": "ipython3",
   "version": "3.10.8"
  },
  "orig_nbformat": 4,
  "vscode": {
   "interpreter": {
    "hash": "7600a12950a547366bb7a6732117e300ffd26224351912980486e1126c5d0f9a"
   }
  }
 },
 "nbformat": 4,
 "nbformat_minor": 2
}
