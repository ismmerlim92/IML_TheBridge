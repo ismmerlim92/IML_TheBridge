{
 "cells": [
  {
   "cell_type": "markdown",
   "metadata": {},
   "source": [
    "![imagen](./img/python.jpg)"
   ]
  },
  {
   "cell_type": "markdown",
   "metadata": {},
   "source": [
    "# Python Basics II\n",
    "\n",
    "#### Autor: [Daniel Ortiz López](https://www.linkedin.com/in/daniel-ortiz-l%C3%B3pez/)\n",
    "\n",
    "Ya hemos visto cómo declarar variables, qué tipos hay, y otras funcionalidades importantes de Python como sus flujos de ejecución o las formas que tenemos de comentar el código. En este Notebook aprenderás a realizar **operaciones con tus variables** y descubrirás las colecciones mediante uno de los objetos más usados en Python: **las listas**.\n",
    "\n",
    "1. [Operaciones aritméticas](#1.-Operaciones-aritméticas)\n",
    "2. [Operaciones comparativas](#2.-Operaciones-comparativas)\n",
    "3. [Operaciones con booleanos](#3.-Operaciones-con-booleanos)\n",
    "4. [Funciones *Built-in*](#4.-Funciones-Built-in)\n",
    "5. [Métodos](#5.-Métodos)\n",
    "6. [Listas](#6.-Listas)\n",
    "7. [Resumen](#7.-Resumen)"
   ]
  },
  {
   "cell_type": "markdown",
   "metadata": {},
   "source": [
    "## 1. Operaciones aritméticas\n",
    "En el Notebook *Python Basics I* ya vimos por encima las principales operaciones aritméticas en Python. Las recordamos:\n",
    "* Sumar: `+`\n",
    "* Restar: `-`\n",
    "* Multiplicar: `*`\n",
    "* Dividir: `/`\n",
    "* Elevar: `**`\n",
    "* Cociente division: `//`\n",
    "* Resto de la división: `%`"
   ]
  },
  {
   "cell_type": "markdown",
   "metadata": {},
   "source": [
    "<table align=\"left\">\n",
    " <tr><td width=\"80\"><img src=\"./img/ejercicio.png\" style=\"width:auto;height:auto\"></td>\n",
    "     <td style=\"text-align:left\">\n",
    "         <h3>Ejercicio de operaciones aritméticas</h3>\n",
    "\n",
    "      \n",
    "<ol>\n",
    "    <li>Declara una variable int</li>\n",
    "    <li>Declara otra variable float.</li>\n",
    "    <li>Suma ambas variables. ¿Qué tipo de dato es el resultado?</li>\n",
    "    <li>Multiplica ambas variables</li>\n",
    "    <li>Eleva una variable a la potencia de la otra</li>\n",
    "    <li>Calcula el resto de dividir 12/5</li>\n",
    "</ol>\n",
    "         \n",
    " </td></tr>\n",
    "</table>"
   ]
  },
  {
   "cell_type": "code",
   "execution_count": 9,
   "metadata": {},
   "outputs": [
    {
     "name": "stdout",
     "output_type": "stream",
     "text": [
      "12.5\n",
      "<class 'float'>\n",
      "25.0\n",
      "316.22776601683796\n",
      "2\n"
     ]
    }
   ],
   "source": [
    "num1 = 10\n",
    "num2 = 2.5\n",
    "num3 = num1 + num2\n",
    "print(num3)\n",
    "print(type(num3))\n",
    "\n",
    "num4 = num1 * num2\n",
    "print(num4)\n",
    "\n",
    "num5 = num1 ** num2\n",
    "print(num5)\n",
    "\n",
    "print(12 % 5)"
   ]
  },
  {
   "cell_type": "markdown",
   "metadata": {},
   "source": [
    "### Propiedad conmutativa, asociativa, distributiva y el paréntesis\n",
    "Si queremos concatenar varias operaciones, ten siempre en cuenta las propiedades matemáticas de la multiplicación"
   ]
  },
  {
   "cell_type": "code",
   "execution_count": 12,
   "metadata": {},
   "outputs": [
    {
     "name": "stdout",
     "output_type": "stream",
     "text": [
      "Conmutativa\n",
      "6\n",
      "6\n",
      "\n",
      "Distributiva\n",
      "16\n",
      "16\n",
      "\n",
      "Asociativa\n",
      "30\n",
      "30\n",
      "\n",
      "El Orden de operaciones se mantiene. Siempre podemos usar paréntesis\n",
      "50\n",
      "1.7272727272727273\n"
     ]
    }
   ],
   "source": [
    "print(\"Conmutativa\")\n",
    "print(2 * 3)\n",
    "print(3 * 2)\n",
    "\n",
    "print(\"\\nDistributiva\") # Recuerda que \"\\n\" se usa para que haya un salto de linea en el output.\n",
    "print(2 * (3 + 5))\n",
    "print(2 * 3 + 2 * 5)\n",
    "\n",
    "print(\"\\nAsociativa\")\n",
    "print((3 * 2) * 5)\n",
    "print(3 * (2 * 5))\n",
    "\n",
    "print(\"\\nEl Orden de operaciones se mantiene. Siempre podemos usar paréntesis\")\n",
    "print(2 * (2 + 3) * 5)\n",
    "print((2 * 2 + 3 * 5)/(4 + 7))"
   ]
  },
  {
   "cell_type": "markdown",
   "metadata": {},
   "source": [
    "### Operaciones más complejas\n",
    "Si salimos de las operaciones básicas de Python, tendremos que importar módulos con más funcionalidades en nuestro código. Esto lo haremos mediante la sentencia `import math`. `math` es un módulo con funciones ya predefinidas, que no vienen por defecto en el núcleo de Python. De esta forma será posible hacer cálculos más complejos como:\n",
    "\n",
    "* Raíz cuadrada\n",
    "* Seno/Coseno\n",
    "* Valor absoluto\n",
    "*...\n",
    "\n",
    "El módulo es completísimo y si estás buscando alguna operación matemática, lo más seguro es que ya esté implementada. Te dejo por aquí el [link a la documentación del módulo.](https://docs.python.org/3/library/math.html)."
   ]
  },
  {
   "cell_type": "code",
   "execution_count": 14,
   "metadata": {},
   "outputs": [
    {
     "data": {
      "text/plain": [
       "66"
      ]
     },
     "execution_count": 14,
     "metadata": {},
     "output_type": "execute_result"
    }
   ],
   "source": [
    "import math\n",
    "math.comb(12, 2)"
   ]
  },
  {
   "cell_type": "code",
   "execution_count": 15,
   "metadata": {},
   "outputs": [
    {
     "data": {
      "text/plain": [
       "5"
      ]
     },
     "execution_count": 15,
     "metadata": {},
     "output_type": "execute_result"
    }
   ],
   "source": [
    "math.ceil(4.1)"
   ]
  },
  {
   "cell_type": "code",
   "execution_count": 17,
   "metadata": {},
   "outputs": [
    {
     "data": {
      "text/plain": [
       "479001600"
      ]
     },
     "execution_count": 17,
     "metadata": {},
     "output_type": "execute_result"
    }
   ],
   "source": [
    "math.factorial(3)\n",
    "math.factorial(12)"
   ]
  },
  {
   "cell_type": "code",
   "execution_count": 18,
   "metadata": {},
   "outputs": [
    {
     "data": {
      "text/plain": [
       "66.0"
      ]
     },
     "execution_count": 18,
     "metadata": {},
     "output_type": "execute_result"
    }
   ],
   "source": [
    "# n! / (k! * (n - k)!)\n",
    "\n",
    "n = 12\n",
    "k = 2\n",
    "\n",
    "combs = math.factorial(n) / (math.factorial(k) * math.factorial(n - k))\n",
    "combs"
   ]
  },
  {
   "cell_type": "markdown",
   "metadata": {},
   "source": [
    "Como en todos los lenguajes de programación, suele haber una serie de componentes básicos (variables, operaciones aritméticas, tipos de datos...) con los que podemos hacer muchas cosas. Ahora bien, si queremos ampliar esas funcionalidades, se suelen importar nuevos módulos, con funciones ya hechas de otros usuarios, como en el caso del módulo `math`. Veremos esto de los módulos más adelante."
   ]
  },
  {
   "cell_type": "markdown",
   "metadata": {},
   "source": [
    "<table align=\"left\">\n",
    " <tr><td width=\"80\"><img src=\"./img/error.png\" style=\"width:auto;height:auto\"></td>\n",
    "     <td style=\"text-align:left\">\n",
    "         <h3>ERRORES Dividir por cero</h3>\n",
    "         \n",
    " </td></tr>\n",
    "</table>"
   ]
  },
  {
   "cell_type": "markdown",
   "metadata": {},
   "source": [
    "Cuidado cuando operamos con 0s. Las indeterminaciones y valores infinitos suponen errores en el código. Por suerte, la descripción de estos errores es bastante explícita, obteniendo un error de tipo `ZeroDivisionError`"
   ]
  },
  {
   "cell_type": "code",
   "execution_count": 19,
   "metadata": {},
   "outputs": [
    {
     "ename": "ZeroDivisionError",
     "evalue": "division by zero",
     "output_type": "error",
     "traceback": [
      "\u001b[1;31m---------------------------------------------------------------------------\u001b[0m",
      "\u001b[1;31mZeroDivisionError\u001b[0m                         Traceback (most recent call last)",
      "Cell \u001b[1;32mIn [19], line 1\u001b[0m\n\u001b[1;32m----> 1\u001b[0m \u001b[39m5\u001b[39;49m \u001b[39m/\u001b[39;49m \u001b[39m0\u001b[39;49m\n",
      "\u001b[1;31mZeroDivisionError\u001b[0m: division by zero"
     ]
    }
   ],
   "source": [
    "5 / 0"
   ]
  },
  {
   "cell_type": "code",
   "execution_count": 20,
   "metadata": {},
   "outputs": [
    {
     "ename": "ValueError",
     "evalue": "math domain error",
     "output_type": "error",
     "traceback": [
      "\u001b[1;31m---------------------------------------------------------------------------\u001b[0m",
      "\u001b[1;31mValueError\u001b[0m                                Traceback (most recent call last)",
      "Cell \u001b[1;32mIn [20], line 2\u001b[0m\n\u001b[0;32m      1\u001b[0m \u001b[39m# Hay valores que se salen del dominio de algunas funciones matemáticas, como es el caso de las raices de números negativos\u001b[39;00m\n\u001b[1;32m----> 2\u001b[0m math\u001b[39m.\u001b[39;49msqrt(\u001b[39m-\u001b[39;49m\u001b[39m10\u001b[39;49m)\n",
      "\u001b[1;31mValueError\u001b[0m: math domain error"
     ]
    }
   ],
   "source": [
    "# Hay valores que se salen del dominio de algunas funciones matemáticas, como es el caso de las raices de números negativos\n",
    "math.sqrt(-10)\n"
   ]
  },
  {
   "cell_type": "markdown",
   "metadata": {},
   "source": [
    "<table align=\"left\">\n",
    " <tr><td width=\"80\"><img src=\"./img/ejercicio.png\" style=\"width:auto;height:auto\"></td>\n",
    "     <td style=\"text-align:left\">\n",
    "         <h3>Ejercicio de operaciones con math</h3>\n",
    "\n",
    "Consulta la documentación de math para resolver este ejercicio \n",
    "<ol>\n",
    "    <li>Calcula el valor absoluto de -25. Usa fabs</li>\n",
    "    <li>Redondea 4.7 a su enero más bajo. Usa floor</li>\n",
    "    <li>Redondea 4.3 a su enero más alto. Usa ceil</li>\n",
    "    <li>El número pi</li>\n",
    "    <li>¿Cuál es el área de un círculo de radio 3?</li>\n",
    "</ol>\n",
    "         \n",
    " </td></tr>\n",
    "</table>"
   ]
  },
  {
   "cell_type": "code",
   "execution_count": 27,
   "metadata": {},
   "outputs": [
    {
     "name": "stdout",
     "output_type": "stream",
     "text": [
      "25.0\n",
      "4\n",
      "5\n",
      "3.141592653589793\n",
      "28.274333882308138\n"
     ]
    }
   ],
   "source": [
    "num1 = -25\n",
    "print(math.fabs(num1))\n",
    "\n",
    "num2 = 4.7\n",
    "print(math.floor(num2))\n",
    "\n",
    "num3 = 4.3\n",
    "print(math.ceil(num3))\n",
    "\n",
    "print(math.pi)\n",
    "\n",
    "radio = 3\n",
    "area = math.pi * radio**2\n",
    "print(area)"
   ]
  },
  {
   "cell_type": "markdown",
   "metadata": {},
   "source": [
    "## 2. Operaciones comparativas\n",
    "Es bastante intuitivo comparar valores en Python. La sintaxis es la siguiente:\n",
    "* `==`: Igualdad. No es un `=`. Hay que diferenciar entre una comparativa, y una asignación de valores\n",
    "* `!=`: Desigualdad\n",
    "* `>`: Mayor que\n",
    "* `<`: Menor que\n",
    "* `>=`: Mayor o igual que\n",
    "* `<=`: Menor o igual que"
   ]
  },
  {
   "cell_type": "code",
   "execution_count": 31,
   "metadata": {},
   "outputs": [
    {
     "data": {
      "text/plain": [
       "False"
      ]
     },
     "execution_count": 31,
     "metadata": {},
     "output_type": "execute_result"
    }
   ],
   "source": [
    "asign = 1\n",
    "asign == 5"
   ]
  },
  {
   "cell_type": "markdown",
   "metadata": {},
   "source": [
    "En la asignación estamos diciendole a Python que la variable `asign` vale 1, mientras que en la comparación, estamos preguntando a Python si `a` equivale a 5. Como vale 1, nos devuelve un `False`"
   ]
  },
  {
   "cell_type": "code",
   "execution_count": 45,
   "metadata": {},
   "outputs": [
    {
     "name": "stdout",
     "output_type": "stream",
     "text": [
      "True\n",
      "False\n",
      "True\n",
      "False\n",
      "True\n",
      "False\n",
      "False\n"
     ]
    }
   ],
   "source": [
    "print(asign > 0)\n",
    "print(asign < 1)\n",
    "print(asign <= 1)\n",
    "print(asign > 1)\n",
    "print(asign >= 1)\n",
    "print(type(asign) == type(1.))\n",
    "print(asign != 1)"
   ]
  },
  {
   "cell_type": "code",
   "execution_count": 47,
   "metadata": {},
   "outputs": [
    {
     "data": {
      "text/plain": [
       "False"
      ]
     },
     "execution_count": 47,
     "metadata": {},
     "output_type": "execute_result"
    }
   ],
   "source": [
    "\"1\" == 1"
   ]
  },
  {
   "cell_type": "code",
   "execution_count": 48,
   "metadata": {},
   "outputs": [
    {
     "data": {
      "text/plain": [
       "False"
      ]
     },
     "execution_count": 48,
     "metadata": {},
     "output_type": "execute_result"
    }
   ],
   "source": [
    "1.36 == 1"
   ]
  },
  {
   "cell_type": "code",
   "execution_count": 49,
   "metadata": {},
   "outputs": [
    {
     "data": {
      "text/plain": [
       "True"
      ]
     },
     "execution_count": 49,
     "metadata": {},
     "output_type": "execute_result"
    }
   ],
   "source": [
    "int(1.36) == 1"
   ]
  },
  {
   "cell_type": "markdown",
   "metadata": {},
   "source": [
    "<table align=\"left\">\n",
    " <tr><td width=\"80\"><img src=\"./img/error.png\" style=\"width:auto;height:auto\"></td>\n",
    "     <td style=\"text-align:left\">\n",
    "         <h3>ERRORES en comparativas</h3>\n",
    "         \n",
    " </td></tr>\n",
    "</table>"
   ]
  },
  {
   "cell_type": "markdown",
   "metadata": {},
   "source": [
    "Este tipo de errores son muy comunes, pues es muy habitual comparar peras con manzanas. Cuando se trata de una igualdad (`==`), no suele haber problemas, ya que si las variables son de distinto tipo, simplemente es `False`. Lo ideal sería que Python nos avisase de estas cosas porque realmente lo estamos haciendo mal, no estamos comparando cosas del mismo tipo"
   ]
  },
  {
   "cell_type": "code",
   "execution_count": 50,
   "metadata": {},
   "outputs": [
    {
     "data": {
      "text/plain": [
       "False"
      ]
     },
     "execution_count": 50,
     "metadata": {},
     "output_type": "execute_result"
    }
   ],
   "source": [
    "\"1\" == 1"
   ]
  },
  {
   "cell_type": "code",
   "execution_count": 52,
   "metadata": {},
   "outputs": [
    {
     "ename": "TypeError",
     "evalue": "'>' not supported between instances of 'str' and 'int'",
     "output_type": "error",
     "traceback": [
      "\u001b[1;31m---------------------------------------------------------------------------\u001b[0m",
      "\u001b[1;31mTypeError\u001b[0m                                 Traceback (most recent call last)",
      "Cell \u001b[1;32mIn [52], line 1\u001b[0m\n\u001b[1;32m----> 1\u001b[0m \u001b[39m\"\u001b[39;49m\u001b[39mHola\u001b[39;49m\u001b[39m\"\u001b[39;49m \u001b[39m>\u001b[39;49m \u001b[39m1\u001b[39;49m\n",
      "\u001b[1;31mTypeError\u001b[0m: '>' not supported between instances of 'str' and 'int'"
     ]
    }
   ],
   "source": [
    "\"Hola\" > 1"
   ]
  },
  {
   "cell_type": "code",
   "execution_count": 55,
   "metadata": {},
   "outputs": [
    {
     "data": {
      "text/plain": [
       "False"
      ]
     },
     "execution_count": 55,
     "metadata": {},
     "output_type": "execute_result"
    }
   ],
   "source": [
    "\"Hola\" > \"Adios\""
   ]
  },
  {
   "attachments": {},
   "cell_type": "markdown",
   "metadata": {},
   "source": [
    "&#128571;"
   ]
  },
  {
   "cell_type": "code",
   "execution_count": 74,
   "metadata": {},
   "outputs": [
    {
     "name": "stdout",
     "output_type": "stream",
     "text": [
      "😀\n"
     ]
    }
   ],
   "source": [
    "print(u'\\U0001F600')"
   ]
  },
  {
   "cell_type": "code",
   "execution_count": null,
   "metadata": {},
   "outputs": [],
   "source": [
    "# Obtenemos un TypeError cuando la comparativa es de > o <\n"
   ]
  },
  {
   "cell_type": "markdown",
   "metadata": {},
   "source": [
    "## 3. Operaciones con booleanos\n",
    "Todas las operaciones que realizabamos en el apartado anterior devolvían un tipo de dato concreto: un booleano. `True` o `False`. Pero ¿cómo harías si se tienen que cumplir 3 condiciones, o solo una de esas tres, o que no se cumplan 5 condiciones?\n",
    "Para este tipo de operaciones recurrimos al [*Álgebra de Boole*](https://es.wikipedia.org/wiki/%C3%81lgebra_de_Boole#:~:text=El%20%C3%A1lgebra%20de%20Boole%2C%20tambi%C3%A9n,que%20esquematiza%20las%20operaciones%20l%C3%B3gicas.). Se trata de una rama del álgebra que se utiliza en electrónica, pero que tiene un sin fin de aplicaciones, no solo téncicas, sino aplicables a la vida cotidiana. Estas matemáticas pueden llegar a ser muy complejas aún utilizando ñunicamente dos valores: `True` y `False`. Las operaciones más comunes son **AND, OR, NOR**.\n",
    "En las siguientes tablas tienes todos los posibles resultados de las puertas AND, OR, NOR, dependiendo de sus inputs.\n",
    "\n",
    "![imagen](./img/puertas_logicas.png)\n",
    "\n",
    "Puede parecer complejo pero a efectos prácticos, y sin meternos con otro tipo de puertas lógicas, te recomiendo seguir estas reglas:\n",
    "* **AND**: Se tienen que cumplir ambas condiciones para que sea un `True`\n",
    "* **OR**: Basta que se cumpla al menos una condicion para que sea `True`\n",
    "* **NOR**: Lo contrario de lo que haya\n",
    "\n",
    "Veamos un ejemplo práctico para aclarar estos conceptos. Imaginemos que queremos comprar un ordenador, pero nos cuesta decidirnos. Eso sí, tenemos claras las siguentes condiciones a la hora de elegir\n",
    "* La RAM me vale que tenga 16, 32 o 64 GB\n",
    "* En cuanto al procesador y disco duro, la combinación que mejor me viene es un i3 con 500GB de disco.\n",
    "* Precio: que no pase de los 800 €"
   ]
  },
  {
   "cell_type": "code",
   "execution_count": 78,
   "metadata": {},
   "outputs": [],
   "source": [
    "# Primer ordenador\n",
    "ram1 = 32\n",
    "process1 = \"i5\"\n",
    "disco1 = 500\n",
    "precio1 = 850\n",
    "\n",
    "# Segundo ordenador\n",
    "ram2 = 8\n",
    "process2 = \"i5\"\n",
    "disco2 = 500\n",
    "precio2 = 600\n",
    "\n",
    "# Tercer ordenador\n",
    "ram3 = 32\n",
    "process3 = \"i3\"\n",
    "disco3 = 500\n",
    "precio3 = 780"
   ]
  },
  {
   "cell_type": "code",
   "execution_count": 79,
   "metadata": {},
   "outputs": [],
   "source": [
    "# ¿Nos sirve el ordenador 1?\n",
    "cond1 = (ram1 == 16) or (ram1 == 32) or (ram1 == 64)\n",
    "cond2 = process1 == \"i3\"\n",
    "cond3 = disco1 == 500\n",
    "cond4 = precio1 <= 800"
   ]
  },
  {
   "cell_type": "code",
   "execution_count": 80,
   "metadata": {},
   "outputs": [
    {
     "name": "stdout",
     "output_type": "stream",
     "text": [
      "¿Compro el ordenador 1?: False\n"
     ]
    }
   ],
   "source": [
    "compro_ord1 = cond1 and cond2 and cond3 and cond4\n",
    "print(f\"¿Compro el ordenador 1?: {compro_ord1}\")"
   ]
  },
  {
   "cell_type": "code",
   "execution_count": 81,
   "metadata": {},
   "outputs": [],
   "source": [
    "# ¿Nos sirve el ordenador 2?\n",
    "cond1 = (ram2 == 16) or (ram2 == 32) or (ram2 == 64)\n",
    "cond2 = process2 == \"i3\"\n",
    "cond3 = disco2 == 500\n",
    "cond4 = precio2 <= 800"
   ]
  },
  {
   "cell_type": "code",
   "execution_count": 82,
   "metadata": {},
   "outputs": [
    {
     "name": "stdout",
     "output_type": "stream",
     "text": [
      "¿Compro el ordenador 2?: False\n"
     ]
    }
   ],
   "source": [
    "compro_ord2 = cond1 and cond2 and cond3 and cond4\n",
    "print(f\"¿Compro el ordenador 2?: {compro_ord2}\")"
   ]
  },
  {
   "cell_type": "code",
   "execution_count": 83,
   "metadata": {},
   "outputs": [],
   "source": [
    "# ¿Nos sirve el ordenador 3?\n",
    "cond1 = (ram3 == 16) or (ram3 == 32) or (ram3 == 64)\n",
    "cond2 = process3 == \"i3\"\n",
    "cond3 = disco3 == 500\n",
    "cond4 = precio3 <= 800"
   ]
  },
  {
   "cell_type": "code",
   "execution_count": 84,
   "metadata": {},
   "outputs": [
    {
     "name": "stdout",
     "output_type": "stream",
     "text": [
      "¿Compro el ordenador 3?: True\n"
     ]
    }
   ],
   "source": [
    "compro_ord3 = cond1 and cond2 and cond3 and cond4\n",
    "print(f\"¿Compro el ordenador 3?: {compro_ord3}\")"
   ]
  },
  {
   "cell_type": "markdown",
   "metadata": {},
   "source": [
    "Veamos cómo implemento esto mediante operaciones booleanas"
   ]
  },
  {
   "cell_type": "code",
   "execution_count": null,
   "metadata": {},
   "outputs": [],
   "source": [
    "# Primero, calculamos el valor de estas condiciones por separado\n",
    "cond_ram1 = (ram1 == 16 or ram1 == 32 or ram1 == 64) # OR: me vale al menos un True para que se cumpla esta condicion\n",
    "cond_process1 = (process1 == \"i3\" and disco1 == 500) # AND: se tienen que cumplir ambas\n",
    "cond_precio1 = (precio1 <= 800)"
   ]
  },
  {
   "cell_type": "code",
   "execution_count": null,
   "metadata": {},
   "outputs": [],
   "source": []
  },
  {
   "cell_type": "markdown",
   "metadata": {},
   "source": [
    "El primer ordenador cumple el requisito de ram, pero no los de precio y procesador/disco. Veamos los otros dos si los cumplen"
   ]
  },
  {
   "cell_type": "code",
   "execution_count": null,
   "metadata": {},
   "outputs": [],
   "source": [
    "cond_tot2 = (ram2 == 16 or ram2 == 32 or ram2 == 64) and (process2 == \"i3\" and disco2 == 500) and (precio2 <= 800)\n",
    "cond_tot3 = (ram3 == 16 or ram3 == 32 or ram3 == 64) and (process3 == \"i3\" and disco3 == 500) and (precio3 <= 800)\n",
    "\n",
    "print(\"Resultado de si me encaje el ordenador 2: \", cond_tot2)\n",
    "print(\"Resultado de si me encaje el ordenador 3: \", cond_tot3)"
   ]
  },
  {
   "cell_type": "markdown",
   "metadata": {},
   "source": [
    "¡Bingo! El tercer ordenador cumple todas las condiciones para ser mi futura compra. Verás en próximos notebooks que esto se puede hacer todavía más sencillo mediante bucles y funciones.\n",
    "\n",
    "Si quieres aprender más sobre el **Álgebra de Boole**, te recomiendo [esta página](https://ryanstutorials.net/boolean-algebra-tutorial/)"
   ]
  },
  {
   "cell_type": "markdown",
   "metadata": {},
   "source": [
    "<table align=\"left\">\n",
    " <tr><td width=\"80\"><img src=\"./img/error.png\" style=\"width:auto;height:auto\"></td>\n",
    "     <td style=\"text-align:left\">\n",
    "         <h3>ERRORES varios</h3>\n",
    "      \n",
    " </td></tr>\n",
    "</table>"
   ]
  },
  {
   "cell_type": "markdown",
   "metadata": {},
   "source": [
    "¡No me vas a creer cuando te diga que lo mejor que te puede pasar es que te salten errores por pantalla! Si, estos son los errores más fáciles de detectar y puede que también fáciles de corregir ya que tienes la ayuda del descriptivo del error. El problema gordo viene cuando no saltan errores y ves que tu código no lo está haciendo bien. Para ello tendremos que debugear el código y ver paso a paso que está pasando. Lo veremos en notebooks posteriores. De momento corregiremos el código revisandolo a ojo.\n",
    "\n",
    "Como ves en el siguiente ejemplo, el resultado del ordenador 3 es `False` cuando debería ser `True`. ¿Por qué?"
   ]
  },
  {
   "cell_type": "code",
   "execution_count": 86,
   "metadata": {},
   "outputs": [
    {
     "name": "stdout",
     "output_type": "stream",
     "text": [
      "Resultado de si me encaja el ordenador 3:  False\n"
     ]
    }
   ],
   "source": [
    "cond_tot3 = (ram3 == 16 or ram3 == 32 or ram3 == 64) and (process3 == \"i3\" and disco3 == 500) and (precio3 >= 800)\n",
    "\n",
    "print(\"Resultado de si me encaja el ordenador 3: \", cond_tot3)"
   ]
  },
  {
   "cell_type": "markdown",
   "metadata": {},
   "source": [
    "Cuidado cuando tenemos sentencias muy largas, ya que nos puede bailar perfectamente un paréntesis, un `>`, un `and` por un `or`... Hay que andarse con mil ojos.\n",
    "\n",
    "Y sobretodo, cuidado con el *copy paste*. Muchas veces, por ahorrar tiempo, copiamos código ya escrito para cambiar pequeñas cosas y hay veces que se nos olvida cambiar otras. Pensamos que está bien, ejecutamos, y saltan errores. Copiar código no es una mala práctica, es más, muchas veces evitamos errores con los nombres de las variables, pero hay que hacerlo con cabeza."
   ]
  },
  {
   "cell_type": "markdown",
   "metadata": {},
   "source": [
    "<table align=\"left\">\n",
    " <tr><td width=\"80\"><img src=\"./img/ejercicio.png\" style=\"width:auto;height:auto\"></td>\n",
    "     <td style=\"text-align:left\">\n",
    "         <h3>Ejercicio de operaciones con booleanos</h3>\n",
    "\n",
    "Sin escribir código, ¿Qué valor devuelve cada una de las siguientes operaciones?\n",
    "<ol>\n",
    "    <li>not (True and False)</li>\n",
    "    <li>False or False or False or False or False or False or True or False or False or False</li>\n",
    "    <li>True or True or True or True or True or False or True or True or True or True</li>\n",
    "    <li>(False and True and True) or (True and True)</li>\n",
    "</ol>\n",
    "         \n",
    " </td></tr>\n",
    "</table>"
   ]
  },
  {
   "attachments": {},
   "cell_type": "markdown",
   "metadata": {},
   "source": [
    "1. True\n",
    "2. True\n",
    "3. True\n",
    "4. True"
   ]
  },
  {
   "cell_type": "markdown",
   "metadata": {},
   "source": [
    "## 4. Funciones *Built in*\n",
    "Hay una serie de funciones internas, que vienen en el intérprete de Python. Algunas de las más comunes son:\n",
    "* **Tipos**: `bool()`, `str()`, `int()`, `float()`\n",
    "* **Min/Max**: `min()`, `max()`\n",
    "* **print()**\n",
    "* **type()**\n",
    "* **range()**\n",
    "* **zip()**\n",
    "* **len()**\n",
    "* ...\n",
    "\n",
    "La sintaxis de la función es:\n",
    "\n",
    "```Python\n",
    "nombre_funcion(argumentos)\n",
    "```\n",
    "\n",
    "Algunas ya las hemos visto. Sin embargo, hay unas cuantas que las iremos descubriendo a lo largo de estos notebooks. Para más detalle, tienes [aquí](https://docs.python.org/3/library/functions.html) todas las funciones *built-in* de la documentación.\n",
    "\n",
    "De momento, en lo que se refiere a funciones, vamos a ir trabajando con funciones ya hechas, pero más adelante crearemos nuestras propias funciones."
   ]
  },
  {
   "cell_type": "code",
   "execution_count": 88,
   "metadata": {},
   "outputs": [
    {
     "name": "stdout",
     "output_type": "stream",
     "text": [
      "\n",
      "Welcome to Python 3.10's help utility!\n",
      "\n",
      "If this is your first time using Python, you should definitely check out\n",
      "the tutorial on the internet at https://docs.python.org/3.10/tutorial/.\n",
      "\n",
      "Enter the name of any module, keyword, or topic to get help on writing\n",
      "Python programs and using Python modules.  To quit this help utility and\n",
      "return to the interpreter, just type \"quit\".\n",
      "\n",
      "To get a list of available modules, keywords, symbols, or topics, type\n",
      "\"modules\", \"keywords\", \"symbols\", or \"topics\".  Each module also comes\n",
      "with a one-line summary of what it does; to list the modules whose name\n",
      "or summary contain a given string such as \"spam\", type \"modules spam\".\n",
      "\n",
      "\n",
      "You are now leaving help and returning to the Python interpreter.\n",
      "If you want to ask for help on a particular object directly from the\n",
      "interpreter, you can type \"help(object)\".  Executing \"help('string')\"\n",
      "has the same effect as typing a particular string at the help> prompt.\n"
     ]
    }
   ],
   "source": [
    "help()"
   ]
  },
  {
   "cell_type": "code",
   "execution_count": 87,
   "metadata": {},
   "outputs": [
    {
     "data": {
      "text/plain": [
       "['__doc__',\n",
       " '__loader__',\n",
       " '__name__',\n",
       " '__package__',\n",
       " '__spec__',\n",
       " 'acos',\n",
       " 'acosh',\n",
       " 'asin',\n",
       " 'asinh',\n",
       " 'atan',\n",
       " 'atan2',\n",
       " 'atanh',\n",
       " 'ceil',\n",
       " 'comb',\n",
       " 'copysign',\n",
       " 'cos',\n",
       " 'cosh',\n",
       " 'degrees',\n",
       " 'dist',\n",
       " 'e',\n",
       " 'erf',\n",
       " 'erfc',\n",
       " 'exp',\n",
       " 'expm1',\n",
       " 'fabs',\n",
       " 'factorial',\n",
       " 'floor',\n",
       " 'fmod',\n",
       " 'frexp',\n",
       " 'fsum',\n",
       " 'gamma',\n",
       " 'gcd',\n",
       " 'hypot',\n",
       " 'inf',\n",
       " 'isclose',\n",
       " 'isfinite',\n",
       " 'isinf',\n",
       " 'isnan',\n",
       " 'isqrt',\n",
       " 'lcm',\n",
       " 'ldexp',\n",
       " 'lgamma',\n",
       " 'log',\n",
       " 'log10',\n",
       " 'log1p',\n",
       " 'log2',\n",
       " 'modf',\n",
       " 'nan',\n",
       " 'nextafter',\n",
       " 'perm',\n",
       " 'pi',\n",
       " 'pow',\n",
       " 'prod',\n",
       " 'radians',\n",
       " 'remainder',\n",
       " 'sin',\n",
       " 'sinh',\n",
       " 'sqrt',\n",
       " 'tan',\n",
       " 'tanh',\n",
       " 'tau',\n",
       " 'trunc',\n",
       " 'ulp']"
      ]
     },
     "execution_count": 87,
     "metadata": {},
     "output_type": "execute_result"
    }
   ],
   "source": [
    "dir(math)"
   ]
  },
  {
   "cell_type": "code",
   "execution_count": 95,
   "metadata": {},
   "outputs": [
    {
     "name": "stdout",
     "output_type": "stream",
     "text": [
      "18\n",
      "9999\n",
      "-1\n"
     ]
    }
   ],
   "source": [
    "# Len se usa para calcular la longitud de una variable. Ya veras que lo usaremos mucho en colecciones\n",
    "txt1 = \"Funciones Built-In\"\n",
    "print(len(txt1))\n",
    "\n",
    "# Funcion max. Tiene tantos argumentos como cantidad de números entre los cuales queramos sacar su valor máximo.\n",
    "print(max(1, 2, 3, 4, 5, -1, 9999))\n",
    "print(min(1, 2, 3, 4, 5, -1, 9999))"
   ]
  },
  {
   "cell_type": "markdown",
   "metadata": {},
   "source": [
    "<table align=\"left\">\n",
    " <tr><td width=\"80\"><img src=\"./img/ejercicio.png\" style=\"width:auto;height:auto\"></td>\n",
    "     <td style=\"text-align:left\">\n",
    "         <h3>Ejercicio de funciones built-in</h3>\n",
    "\n",
    "Busca <a href=\"https://docs.python.org/3/library/functions.html\">en la documentación</a> una función que te sirva para ordenar de manera descendente la siguiente lista\n",
    "         \n",
    " </td></tr>\n",
    "</table>"
   ]
  },
  {
   "cell_type": "code",
   "execution_count": 99,
   "metadata": {},
   "outputs": [
    {
     "data": {
      "text/plain": [
       "[0.21448220356783346,\n",
       " 0.1687460604181699,\n",
       " 0.31352186287510486,\n",
       " 0.05274832833576123,\n",
       " 1.5570857902729596,\n",
       " -0.28351951993353747,\n",
       " 0.5526035865364803,\n",
       " 0.9429160721831427,\n",
       " 0.20341875035188456,\n",
       " 1.0852228434815978]"
      ]
     },
     "execution_count": 99,
     "metadata": {},
     "output_type": "execute_result"
    }
   ],
   "source": [
    "import random\n",
    "random.seed(10)\n",
    "ls = [random.normalvariate(mu=0.0, sigma=1.0) for x in range(10)]\n",
    "ls"
   ]
  },
  {
   "cell_type": "code",
   "execution_count": 105,
   "metadata": {},
   "outputs": [
    {
     "data": {
      "text/plain": [
       "['c', 'C', 'B', 'a']"
      ]
     },
     "execution_count": 105,
     "metadata": {},
     "output_type": "execute_result"
    }
   ],
   "source": [
    "sorted([\"B\", \"c\", \"a\", \"C\"], reverse=True, key=str.lower)"
   ]
  },
  {
   "cell_type": "code",
   "execution_count": 101,
   "metadata": {},
   "outputs": [
    {
     "data": {
      "text/plain": [
       "[1.5570857902729596,\n",
       " 1.0852228434815978,\n",
       " 0.9429160721831427,\n",
       " 0.5526035865364803,\n",
       " 0.31352186287510486,\n",
       " 0.21448220356783346,\n",
       " 0.20341875035188456,\n",
       " 0.1687460604181699,\n",
       " 0.05274832833576123,\n",
       " -0.28351951993353747]"
      ]
     },
     "execution_count": 101,
     "metadata": {},
     "output_type": "execute_result"
    }
   ],
   "source": [
    "sorted(ls, reverse=True)"
   ]
  },
  {
   "cell_type": "markdown",
   "metadata": {},
   "source": [
    "## 5. Métodos\n",
    "Se trata de una propiedad MUY utilizada en programación. Son funciones propias de las variables/objetos, y que nos permiten modificarlos u obtener más información de los mismos. Dependiendo del tipo de objeto, tendremos unos métodos disponibles diferentes.\n",
    "\n",
    "Para usar un método se usa la sintaxis `objeto.metodo()`. Ponemos un punto entre el nombre del objeto y el del metodo, y unos paréntesis por si el método necesita de algunos argumentos. **Aunque no necesite de argumentos, los paréntesis hay que ponerlos igualmente.**\n",
    "\n",
    "Veamos algunos ejemplos\n",
    "\n",
    "### String\n",
    "Una variable de tipo string, tiene una serie de métodos que permiten sacarle jugo a la cadena de texto. [Aquí](https://docs.python.org/2.5/lib/string-methods.html) tienes todos los métodos que podemos usar en cadenas de texto"
   ]
  },
  {
   "cell_type": "code",
   "execution_count": 155,
   "metadata": {},
   "outputs": [],
   "source": [
    "txt = \"Dijo que entre hoy y ayer\"\n",
    "cnt = 0\n",
    "ls = []\n",
    "for i, letter in enumerate(txt):\n",
    "    if letter == \"y\":\n",
    "        ls.append(i)"
   ]
  },
  {
   "cell_type": "code",
   "execution_count": 156,
   "metadata": {},
   "outputs": [
    {
     "data": {
      "text/plain": [
       "[17, 19, 22]"
      ]
     },
     "execution_count": 156,
     "metadata": {},
     "output_type": "execute_result"
    }
   ],
   "source": [
    "ls"
   ]
  },
  {
   "cell_type": "code",
   "execution_count": 194,
   "metadata": {},
   "outputs": [
    {
     "name": "stdout",
     "output_type": "stream",
     "text": [
      " y ayer\n",
      " ayer\n",
      "er\n",
      "[17, 19, 22]\n"
     ]
    }
   ],
   "source": [
    "# Programa que nos dice los índices en los\n",
    "# que se encuentra un caracter `char` en un \n",
    "# string `txt`\n",
    "\n",
    "txt = \"Dijo que entre hoy y ayer\"\n",
    "char = \"y\"\n",
    "\n",
    "ls_idx = []\n",
    "j = 0\n",
    "while char in txt:\n",
    "    # Buscamos la primera aparición del caracter\n",
    "    idx = txt.index(char)\n",
    "    # Nos quedamos con el resto del string\n",
    "    txt = txt[idx+1:]\n",
    "    # Actualizamos el valor del índice\n",
    "    if j > 0:\n",
    "        j = j + idx + 1\n",
    "    else:\n",
    "        j = j + idx\n",
    "    # Actualizamos la lista de índices\n",
    "    ls_idx.append(j)\n",
    "\n",
    "print(ls_idx)\n"
   ]
  },
  {
   "cell_type": "code",
   "execution_count": 140,
   "metadata": {},
   "outputs": [
    {
     "name": "stdout",
     "output_type": "stream",
     "text": [
      "Todo mayusculas: STRING EN MAYUSCULAS\n",
      "Todo minusculas: string en mayusculas\n",
      "Sustituir m por M: string en Mayusculas\n",
      "Eliminar m: string en ayusculas\n",
      "Separalo segun el numero de espacios: ['string', 'en', 'mayusculas']\n",
      "'y' está en la posición: 12\n"
     ]
    }
   ],
   "source": [
    "string_ejemplo = \"string en mayusculas\"\n",
    "\n",
    "# Para poner un string todo en mayusculas\n",
    "print(\"Todo mayusculas:\", string_ejemplo.upper())\n",
    "\n",
    "# Para poner un string todo en minusculas\n",
    "print(\"Todo minusculas:\", string_ejemplo.lower())\n",
    "\n",
    "# Para sustituir caracteres. Dos argumentos (busca este string, sustituyelo por este otro)\n",
    "print(\"Sustituir m por M:\", string_ejemplo.replace(\"m\", \"M\"))\n",
    "\n",
    "# El replace también es muy útil cuando queremos eliminar caracteres. Sustituimos por vacío\n",
    "print(\"Eliminar m:\", string_ejemplo.replace(\"m\", \"\"))\n",
    "\n",
    "# Divide el string por un caracter en una LISTA\n",
    "print(\"Separalo segun el numero de espacios:\", string_ejemplo.split(\" \"))\n",
    "\n",
    "# Devuelve la posicion del caracter que le pongamos como argumento\n",
    "print(\"'y' está en la posición:\", string_ejemplo.index(\"y\"))\n"
   ]
  },
  {
   "cell_type": "markdown",
   "metadata": {},
   "source": [
    "Como ves, se pueden hacer muchas cosas en los Strings gracias a sus métodos. Ya verás cómo la cosa se pone más interesante cuando los tipos de los datos sean todavía más complejos.\n",
    "\n",
    "Los métodos son una manera de abstraernos de cierta operativa. Convertir todos los caracteres de una cadena a minuscula, puede ser un poco tedioso si no existiese el método `lower()`. Tendríamos que acudir a bucles o programación funcional."
   ]
  },
  {
   "cell_type": "markdown",
   "metadata": {},
   "source": [
    "<table align=\"left\">\n",
    " <tr><td width=\"80\"><img src=\"./img/error.png\" style=\"width:auto;height:auto\"></td>\n",
    "     <td style=\"text-align:left\">\n",
    "         <h3>ERRORES en métodos</h3>\n",
    "         \n",
    " </td></tr>\n",
    "</table>"
   ]
  },
  {
   "cell_type": "code",
   "execution_count": 164,
   "metadata": {
    "scrolled": true
   },
   "outputs": [
    {
     "data": {
      "text/plain": [
       "'oka'"
      ]
     },
     "execution_count": 164,
     "metadata": {},
     "output_type": "execute_result"
    }
   ],
   "source": [
    "# Cuando un método necesita ciertos argumentos, y no se los proporcionamos\n",
    "\"Hola\".replace(\"H\", \"\").replace(\"l\", \"k\")"
   ]
  },
  {
   "cell_type": "markdown",
   "metadata": {},
   "source": [
    "## 6. Listas\n",
    "Se trata de otro de los tipos de datos de Python más usados. Dentro de las colecciones, que veremos más adelante, la lista es la colección que normalmente se le da más uso. **Nos permiten almacenar conjuntos de variables u objetos**, y son elementos de lo más versátiles puesto que podemos almacenar objetos de distintos tipos, modificarlos, eliminarlos, meter listas dentro de listas... Sus dos caractrísticas principales son:\n",
    "* **Mutables**: una vez se ha creado la lista, se puede modificar\n",
    "* **Ordenada**: Los elementos tienen un cierto orden, lo que nos permite acceder al elemento que queramos teniendo en cuenta tal orden\n",
    "\n",
    "En cuanto a su sintaxis, cuando declaremos la lista simplemente hay que separar cada elemento con comas, y rodearlo todo con corchetes."
   ]
  },
  {
   "cell_type": "code",
   "execution_count": 165,
   "metadata": {},
   "outputs": [],
   "source": [
    "ls = [\"Hola\", 5, True, [\"a\", \"b\", \"c\"], print]"
   ]
  },
  {
   "cell_type": "code",
   "execution_count": 166,
   "metadata": {},
   "outputs": [
    {
     "data": {
      "text/plain": [
       "True"
      ]
     },
     "execution_count": 166,
     "metadata": {},
     "output_type": "execute_result"
    }
   ],
   "source": [
    "ls[2]"
   ]
  },
  {
   "cell_type": "code",
   "execution_count": 168,
   "metadata": {},
   "outputs": [
    {
     "name": "stdout",
     "output_type": "stream",
     "text": [
      "Hola\n"
     ]
    }
   ],
   "source": [
    "ls[-1](\"Hola\")"
   ]
  },
  {
   "cell_type": "code",
   "execution_count": 170,
   "metadata": {},
   "outputs": [],
   "source": [
    "ls[1] = 9"
   ]
  },
  {
   "cell_type": "code",
   "execution_count": 171,
   "metadata": {},
   "outputs": [
    {
     "data": {
      "text/plain": [
       "['Hola', 9, True, ['a', 'b', 'c'], <function print>]"
      ]
     },
     "execution_count": 171,
     "metadata": {},
     "output_type": "execute_result"
    }
   ],
   "source": [
    "ls"
   ]
  },
  {
   "cell_type": "code",
   "execution_count": 173,
   "metadata": {},
   "outputs": [
    {
     "ename": "TypeError",
     "evalue": "'tuple' object does not support item assignment",
     "output_type": "error",
     "traceback": [
      "\u001b[1;31m---------------------------------------------------------------------------\u001b[0m",
      "\u001b[1;31mTypeError\u001b[0m                                 Traceback (most recent call last)",
      "Cell \u001b[1;32mIn [173], line 2\u001b[0m\n\u001b[0;32m      1\u001b[0m tup \u001b[39m=\u001b[39m (\u001b[39m\"\u001b[39m\u001b[39mHola\u001b[39m\u001b[39m\"\u001b[39m, \u001b[39m5\u001b[39m, \u001b[39mTrue\u001b[39;00m, [\u001b[39m\"\u001b[39m\u001b[39ma\u001b[39m\u001b[39m\"\u001b[39m, \u001b[39m\"\u001b[39m\u001b[39mb\u001b[39m\u001b[39m\"\u001b[39m, \u001b[39m\"\u001b[39m\u001b[39mc\u001b[39m\u001b[39m\"\u001b[39m], \u001b[39mprint\u001b[39m)\n\u001b[1;32m----> 2\u001b[0m tup[\u001b[39m1\u001b[39;49m] \u001b[39m=\u001b[39m \u001b[39m9\u001b[39m\n",
      "\u001b[1;31mTypeError\u001b[0m: 'tuple' object does not support item assignment"
     ]
    }
   ],
   "source": [
    "tup = (\"Hola\", 5, True, [\"a\", \"b\", \"c\"], print)\n",
    "tup[1] = 9"
   ]
  },
  {
   "cell_type": "markdown",
   "metadata": {},
   "source": [
    "**NOTA**: ¿Ves por qué los decimales en Python siempre van con puntos y no con comas? Con las colecciones el intérprete de Python se volvería loco.\n",
    "\n",
    "Podemos ver tambien el tipo de la lista"
   ]
  },
  {
   "cell_type": "code",
   "execution_count": 175,
   "metadata": {},
   "outputs": [
    {
     "data": {
      "text/plain": [
       "('Hola', 5, True, ['a', 'b', 'c'], <function print>)"
      ]
     },
     "execution_count": 175,
     "metadata": {},
     "output_type": "execute_result"
    }
   ],
   "source": [
    "tup"
   ]
  },
  {
   "cell_type": "code",
   "execution_count": 176,
   "metadata": {},
   "outputs": [
    {
     "data": {
      "text/plain": [
       "['Hola', 5, True, ['a', 'b', 'c'], <function print>]"
      ]
     },
     "execution_count": 176,
     "metadata": {},
     "output_type": "execute_result"
    }
   ],
   "source": [
    "list(tup)"
   ]
  },
  {
   "cell_type": "code",
   "execution_count": 177,
   "metadata": {},
   "outputs": [
    {
     "data": {
      "text/plain": [
       "('Hola', 9, True, ['a', 'b', 'c'], <function print>)"
      ]
     },
     "execution_count": 177,
     "metadata": {},
     "output_type": "execute_result"
    }
   ],
   "source": [
    "tuple(ls)"
   ]
  },
  {
   "cell_type": "code",
   "execution_count": 174,
   "metadata": {},
   "outputs": [
    {
     "data": {
      "text/plain": [
       "list"
      ]
     },
     "execution_count": 174,
     "metadata": {},
     "output_type": "execute_result"
    }
   ],
   "source": [
    "type(ls)"
   ]
  },
  {
   "cell_type": "markdown",
   "metadata": {},
   "source": [
    "Calcular la longitud de la misma mediante el método *built-in* ya visto: `len()`"
   ]
  },
  {
   "cell_type": "code",
   "execution_count": 179,
   "metadata": {},
   "outputs": [
    {
     "data": {
      "text/plain": [
       "['Hola', 9, True, ['a', 'b', 'c'], <function print>]"
      ]
     },
     "execution_count": 179,
     "metadata": {},
     "output_type": "execute_result"
    }
   ],
   "source": [
    "ls"
   ]
  },
  {
   "cell_type": "code",
   "execution_count": 181,
   "metadata": {},
   "outputs": [
    {
     "data": {
      "text/plain": [
       "3"
      ]
     },
     "execution_count": 181,
     "metadata": {},
     "output_type": "execute_result"
    }
   ],
   "source": [
    "len(ls[3])"
   ]
  },
  {
   "cell_type": "code",
   "execution_count": 178,
   "metadata": {},
   "outputs": [
    {
     "data": {
      "text/plain": [
       "5"
      ]
     },
     "execution_count": 178,
     "metadata": {},
     "output_type": "execute_result"
    }
   ],
   "source": [
    "len(ls)"
   ]
  },
  {
   "cell_type": "markdown",
   "metadata": {},
   "source": [
    "Accedemos a los elemenos de la lista mediante corchetes `[]`\n",
    "\n",
    "**Importante**. El primer elemento es el 0"
   ]
  },
  {
   "cell_type": "code",
   "execution_count": 182,
   "metadata": {},
   "outputs": [
    {
     "data": {
      "text/plain": [
       "'Hola'"
      ]
     },
     "execution_count": 182,
     "metadata": {},
     "output_type": "execute_result"
    }
   ],
   "source": [
    "ls[0]"
   ]
  },
  {
   "cell_type": "code",
   "execution_count": 183,
   "metadata": {},
   "outputs": [
    {
     "data": {
      "text/plain": [
       "True"
      ]
     },
     "execution_count": 183,
     "metadata": {},
     "output_type": "execute_result"
    }
   ],
   "source": [
    "ls.pop(2)"
   ]
  },
  {
   "cell_type": "code",
   "execution_count": 184,
   "metadata": {},
   "outputs": [
    {
     "data": {
      "text/plain": [
       "['Hola', 9, ['a', 'b', 'c'], <function print>]"
      ]
     },
     "execution_count": 184,
     "metadata": {},
     "output_type": "execute_result"
    }
   ],
   "source": [
    "ls"
   ]
  },
  {
   "cell_type": "code",
   "execution_count": 185,
   "metadata": {},
   "outputs": [],
   "source": [
    "ls.append(False)"
   ]
  },
  {
   "cell_type": "code",
   "execution_count": 186,
   "metadata": {},
   "outputs": [
    {
     "data": {
      "text/plain": [
       "['Hola', 9, ['a', 'b', 'c'], <function print>, False]"
      ]
     },
     "execution_count": 186,
     "metadata": {},
     "output_type": "execute_result"
    }
   ],
   "source": [
    "ls"
   ]
  },
  {
   "cell_type": "code",
   "execution_count": 187,
   "metadata": {},
   "outputs": [],
   "source": [
    "ls.insert(3, \"Adios\")"
   ]
  },
  {
   "cell_type": "code",
   "execution_count": 188,
   "metadata": {},
   "outputs": [
    {
     "data": {
      "text/plain": [
       "['Hola', 9, ['a', 'b', 'c'], 'Adios', <function print>, False]"
      ]
     },
     "execution_count": 188,
     "metadata": {},
     "output_type": "execute_result"
    }
   ],
   "source": [
    "ls"
   ]
  },
  {
   "cell_type": "markdown",
   "metadata": {},
   "source": [
    "### Metodos en Listas\n",
    "Para el tipo de objeto lista, también hay una serie de métodos catacterísticos que nos permiten operar con ellas: añadir valores, quitarlos, indexado, filtrado, etc... En [este enlace](https://www.w3schools.com/python/python_ref_list.asp) puedes encontrar todos los métodos que podrás usar con listas."
   ]
  },
  {
   "cell_type": "code",
   "execution_count": null,
   "metadata": {},
   "outputs": [],
   "source": []
  },
  {
   "cell_type": "markdown",
   "metadata": {},
   "source": [
    "<table align=\"left\">\n",
    " <tr><td width=\"80\"><img src=\"./img/ejercicio.png\" style=\"width:auto;height:auto\"></td>\n",
    "     <td style=\"text-align:left\">\n",
    "         <h3>Ejercicio de listas</h3>\n",
    "\n",
    "<ol>\n",
    "    <li>Crea una lista con tus películas favoritas. No te pases de larga!</li>\n",
    "    <li>Imprime por pantalla la longitud de la lista</li>\n",
    "    <li>Añade a esta lista otra lista con tus series favoritas</li>\n",
    "</ol>\n",
    "         \n",
    " </td></tr>\n",
    "</table>"
   ]
  },
  {
   "cell_type": "code",
   "execution_count": 196,
   "metadata": {},
   "outputs": [
    {
     "name": "stdout",
     "output_type": "stream",
     "text": [
      "3\n"
     ]
    }
   ],
   "source": [
    "ls_pelis = [\"Harry Potter\", \"El Señor de los Anillos\", \"E.T.\"]\n",
    "print(len(ls_pelis))\n",
    "\n",
    "ls_series = [\"Stranger Things\", \"Narcos\"]\n",
    "ls_pelis.append(ls_series)"
   ]
  },
  {
   "cell_type": "code",
   "execution_count": 200,
   "metadata": {},
   "outputs": [
    {
     "name": "stdout",
     "output_type": "stream",
     "text": [
      "['Harry Potter', 'El Señor de los Anillos', 'E.T.', ['Stranger Things', 'Narcos']]\n"
     ]
    }
   ],
   "source": [
    "print(ls_pelis)"
   ]
  },
  {
   "cell_type": "code",
   "execution_count": 201,
   "metadata": {},
   "outputs": [
    {
     "name": "stdout",
     "output_type": "stream",
     "text": [
      "['Harry Potter', 'El Señor de los Anillos', 'E.T.', ['Stranger Things', 'Narcos'], 'Stranger Things', 'Narcos']\n"
     ]
    }
   ],
   "source": [
    "ls_pelis = ls_pelis + ls_series\n",
    "print(ls_pelis)"
   ]
  },
  {
   "cell_type": "code",
   "execution_count": 202,
   "metadata": {},
   "outputs": [],
   "source": [
    "ls_pelis.extend([\"a\", \"b\", \"c\"])"
   ]
  },
  {
   "cell_type": "code",
   "execution_count": 203,
   "metadata": {},
   "outputs": [
    {
     "data": {
      "text/plain": [
       "['Harry Potter',\n",
       " 'El Señor de los Anillos',\n",
       " 'E.T.',\n",
       " ['Stranger Things', 'Narcos'],\n",
       " 'Stranger Things',\n",
       " 'Narcos',\n",
       " 'a',\n",
       " 'b',\n",
       " 'c']"
      ]
     },
     "execution_count": 203,
     "metadata": {},
     "output_type": "execute_result"
    }
   ],
   "source": [
    "ls_pelis"
   ]
  },
  {
   "cell_type": "markdown",
   "metadata": {},
   "source": [
    "## 7. Resumen"
   ]
  },
  {
   "cell_type": "code",
   "execution_count": null,
   "metadata": {},
   "outputs": [],
   "source": [
    "# Operaciones matemáticas\n",
    "print(\"Operaciones matemáticas\")\n",
    "print(4 + 6)\n",
    "print(9*2)\n",
    "print(2 * (3 + 5))\n",
    "print(10/5)\n",
    "print(10 % 3)\n",
    "print(2**10)\n",
    "\n",
    "# Funciones matemáticas más complejas\n",
    "import math\n",
    "print(math.sqrt(25))\n",
    "\n",
    "\n",
    "# Operaciones comparativas\n",
    "print(\"\\nOperaciones comparativas\")\n",
    "print(\"AAA\" == \"BBB\")\n",
    "print(\"AAA\" == \"AAA\")\n",
    "print(1 == 1)\n",
    "print(1 == 1.0)\n",
    "print(67 != 93)\n",
    "print(67 > 93)\n",
    "print(67 >= 93)\n",
    "\n",
    "\n",
    "# Operaciones con booleanos\n",
    "print(\"\\nOperaciones con booleanos\")\n",
    "print(True and True and False)\n",
    "print(True or True or False)\n",
    "print(not False)\n",
    "\n",
    "\n",
    "# Funciones builtin\n",
    "print(\"\\nFunciones built-in\")\n",
    "string_builtin = \"Fin del notebook\"\n",
    "print(string_builtin.upper())\n",
    "print(string_builtin.lower())\n",
    "print( string_builtin.replace(\"o\", \"O\"))\n",
    "print(string_builtin.replace(\"o\", \"\"))\n",
    "\n",
    "\n",
    "# Listas\n",
    "print(\"\\nListas\")\n",
    "musica = [\"AC/DC\", \"Metallica\", \"Nirvana\"]\n",
    "musica.append(\"Queen\")\n",
    "print(musica)"
   ]
  }
 ],
 "metadata": {
  "kernelspec": {
   "display_name": "Python 3",
   "language": "python",
   "name": "python3"
  },
  "language_info": {
   "codemirror_mode": {
    "name": "ipython",
    "version": 3
   },
   "file_extension": ".py",
   "mimetype": "text/x-python",
   "name": "python",
   "nbconvert_exporter": "python",
   "pygments_lexer": "ipython3",
   "version": "3.10.8"
  },
  "vscode": {
   "interpreter": {
    "hash": "7600a12950a547366bb7a6732117e300ffd26224351912980486e1126c5d0f9a"
   }
  }
 },
 "nbformat": 4,
 "nbformat_minor": 4
}
