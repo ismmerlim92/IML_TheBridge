{
 "cells": [
  {
   "cell_type": "markdown",
   "metadata": {},
   "source": [
    "![imagen](./img/ejercicios.png)"
   ]
  },
  {
   "cell_type": "markdown",
   "metadata": {},
   "source": [
    "# Ejercicios Python Basics I"
   ]
  },
  {
   "cell_type": "code",
   "execution_count": 2,
   "metadata": {},
   "outputs": [
    {
     "name": "stdout",
     "output_type": "stream",
     "text": [
      "Setup complete! You're ready to start with PB I.\n"
     ]
    }
   ],
   "source": [
    "# import changedir\n",
    "from learntools.core import binder; binder.bind(globals())\n",
    "from learntools.thebridge.python_basics_i import *\n",
    "print(\"Setup complete! You're ready to start with PB I.\")"
   ]
  },
  {
   "cell_type": "markdown",
   "metadata": {},
   "source": [
    "## Ejercicio 1\n",
    "Imprime por pantalla esta cita con el siguiente formato\n",
    "\n",
    "![imagen](./img/frase_Einstein.PNG)"
   ]
  },
  {
   "cell_type": "code",
   "execution_count": 4,
   "metadata": {},
   "outputs": [],
   "source": [
    "# Asigna a la variable `msg`"
   ]
  },
  {
   "cell_type": "code",
   "execution_count": 3,
   "metadata": {
    "tags": [
     "hide-input"
    ]
   },
   "outputs": [
    {
     "data": {
      "application/vnd.jupyter.widget-view+json": {
       "model_id": "43374b037cea447d90227df3674cecde",
       "version_major": 2,
       "version_minor": 0
      },
      "text/plain": [
       "Button(description='Check', style=ButtonStyle(button_color='#cc5533', font_style='italic', font_weight='bold')…"
      ]
     },
     "metadata": {},
     "output_type": "display_data"
    },
    {
     "data": {
      "application/vnd.jupyter.widget-view+json": {
       "model_id": "590163a8a6bb42a09574d827fa07c22e",
       "version_major": 2,
       "version_minor": 0
      },
      "text/plain": [
       "Output()"
      ]
     },
     "metadata": {},
     "output_type": "display_data"
    },
    {
     "data": {
      "application/vnd.jupyter.widget-view+json": {
       "model_id": "34113880ca6942f7a1fe3d158c6da7a3",
       "version_major": 2,
       "version_minor": 0
      },
      "text/plain": [
       "Button(description='Hint 1', style=ButtonStyle(button_color='#3366cc', font_style='italic', font_weight='bold'…"
      ]
     },
     "metadata": {},
     "output_type": "display_data"
    },
    {
     "data": {
      "application/vnd.jupyter.widget-view+json": {
       "model_id": "cd10a1e86fbe4b5294532a7005028fc4",
       "version_major": 2,
       "version_minor": 0
      },
      "text/plain": [
       "Output()"
      ]
     },
     "metadata": {},
     "output_type": "display_data"
    },
    {
     "data": {
      "application/vnd.jupyter.widget-view+json": {
       "model_id": "e48a8ba861b64dee9961638a7bef6bbf",
       "version_major": 2,
       "version_minor": 0
      },
      "text/plain": [
       "Button(description='Hint 2', style=ButtonStyle(button_color='#3366cc', font_style='italic', font_weight='bold'…"
      ]
     },
     "metadata": {},
     "output_type": "display_data"
    },
    {
     "data": {
      "application/vnd.jupyter.widget-view+json": {
       "model_id": "2c5aa4e2f9474ebdac41019ade115ea4",
       "version_major": 2,
       "version_minor": 0
      },
      "text/plain": [
       "Output()"
      ]
     },
     "metadata": {},
     "output_type": "display_data"
    },
    {
     "data": {
      "application/vnd.jupyter.widget-view+json": {
       "model_id": "c432c441eaa6479aad354f4fa0875fa4",
       "version_major": 2,
       "version_minor": 0
      },
      "text/plain": [
       "Button(description='Hint 3', style=ButtonStyle(button_color='#3366cc', font_style='italic', font_weight='bold'…"
      ]
     },
     "metadata": {},
     "output_type": "display_data"
    },
    {
     "data": {
      "application/vnd.jupyter.widget-view+json": {
       "model_id": "65a281a804d944bc92dce6e11a915fb4",
       "version_major": 2,
       "version_minor": 0
      },
      "text/plain": [
       "Output()"
      ]
     },
     "metadata": {},
     "output_type": "display_data"
    },
    {
     "data": {
      "application/vnd.jupyter.widget-view+json": {
       "model_id": "b7e66d7ec4244ea78471c91e7b6f0e4a",
       "version_major": 2,
       "version_minor": 0
      },
      "text/plain": [
       "Button(description='Solution', style=ButtonStyle(button_color='#33cc99', font_style='italic', font_weight='bol…"
      ]
     },
     "metadata": {},
     "output_type": "display_data"
    },
    {
     "data": {
      "application/vnd.jupyter.widget-view+json": {
       "model_id": "967a43ec68ae41508c75f08afea6af87",
       "version_major": 2,
       "version_minor": 0
      },
      "text/plain": [
       "Output()"
      ]
     },
     "metadata": {},
     "output_type": "display_data"
    }
   ],
   "source": [
    "q0.display_buttons()"
   ]
  },
  {
   "cell_type": "markdown",
   "metadata": {},
   "source": [
    "## Ejercicio 2\n",
    "1. Escribe el nombre de la calle de tu domicilio\n",
    "2. Escribe el numero de la calle en otra\n",
    "3. Población en una tercera\n",
    "4. Codigo postal en la cuarta variable\n",
    "5. Crea una quinta variable que concatene todas ellas\n",
    "6. Imprimela por pantalla"
   ]
  },
  {
   "cell_type": "code",
   "execution_count": 4,
   "metadata": {},
   "outputs": [
    {
     "name": "stdout",
     "output_type": "stream",
     "text": [
      "Feria 3 Sevilla 41003\n"
     ]
    }
   ],
   "source": []
  },
  {
   "cell_type": "code",
   "execution_count": 5,
   "metadata": {},
   "outputs": [
    {
     "data": {
      "application/vnd.jupyter.widget-view+json": {
       "model_id": "f207eebd76a04836a0711fa9cfdbbe78",
       "version_major": 2,
       "version_minor": 0
      },
      "text/plain": [
       "Button(description='Hint 1', style=ButtonStyle(button_color='#3366cc', font_style='italic', font_weight='bold'…"
      ]
     },
     "metadata": {},
     "output_type": "display_data"
    },
    {
     "data": {
      "application/vnd.jupyter.widget-view+json": {
       "model_id": "75cf736a7a6740dabb7cc271be8ceeb9",
       "version_major": 2,
       "version_minor": 0
      },
      "text/plain": [
       "Output()"
      ]
     },
     "metadata": {},
     "output_type": "display_data"
    },
    {
     "data": {
      "application/vnd.jupyter.widget-view+json": {
       "model_id": "cc8d03cbd94d4ea599237813d3d24b1a",
       "version_major": 2,
       "version_minor": 0
      },
      "text/plain": [
       "Button(description='Hint 2', style=ButtonStyle(button_color='#3366cc', font_style='italic', font_weight='bold'…"
      ]
     },
     "metadata": {},
     "output_type": "display_data"
    },
    {
     "data": {
      "application/vnd.jupyter.widget-view+json": {
       "model_id": "7a9a96a6737b453680d5e9faba6e6f36",
       "version_major": 2,
       "version_minor": 0
      },
      "text/plain": [
       "Output()"
      ]
     },
     "metadata": {},
     "output_type": "display_data"
    },
    {
     "data": {
      "application/vnd.jupyter.widget-view+json": {
       "model_id": "bf5f60426b8747d9a96d5ebcb41ebb9f",
       "version_major": 2,
       "version_minor": 0
      },
      "text/plain": [
       "Button(description='Hint 3', style=ButtonStyle(button_color='#3366cc', font_style='italic', font_weight='bold'…"
      ]
     },
     "metadata": {},
     "output_type": "display_data"
    },
    {
     "data": {
      "application/vnd.jupyter.widget-view+json": {
       "model_id": "3c4f2a54833d4b9789a881b7024dc7c8",
       "version_major": 2,
       "version_minor": 0
      },
      "text/plain": [
       "Output()"
      ]
     },
     "metadata": {},
     "output_type": "display_data"
    },
    {
     "data": {
      "application/vnd.jupyter.widget-view+json": {
       "model_id": "0df7aefaad1444fcb0d4ca48cbddbf49",
       "version_major": 2,
       "version_minor": 0
      },
      "text/plain": [
       "Button(description='Solution', style=ButtonStyle(button_color='#33cc99', font_style='italic', font_weight='bol…"
      ]
     },
     "metadata": {},
     "output_type": "display_data"
    },
    {
     "data": {
      "application/vnd.jupyter.widget-view+json": {
       "model_id": "247e07a24cd947209a861d1d9ee716de",
       "version_major": 2,
       "version_minor": 0
      },
      "text/plain": [
       "Output()"
      ]
     },
     "metadata": {},
     "output_type": "display_data"
    }
   ],
   "source": [
    "q1.a.display_buttons()"
   ]
  },
  {
   "cell_type": "markdown",
   "metadata": {},
   "source": [
    "## Ejercicio 3\n",
    "Replica el output del ejercicio dos, pero está vez sin usar una variable intermedia que concatene todas las demas. Realiza este ejercicio en una línea, con un  único `print`"
   ]
  },
  {
   "cell_type": "code",
   "execution_count": 6,
   "metadata": {},
   "outputs": [
    {
     "data": {
      "application/vnd.jupyter.widget-view+json": {
       "model_id": "f2469c054f6b45aab081cc92886e49cd",
       "version_major": 2,
       "version_minor": 0
      },
      "text/plain": [
       "Button(description='Hint 1', style=ButtonStyle(button_color='#3366cc', font_style='italic', font_weight='bold'…"
      ]
     },
     "metadata": {},
     "output_type": "display_data"
    },
    {
     "data": {
      "application/vnd.jupyter.widget-view+json": {
       "model_id": "7dec0c53a49f4fe38361ed20e2e92902",
       "version_major": 2,
       "version_minor": 0
      },
      "text/plain": [
       "Output()"
      ]
     },
     "metadata": {},
     "output_type": "display_data"
    },
    {
     "data": {
      "application/vnd.jupyter.widget-view+json": {
       "model_id": "2c4c5521a23c46c1b0959494fa5933a5",
       "version_major": 2,
       "version_minor": 0
      },
      "text/plain": [
       "Button(description='Solution', style=ButtonStyle(button_color='#33cc99', font_style='italic', font_weight='bol…"
      ]
     },
     "metadata": {},
     "output_type": "display_data"
    },
    {
     "data": {
      "application/vnd.jupyter.widget-view+json": {
       "model_id": "cbb4d79b0c5c4060ab1d4af17118be87",
       "version_major": 2,
       "version_minor": 0
      },
      "text/plain": [
       "Output()"
      ]
     },
     "metadata": {},
     "output_type": "display_data"
    }
   ],
   "source": [
    "q1.b.display_buttons()"
   ]
  },
  {
   "cell_type": "markdown",
   "metadata": {},
   "source": [
    "## Ejercicio 4\n",
    "¿Qué variables están mal escritas y por qué? Realiza primero tu hipótesis y luego ejecuta las variables para comprobarlo. En ese orden :)\n",
    "\n",
    "\n",
    "1. mi_variable = \"Economía\"\n",
    "2. otra_var = \"Ejercicio\n",
    "3. True = \"Ejercicio\"\n",
    "4. mi variab1e = \"Alpha\"\n",
    "5. exec = True\n",
    "6. import = 40\n",
    "7. 81mi_variable = \"Agua\"\n",
    "8. mi_variable10 = 6"
   ]
  },
  {
   "cell_type": "markdown",
   "metadata": {},
   "source": [
    "1. \n",
    "2. \n",
    "3. \n",
    "4. \n",
    "5. \n",
    "6. \n",
    "7. \n",
    "8. "
   ]
  },
  {
   "cell_type": "code",
   "execution_count": 7,
   "metadata": {},
   "outputs": [
    {
     "data": {
      "application/vnd.jupyter.widget-view+json": {
       "model_id": "2b2bdea5648a42ecb44324bac9361207",
       "version_major": 2,
       "version_minor": 0
      },
      "text/plain": [
       "Button(description='Hint 1', style=ButtonStyle(button_color='#3366cc', font_style='italic', font_weight='bold'…"
      ]
     },
     "metadata": {},
     "output_type": "display_data"
    },
    {
     "data": {
      "application/vnd.jupyter.widget-view+json": {
       "model_id": "9ef161b407a848519510f3265201800f",
       "version_major": 2,
       "version_minor": 0
      },
      "text/plain": [
       "Output()"
      ]
     },
     "metadata": {},
     "output_type": "display_data"
    },
    {
     "data": {
      "application/vnd.jupyter.widget-view+json": {
       "model_id": "6eaa9d5d2c2345d593fe624b2f6a5ce4",
       "version_major": 2,
       "version_minor": 0
      },
      "text/plain": [
       "Button(description='Hint 2', style=ButtonStyle(button_color='#3366cc', font_style='italic', font_weight='bold'…"
      ]
     },
     "metadata": {},
     "output_type": "display_data"
    },
    {
     "data": {
      "application/vnd.jupyter.widget-view+json": {
       "model_id": "b34d9a2ff90a4766a3903ebdec2efb35",
       "version_major": 2,
       "version_minor": 0
      },
      "text/plain": [
       "Output()"
      ]
     },
     "metadata": {},
     "output_type": "display_data"
    },
    {
     "data": {
      "application/vnd.jupyter.widget-view+json": {
       "model_id": "19e284d20d4e43f7b2d611b196d35d1f",
       "version_major": 2,
       "version_minor": 0
      },
      "text/plain": [
       "Button(description='Solution', style=ButtonStyle(button_color='#33cc99', font_style='italic', font_weight='bol…"
      ]
     },
     "metadata": {},
     "output_type": "display_data"
    },
    {
     "data": {
      "application/vnd.jupyter.widget-view+json": {
       "model_id": "4ec08536d3a148f1bb527435a3176783",
       "version_major": 2,
       "version_minor": 0
      },
      "text/plain": [
       "Output()"
      ]
     },
     "metadata": {},
     "output_type": "display_data"
    }
   ],
   "source": [
    "q2.display_buttons()"
   ]
  },
  {
   "cell_type": "markdown",
   "metadata": {},
   "source": [
    "## Ejercicio 5\n",
    "Realiza un conversor de grados Celsius a Fahrenheit. El conversor tiene que recibir el input del usuario y devolver la conversión.\n",
    "\n",
    "La conversión de grados sigue la siguiente fórmula: F = (C × 9 / 5) + 32\n",
    "\n",
    "Haz el check con 100 Celsius"
   ]
  },
  {
   "cell_type": "code",
   "execution_count": 9,
   "metadata": {},
   "outputs": [],
   "source": [
    "# Asigna a las variables temp_f los grados Fahrenheit y temp_c los Celsius"
   ]
  },
  {
   "cell_type": "code",
   "execution_count": 10,
   "metadata": {},
   "outputs": [
    {
     "data": {
      "application/vnd.jupyter.widget-view+json": {
       "model_id": "8b2cde9b7dfc4f5384f261563315650c",
       "version_major": 2,
       "version_minor": 0
      },
      "text/plain": [
       "Button(description='Check', style=ButtonStyle(button_color='#cc5533', font_style='italic', font_weight='bold')…"
      ]
     },
     "metadata": {},
     "output_type": "display_data"
    },
    {
     "data": {
      "application/vnd.jupyter.widget-view+json": {
       "model_id": "f245d32c7f204fe498cc219e034c19df",
       "version_major": 2,
       "version_minor": 0
      },
      "text/plain": [
       "Output()"
      ]
     },
     "metadata": {},
     "output_type": "display_data"
    },
    {
     "data": {
      "application/vnd.jupyter.widget-view+json": {
       "model_id": "d379cf7d77be4f3d866ca5eddb3cacee",
       "version_major": 2,
       "version_minor": 0
      },
      "text/plain": [
       "Button(description='Hint 1', style=ButtonStyle(button_color='#3366cc', font_style='italic', font_weight='bold'…"
      ]
     },
     "metadata": {},
     "output_type": "display_data"
    },
    {
     "data": {
      "application/vnd.jupyter.widget-view+json": {
       "model_id": "b87b9869a8e741c1a2e5c7fc64bcb5ac",
       "version_major": 2,
       "version_minor": 0
      },
      "text/plain": [
       "Output()"
      ]
     },
     "metadata": {},
     "output_type": "display_data"
    },
    {
     "data": {
      "application/vnd.jupyter.widget-view+json": {
       "model_id": "242f59f84f5542bfbc828f3a56e02ee3",
       "version_major": 2,
       "version_minor": 0
      },
      "text/plain": [
       "Button(description='Hint 2', style=ButtonStyle(button_color='#3366cc', font_style='italic', font_weight='bold'…"
      ]
     },
     "metadata": {},
     "output_type": "display_data"
    },
    {
     "data": {
      "application/vnd.jupyter.widget-view+json": {
       "model_id": "ee53a80fdf544686936e37ef8ed19ddc",
       "version_major": 2,
       "version_minor": 0
      },
      "text/plain": [
       "Output()"
      ]
     },
     "metadata": {},
     "output_type": "display_data"
    },
    {
     "data": {
      "application/vnd.jupyter.widget-view+json": {
       "model_id": "265eca3e73ab467299e1b329119e9c06",
       "version_major": 2,
       "version_minor": 0
      },
      "text/plain": [
       "Button(description='Hint 3', style=ButtonStyle(button_color='#3366cc', font_style='italic', font_weight='bold'…"
      ]
     },
     "metadata": {},
     "output_type": "display_data"
    },
    {
     "data": {
      "application/vnd.jupyter.widget-view+json": {
       "model_id": "75fe011f298a4ccbae810aee328570db",
       "version_major": 2,
       "version_minor": 0
      },
      "text/plain": [
       "Output()"
      ]
     },
     "metadata": {},
     "output_type": "display_data"
    },
    {
     "data": {
      "application/vnd.jupyter.widget-view+json": {
       "model_id": "273573e7d7d0433ca9aead35ceb2e356",
       "version_major": 2,
       "version_minor": 0
      },
      "text/plain": [
       "Button(description='Hint 4', style=ButtonStyle(button_color='#3366cc', font_style='italic', font_weight='bold'…"
      ]
     },
     "metadata": {},
     "output_type": "display_data"
    },
    {
     "data": {
      "application/vnd.jupyter.widget-view+json": {
       "model_id": "b82de497b0ad40cabcec1b55f79f3abb",
       "version_major": 2,
       "version_minor": 0
      },
      "text/plain": [
       "Output()"
      ]
     },
     "metadata": {},
     "output_type": "display_data"
    },
    {
     "data": {
      "application/vnd.jupyter.widget-view+json": {
       "model_id": "58459b04d1bd4decac6ef62adeea2d38",
       "version_major": 2,
       "version_minor": 0
      },
      "text/plain": [
       "Button(description='Solution', style=ButtonStyle(button_color='#33cc99', font_style='italic', font_weight='bol…"
      ]
     },
     "metadata": {},
     "output_type": "display_data"
    },
    {
     "data": {
      "application/vnd.jupyter.widget-view+json": {
       "model_id": "54aa2bccdfa348aa94dea1d1f4e3efa0",
       "version_major": 2,
       "version_minor": 0
      },
      "text/plain": [
       "Output()"
      ]
     },
     "metadata": {},
     "output_type": "display_data"
    }
   ],
   "source": [
    "q3.a.display_buttons()"
   ]
  },
  {
   "cell_type": "markdown",
   "metadata": {},
   "source": [
    "## Ejercicio 6\n",
    "Comenta en la medida de lo posible el Ejercicio 5. Será suficiente con poner al menos un comentario de línea, y otro multilínea"
   ]
  },
  {
   "cell_type": "code",
   "execution_count": 11,
   "metadata": {},
   "outputs": [
    {
     "data": {
      "application/vnd.jupyter.widget-view+json": {
       "model_id": "6ccd27169ef440c1a1d5f730b10e92a2",
       "version_major": 2,
       "version_minor": 0
      },
      "text/plain": [
       "Button(description='Hint 1', style=ButtonStyle(button_color='#3366cc', font_style='italic', font_weight='bold'…"
      ]
     },
     "metadata": {},
     "output_type": "display_data"
    },
    {
     "data": {
      "application/vnd.jupyter.widget-view+json": {
       "model_id": "89ab2fb2fb9642cca7aabca0b1d5966b",
       "version_major": 2,
       "version_minor": 0
      },
      "text/plain": [
       "Output()"
      ]
     },
     "metadata": {},
     "output_type": "display_data"
    },
    {
     "data": {
      "application/vnd.jupyter.widget-view+json": {
       "model_id": "48a781f51eec4df191abdfcad4325db1",
       "version_major": 2,
       "version_minor": 0
      },
      "text/plain": [
       "Button(description='Solution', style=ButtonStyle(button_color='#33cc99', font_style='italic', font_weight='bol…"
      ]
     },
     "metadata": {},
     "output_type": "display_data"
    },
    {
     "data": {
      "application/vnd.jupyter.widget-view+json": {
       "model_id": "1f01631dc77d46859609e57ab53ed105",
       "version_major": 2,
       "version_minor": 0
      },
      "text/plain": [
       "Output()"
      ]
     },
     "metadata": {},
     "output_type": "display_data"
    }
   ],
   "source": [
    "q3.b.display_buttons()"
   ]
  }
 ],
 "metadata": {
  "hide_input": false,
  "kernelspec": {
   "display_name": "autocheck-venv",
   "language": "python",
   "name": "autocheck-venv"
  },
  "language_info": {
   "codemirror_mode": {
    "name": "ipython",
    "version": 3
   },
   "file_extension": ".py",
   "mimetype": "text/x-python",
   "name": "python",
   "nbconvert_exporter": "python",
   "pygments_lexer": "ipython3",
   "version": "3.7.4"
  },
  "toc": {
   "base_numbering": 1,
   "nav_menu": {},
   "number_sections": true,
   "sideBar": true,
   "skip_h1_title": false,
   "title_cell": "Table of Contents",
   "title_sidebar": "Contents",
   "toc_cell": false,
   "toc_position": {},
   "toc_section_display": true,
   "toc_window_display": true
  },
  "vscode": {
   "interpreter": {
    "hash": "8e4665cba7aa4b1b151ee1708284a3bd913c42c8c783ec2689ad9f7256e78c76"
   }
  }
 },
 "nbformat": 4,
 "nbformat_minor": 4
}
