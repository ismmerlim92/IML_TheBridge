{
 "cells": [
  {
   "cell_type": "markdown",
   "metadata": {},
   "source": [
    "![imagen](./img/ejercicios.png)"
   ]
  },
  {
   "cell_type": "code",
   "execution_count": 2,
   "metadata": {},
   "outputs": [
    {
     "name": "stdout",
     "output_type": "stream",
     "text": [
      "Setup complete! You're ready to start with PB I.\n"
     ]
    }
   ],
   "source": [
    "from learntools.core import binder; binder.bind(globals())\n",
    "from learntools.thebridge.python_basics_ii import *\n",
    "print(\"Setup complete! You're ready to start with PB I.\")"
   ]
  },
  {
   "cell_type": "markdown",
   "metadata": {},
   "source": [
    "# Ejercicios Python Basics II"
   ]
  },
  {
   "cell_type": "markdown",
   "metadata": {},
   "source": [
    "## Ejercicio 1\n",
    "* Crea dos variables numericas: un `int` llamado `var1` y un `float` llamado `var2`\n",
    "* Comprueba sus tipos\n",
    "* Sumalas en otra nueva que llamaremos `var3`\n",
    "* ¿De qué tipo es la nueva variable?"
   ]
  },
  {
   "cell_type": "code",
   "execution_count": 6,
   "metadata": {},
   "outputs": [
    {
     "name": "stdout",
     "output_type": "stream",
     "text": [
      "<class 'int'>\n",
      "<class 'float'>\n",
      "<class 'float'>\n",
      "10.0\n"
     ]
    }
   ],
   "source": []
  },
  {
   "cell_type": "code",
   "execution_count": 3,
   "metadata": {},
   "outputs": [
    {
     "data": {
      "application/vnd.jupyter.widget-view+json": {
       "model_id": "f68846a9af0045ae999a5685500ce498",
       "version_major": 2,
       "version_minor": 0
      },
      "text/plain": [
       "Button(description='Check', style=ButtonStyle(button_color='#cc5533', font_style='italic', font_weight='bold')…"
      ]
     },
     "metadata": {},
     "output_type": "display_data"
    },
    {
     "data": {
      "application/vnd.jupyter.widget-view+json": {
       "model_id": "d90b96d1641d4784ac2c0d1a87aebf5e",
       "version_major": 2,
       "version_minor": 0
      },
      "text/plain": [
       "Output()"
      ]
     },
     "metadata": {},
     "output_type": "display_data"
    },
    {
     "data": {
      "application/vnd.jupyter.widget-view+json": {
       "model_id": "def69f32178048ea9fbcbfe3da8f627d",
       "version_major": 2,
       "version_minor": 0
      },
      "text/plain": [
       "Button(description='Hint 1', style=ButtonStyle(button_color='#3366cc', font_style='italic', font_weight='bold'…"
      ]
     },
     "metadata": {},
     "output_type": "display_data"
    },
    {
     "data": {
      "application/vnd.jupyter.widget-view+json": {
       "model_id": "a3f3a7e72ca54b72975695b855f17501",
       "version_major": 2,
       "version_minor": 0
      },
      "text/plain": [
       "Output()"
      ]
     },
     "metadata": {},
     "output_type": "display_data"
    },
    {
     "data": {
      "application/vnd.jupyter.widget-view+json": {
       "model_id": "e08aeeee56904730a2275eaf1afac48a",
       "version_major": 2,
       "version_minor": 0
      },
      "text/plain": [
       "Button(description='Hint 2', style=ButtonStyle(button_color='#3366cc', font_style='italic', font_weight='bold'…"
      ]
     },
     "metadata": {},
     "output_type": "display_data"
    },
    {
     "data": {
      "application/vnd.jupyter.widget-view+json": {
       "model_id": "e7c254dc372e4110898e014f361ce270",
       "version_major": 2,
       "version_minor": 0
      },
      "text/plain": [
       "Output()"
      ]
     },
     "metadata": {},
     "output_type": "display_data"
    },
    {
     "data": {
      "application/vnd.jupyter.widget-view+json": {
       "model_id": "bd6908d7d14248c38aa75ec29b148a5a",
       "version_major": 2,
       "version_minor": 0
      },
      "text/plain": [
       "Button(description='Hint 3', style=ButtonStyle(button_color='#3366cc', font_style='italic', font_weight='bold'…"
      ]
     },
     "metadata": {},
     "output_type": "display_data"
    },
    {
     "data": {
      "application/vnd.jupyter.widget-view+json": {
       "model_id": "610f3a05d1664f3daf63987cdd124513",
       "version_major": 2,
       "version_minor": 0
      },
      "text/plain": [
       "Output()"
      ]
     },
     "metadata": {},
     "output_type": "display_data"
    },
    {
     "data": {
      "application/vnd.jupyter.widget-view+json": {
       "model_id": "65ffa93640a8454085e81c6b232756a9",
       "version_major": 2,
       "version_minor": 0
      },
      "text/plain": [
       "Button(description='Hint 4', style=ButtonStyle(button_color='#3366cc', font_style='italic', font_weight='bold'…"
      ]
     },
     "metadata": {},
     "output_type": "display_data"
    },
    {
     "data": {
      "application/vnd.jupyter.widget-view+json": {
       "model_id": "e2d186a4134c487b8dce9b48198fba03",
       "version_major": 2,
       "version_minor": 0
      },
      "text/plain": [
       "Output()"
      ]
     },
     "metadata": {},
     "output_type": "display_data"
    },
    {
     "data": {
      "application/vnd.jupyter.widget-view+json": {
       "model_id": "49fe6860d78c48be8322a6a39f2fd46f",
       "version_major": 2,
       "version_minor": 0
      },
      "text/plain": [
       "Button(description='Solution', style=ButtonStyle(button_color='#33cc99', font_style='italic', font_weight='bol…"
      ]
     },
     "metadata": {},
     "output_type": "display_data"
    },
    {
     "data": {
      "application/vnd.jupyter.widget-view+json": {
       "model_id": "f2cc061825d3424fb2761c312e4342b9",
       "version_major": 2,
       "version_minor": 0
      },
      "text/plain": [
       "Output()"
      ]
     },
     "metadata": {},
     "output_type": "display_data"
    }
   ],
   "source": [
    "q0.display_buttons()"
   ]
  },
  {
   "cell_type": "markdown",
   "metadata": {},
   "source": [
    "## Ejercicio 2\n",
    "Escribe un programa para pasar de grados a radianes. Hay que usar `input`. Recuerda que la conversión se realiza mediante\n",
    "\n",
    "radianes = grados*(pi/180)\n",
    "\n",
    "- Define la variable `degree` usando la función input\n",
    "- Define la variable `radian` usando la fórmula y `degree`\n",
    "- Muestra el resultado por pantalla\n",
    "- Haz el check con 180 grados"
   ]
  },
  {
   "cell_type": "code",
   "execution_count": null,
   "metadata": {},
   "outputs": [],
   "source": []
  },
  {
   "cell_type": "code",
   "execution_count": 4,
   "metadata": {},
   "outputs": [
    {
     "data": {
      "application/vnd.jupyter.widget-view+json": {
       "model_id": "9ccba7b7e1b244ac903dda6577cdfd52",
       "version_major": 2,
       "version_minor": 0
      },
      "text/plain": [
       "Button(description='Check', style=ButtonStyle(button_color='#cc5533', font_style='italic', font_weight='bold')…"
      ]
     },
     "metadata": {},
     "output_type": "display_data"
    },
    {
     "data": {
      "application/vnd.jupyter.widget-view+json": {
       "model_id": "3aeb1ada3abb47c497c66f0b73c55585",
       "version_major": 2,
       "version_minor": 0
      },
      "text/plain": [
       "Output()"
      ]
     },
     "metadata": {},
     "output_type": "display_data"
    },
    {
     "data": {
      "application/vnd.jupyter.widget-view+json": {
       "model_id": "0bc6ba515d524a5da5cfa8f0b1d2649b",
       "version_major": 2,
       "version_minor": 0
      },
      "text/plain": [
       "Button(description='Hint 1', style=ButtonStyle(button_color='#3366cc', font_style='italic', font_weight='bold'…"
      ]
     },
     "metadata": {},
     "output_type": "display_data"
    },
    {
     "data": {
      "application/vnd.jupyter.widget-view+json": {
       "model_id": "c84aea7208c74b3190e8824b28388d58",
       "version_major": 2,
       "version_minor": 0
      },
      "text/plain": [
       "Output()"
      ]
     },
     "metadata": {},
     "output_type": "display_data"
    },
    {
     "data": {
      "application/vnd.jupyter.widget-view+json": {
       "model_id": "8ee0dcf1b7ea43c6bfe823b806d422e6",
       "version_major": 2,
       "version_minor": 0
      },
      "text/plain": [
       "Button(description='Hint 2', style=ButtonStyle(button_color='#3366cc', font_style='italic', font_weight='bold'…"
      ]
     },
     "metadata": {},
     "output_type": "display_data"
    },
    {
     "data": {
      "application/vnd.jupyter.widget-view+json": {
       "model_id": "c382ee7674cf42d5b132e3402e926095",
       "version_major": 2,
       "version_minor": 0
      },
      "text/plain": [
       "Output()"
      ]
     },
     "metadata": {},
     "output_type": "display_data"
    },
    {
     "data": {
      "application/vnd.jupyter.widget-view+json": {
       "model_id": "0e82941500184abca7f4aa052e34735c",
       "version_major": 2,
       "version_minor": 0
      },
      "text/plain": [
       "Button(description='Hint 3', style=ButtonStyle(button_color='#3366cc', font_style='italic', font_weight='bold'…"
      ]
     },
     "metadata": {},
     "output_type": "display_data"
    },
    {
     "data": {
      "application/vnd.jupyter.widget-view+json": {
       "model_id": "97d5996ff92345c1bddfd7bcddea4fd7",
       "version_major": 2,
       "version_minor": 0
      },
      "text/plain": [
       "Output()"
      ]
     },
     "metadata": {},
     "output_type": "display_data"
    },
    {
     "data": {
      "application/vnd.jupyter.widget-view+json": {
       "model_id": "66818d62dc6e432ebe5b1117f324d9d8",
       "version_major": 2,
       "version_minor": 0
      },
      "text/plain": [
       "Button(description='Hint 4', style=ButtonStyle(button_color='#3366cc', font_style='italic', font_weight='bold'…"
      ]
     },
     "metadata": {},
     "output_type": "display_data"
    },
    {
     "data": {
      "application/vnd.jupyter.widget-view+json": {
       "model_id": "1017a1b5c9474924be02b6f1131237ab",
       "version_major": 2,
       "version_minor": 0
      },
      "text/plain": [
       "Output()"
      ]
     },
     "metadata": {},
     "output_type": "display_data"
    },
    {
     "data": {
      "application/vnd.jupyter.widget-view+json": {
       "model_id": "71f65c5f0b63458880e983e435300773",
       "version_major": 2,
       "version_minor": 0
      },
      "text/plain": [
       "Button(description='Solution', style=ButtonStyle(button_color='#33cc99', font_style='italic', font_weight='bol…"
      ]
     },
     "metadata": {},
     "output_type": "display_data"
    },
    {
     "data": {
      "application/vnd.jupyter.widget-view+json": {
       "model_id": "fa57ebe20f494236ae1ba8da85f29f88",
       "version_major": 2,
       "version_minor": 0
      },
      "text/plain": [
       "Output()"
      ]
     },
     "metadata": {},
     "output_type": "display_data"
    }
   ],
   "source": [
    "q1.display_buttons()"
   ]
  },
  {
   "cell_type": "markdown",
   "metadata": {},
   "source": [
    "## Ejercicio 3\n",
    "Escribe un programa que calcule el area de un paralelogramo (base x altura). También con `input`\n",
    "\n",
    "**Nota**: Llama a las variables `base`, `height` y `area` y haz check con base 10 y altura 15"
   ]
  },
  {
   "cell_type": "code",
   "execution_count": null,
   "metadata": {},
   "outputs": [],
   "source": []
  },
  {
   "cell_type": "code",
   "execution_count": 5,
   "metadata": {},
   "outputs": [
    {
     "data": {
      "application/vnd.jupyter.widget-view+json": {
       "model_id": "fb0d191a696e48b2a2261dad66970dc0",
       "version_major": 2,
       "version_minor": 0
      },
      "text/plain": [
       "Button(description='Check', style=ButtonStyle(button_color='#cc5533', font_style='italic', font_weight='bold')…"
      ]
     },
     "metadata": {},
     "output_type": "display_data"
    },
    {
     "data": {
      "application/vnd.jupyter.widget-view+json": {
       "model_id": "77d45ac8da054dd1bddbb06b173363f2",
       "version_major": 2,
       "version_minor": 0
      },
      "text/plain": [
       "Output()"
      ]
     },
     "metadata": {},
     "output_type": "display_data"
    },
    {
     "data": {
      "application/vnd.jupyter.widget-view+json": {
       "model_id": "a8715f5779794467bbc0ce29d681a489",
       "version_major": 2,
       "version_minor": 0
      },
      "text/plain": [
       "Button(description='Hint 1', style=ButtonStyle(button_color='#3366cc', font_style='italic', font_weight='bold'…"
      ]
     },
     "metadata": {},
     "output_type": "display_data"
    },
    {
     "data": {
      "application/vnd.jupyter.widget-view+json": {
       "model_id": "204b5b8a79cc4b1090f9f73686059bd8",
       "version_major": 2,
       "version_minor": 0
      },
      "text/plain": [
       "Output()"
      ]
     },
     "metadata": {},
     "output_type": "display_data"
    },
    {
     "data": {
      "application/vnd.jupyter.widget-view+json": {
       "model_id": "26c4350b947448feb255ac9e357a690b",
       "version_major": 2,
       "version_minor": 0
      },
      "text/plain": [
       "Button(description='Hint 2', style=ButtonStyle(button_color='#3366cc', font_style='italic', font_weight='bold'…"
      ]
     },
     "metadata": {},
     "output_type": "display_data"
    },
    {
     "data": {
      "application/vnd.jupyter.widget-view+json": {
       "model_id": "16ef96d0389b4de29f8177c2bd9f3527",
       "version_major": 2,
       "version_minor": 0
      },
      "text/plain": [
       "Output()"
      ]
     },
     "metadata": {},
     "output_type": "display_data"
    },
    {
     "data": {
      "application/vnd.jupyter.widget-view+json": {
       "model_id": "ff659e571aaf4eaf9541a6dec86eeea1",
       "version_major": 2,
       "version_minor": 0
      },
      "text/plain": [
       "Button(description='Hint 3', style=ButtonStyle(button_color='#3366cc', font_style='italic', font_weight='bold'…"
      ]
     },
     "metadata": {},
     "output_type": "display_data"
    },
    {
     "data": {
      "application/vnd.jupyter.widget-view+json": {
       "model_id": "d5ae7a5a2e33402d8ef304c5190bcd08",
       "version_major": 2,
       "version_minor": 0
      },
      "text/plain": [
       "Output()"
      ]
     },
     "metadata": {},
     "output_type": "display_data"
    },
    {
     "data": {
      "application/vnd.jupyter.widget-view+json": {
       "model_id": "01a36508f29d43de89e0b42d3a1ec060",
       "version_major": 2,
       "version_minor": 0
      },
      "text/plain": [
       "Button(description='Hint 4', style=ButtonStyle(button_color='#3366cc', font_style='italic', font_weight='bold'…"
      ]
     },
     "metadata": {},
     "output_type": "display_data"
    },
    {
     "data": {
      "application/vnd.jupyter.widget-view+json": {
       "model_id": "dd97e96be5e84a22a3e6cd0e4d8a0a1c",
       "version_major": 2,
       "version_minor": 0
      },
      "text/plain": [
       "Output()"
      ]
     },
     "metadata": {},
     "output_type": "display_data"
    },
    {
     "data": {
      "application/vnd.jupyter.widget-view+json": {
       "model_id": "431f7bc19a2047c68c8b8cd733d3ffff",
       "version_major": 2,
       "version_minor": 0
      },
      "text/plain": [
       "Button(description='Solution', style=ButtonStyle(button_color='#33cc99', font_style='italic', font_weight='bol…"
      ]
     },
     "metadata": {},
     "output_type": "display_data"
    },
    {
     "data": {
      "application/vnd.jupyter.widget-view+json": {
       "model_id": "80d90230e4524646a781af7cabd7b949",
       "version_major": 2,
       "version_minor": 0
      },
      "text/plain": [
       "Output()"
      ]
     },
     "metadata": {},
     "output_type": "display_data"
    }
   ],
   "source": [
    "q2.display_buttons()"
   ]
  },
  {
   "cell_type": "markdown",
   "metadata": {},
   "source": [
    "## Ejercicio 4\n",
    "Tenemos las siguientes variables:\n",
    "\n",
    "```Python\n",
    "A = 4\n",
    "B = \"Text\"\n",
    "C = 4.1\n",
    "```\n",
    "\n",
    "Comprueba:\n",
    "1. Si A y B son equivalentes\n",
    "2. Si A y C NO son equivalentes\n",
    "3. Si A es mayor que C \n",
    "4. Si C es menor o igual que A\n",
    "5. Si B NO es equivalente a C"
   ]
  },
  {
   "cell_type": "code",
   "execution_count": null,
   "metadata": {},
   "outputs": [],
   "source": []
  },
  {
   "cell_type": "code",
   "execution_count": 6,
   "metadata": {},
   "outputs": [
    {
     "data": {
      "application/vnd.jupyter.widget-view+json": {
       "model_id": "a8a1f867cdc046ab82348adb8f061f5e",
       "version_major": 2,
       "version_minor": 0
      },
      "text/plain": [
       "Button(description='Hint 1', style=ButtonStyle(button_color='#3366cc', font_style='italic', font_weight='bold'…"
      ]
     },
     "metadata": {},
     "output_type": "display_data"
    },
    {
     "data": {
      "application/vnd.jupyter.widget-view+json": {
       "model_id": "2fc62fdaa3b74a9b949a5e9eb77be451",
       "version_major": 2,
       "version_minor": 0
      },
      "text/plain": [
       "Output()"
      ]
     },
     "metadata": {},
     "output_type": "display_data"
    },
    {
     "data": {
      "application/vnd.jupyter.widget-view+json": {
       "model_id": "02963816a07842789795bba949841266",
       "version_major": 2,
       "version_minor": 0
      },
      "text/plain": [
       "Button(description='Hint 2', style=ButtonStyle(button_color='#3366cc', font_style='italic', font_weight='bold'…"
      ]
     },
     "metadata": {},
     "output_type": "display_data"
    },
    {
     "data": {
      "application/vnd.jupyter.widget-view+json": {
       "model_id": "54f497f2faf047d5a4af9671e627fe7d",
       "version_major": 2,
       "version_minor": 0
      },
      "text/plain": [
       "Output()"
      ]
     },
     "metadata": {},
     "output_type": "display_data"
    },
    {
     "data": {
      "application/vnd.jupyter.widget-view+json": {
       "model_id": "22a401f9f299447296cd5023267a4be4",
       "version_major": 2,
       "version_minor": 0
      },
      "text/plain": [
       "Button(description='Hint 3', style=ButtonStyle(button_color='#3366cc', font_style='italic', font_weight='bold'…"
      ]
     },
     "metadata": {},
     "output_type": "display_data"
    },
    {
     "data": {
      "application/vnd.jupyter.widget-view+json": {
       "model_id": "15d571eee03c43abac56c17b484ce212",
       "version_major": 2,
       "version_minor": 0
      },
      "text/plain": [
       "Output()"
      ]
     },
     "metadata": {},
     "output_type": "display_data"
    },
    {
     "data": {
      "application/vnd.jupyter.widget-view+json": {
       "model_id": "7aba48398ba04230a4c8b10868d5b80a",
       "version_major": 2,
       "version_minor": 0
      },
      "text/plain": [
       "Button(description='Solution', style=ButtonStyle(button_color='#33cc99', font_style='italic', font_weight='bol…"
      ]
     },
     "metadata": {},
     "output_type": "display_data"
    },
    {
     "data": {
      "application/vnd.jupyter.widget-view+json": {
       "model_id": "d9d10a0323e142cdb052628ac4cefbe0",
       "version_major": 2,
       "version_minor": 0
      },
      "text/plain": [
       "Output()"
      ]
     },
     "metadata": {},
     "output_type": "display_data"
    }
   ],
   "source": [
    "q3.display_buttons()"
   ]
  },
  {
   "cell_type": "markdown",
   "metadata": {},
   "source": [
    "## Ejercicio 5\n",
    "Crea un programa donde se recojan dos inputs del usuario, y el output del programa sea si esos inputs son iguales o no.\n",
    "\n",
    "Llama a las variables `in_1`, `in_2`"
   ]
  },
  {
   "cell_type": "code",
   "execution_count": null,
   "metadata": {},
   "outputs": [],
   "source": []
  },
  {
   "cell_type": "code",
   "execution_count": 7,
   "metadata": {},
   "outputs": [
    {
     "data": {
      "application/vnd.jupyter.widget-view+json": {
       "model_id": "dfb093ee89cf4baa9dc13e671f76611d",
       "version_major": 2,
       "version_minor": 0
      },
      "text/plain": [
       "Button(description='Hint 1', style=ButtonStyle(button_color='#3366cc', font_style='italic', font_weight='bold'…"
      ]
     },
     "metadata": {},
     "output_type": "display_data"
    },
    {
     "data": {
      "application/vnd.jupyter.widget-view+json": {
       "model_id": "3e2b1842ef8b4915bc37b12ce5442c8f",
       "version_major": 2,
       "version_minor": 0
      },
      "text/plain": [
       "Output()"
      ]
     },
     "metadata": {},
     "output_type": "display_data"
    },
    {
     "data": {
      "application/vnd.jupyter.widget-view+json": {
       "model_id": "99a500e665784e529f1f7ba41ff86a4d",
       "version_major": 2,
       "version_minor": 0
      },
      "text/plain": [
       "Button(description='Hint 2', style=ButtonStyle(button_color='#3366cc', font_style='italic', font_weight='bold'…"
      ]
     },
     "metadata": {},
     "output_type": "display_data"
    },
    {
     "data": {
      "application/vnd.jupyter.widget-view+json": {
       "model_id": "21332a7fcf8c4c48b3096cbdf2653d6b",
       "version_major": 2,
       "version_minor": 0
      },
      "text/plain": [
       "Output()"
      ]
     },
     "metadata": {},
     "output_type": "display_data"
    },
    {
     "data": {
      "application/vnd.jupyter.widget-view+json": {
       "model_id": "e64bd1224e534522a67afe6778086427",
       "version_major": 2,
       "version_minor": 0
      },
      "text/plain": [
       "Button(description='Hint 3', style=ButtonStyle(button_color='#3366cc', font_style='italic', font_weight='bold'…"
      ]
     },
     "metadata": {},
     "output_type": "display_data"
    },
    {
     "data": {
      "application/vnd.jupyter.widget-view+json": {
       "model_id": "6f882e7a8c4e4e6ca3791ecf9a01dd7a",
       "version_major": 2,
       "version_minor": 0
      },
      "text/plain": [
       "Output()"
      ]
     },
     "metadata": {},
     "output_type": "display_data"
    },
    {
     "data": {
      "application/vnd.jupyter.widget-view+json": {
       "model_id": "f6fbc60029da4ef698c672d80ce3d53b",
       "version_major": 2,
       "version_minor": 0
      },
      "text/plain": [
       "Button(description='Hint 4', style=ButtonStyle(button_color='#3366cc', font_style='italic', font_weight='bold'…"
      ]
     },
     "metadata": {},
     "output_type": "display_data"
    },
    {
     "data": {
      "application/vnd.jupyter.widget-view+json": {
       "model_id": "9df1d4ec387a4144b185ed326bb1999a",
       "version_major": 2,
       "version_minor": 0
      },
      "text/plain": [
       "Output()"
      ]
     },
     "metadata": {},
     "output_type": "display_data"
    },
    {
     "data": {
      "application/vnd.jupyter.widget-view+json": {
       "model_id": "ed21fdf94d514170a20a5edea6cd0266",
       "version_major": 2,
       "version_minor": 0
      },
      "text/plain": [
       "Button(description='Hint 5', style=ButtonStyle(button_color='#3366cc', font_style='italic', font_weight='bold'…"
      ]
     },
     "metadata": {},
     "output_type": "display_data"
    },
    {
     "data": {
      "application/vnd.jupyter.widget-view+json": {
       "model_id": "ca87ff2de2c64c84932069c1f68ec680",
       "version_major": 2,
       "version_minor": 0
      },
      "text/plain": [
       "Output()"
      ]
     },
     "metadata": {},
     "output_type": "display_data"
    },
    {
     "data": {
      "application/vnd.jupyter.widget-view+json": {
       "model_id": "89c69c2c238e491eb2cf64e7c97d82f4",
       "version_major": 2,
       "version_minor": 0
      },
      "text/plain": [
       "Button(description='Solution', style=ButtonStyle(button_color='#33cc99', font_style='italic', font_weight='bol…"
      ]
     },
     "metadata": {},
     "output_type": "display_data"
    },
    {
     "data": {
      "application/vnd.jupyter.widget-view+json": {
       "model_id": "484ca6f03fb74ad28c428c372c5f0ea3",
       "version_major": 2,
       "version_minor": 0
      },
      "text/plain": [
       "Output()"
      ]
     },
     "metadata": {},
     "output_type": "display_data"
    }
   ],
   "source": [
    "q4.a.display_buttons()"
   ]
  },
  {
   "cell_type": "markdown",
   "metadata": {},
   "source": [
    "## Ejercicio 6\n",
    "Mismo programa que en 5, pero en esta ocasión tienen que ser tres inputs y dos salidas. Una de las salidas que nos indique si todos son iguales, y la otra si al menos dos inputs sí que lo son.\n",
    "\n",
    "Llama a las variables `inp_1`, `inp_2`, `inp_3` para los inputs y `todos` y `dos` para los resultados.\n",
    "\n",
    "**Nota**: Haz el check con los inputs a, a, b"
   ]
  },
  {
   "cell_type": "code",
   "execution_count": null,
   "metadata": {},
   "outputs": [],
   "source": []
  },
  {
   "cell_type": "code",
   "execution_count": 8,
   "metadata": {},
   "outputs": [
    {
     "data": {
      "application/vnd.jupyter.widget-view+json": {
       "model_id": "82179d3b6eee43c2a5f9234b070a3049",
       "version_major": 2,
       "version_minor": 0
      },
      "text/plain": [
       "Button(description='Check', style=ButtonStyle(button_color='#cc5533', font_style='italic', font_weight='bold')…"
      ]
     },
     "metadata": {},
     "output_type": "display_data"
    },
    {
     "data": {
      "application/vnd.jupyter.widget-view+json": {
       "model_id": "988066b058b940f0b90bd55baf106f86",
       "version_major": 2,
       "version_minor": 0
      },
      "text/plain": [
       "Output()"
      ]
     },
     "metadata": {},
     "output_type": "display_data"
    },
    {
     "data": {
      "application/vnd.jupyter.widget-view+json": {
       "model_id": "7f6fcb0250cf4f749b89804c2cec8023",
       "version_major": 2,
       "version_minor": 0
      },
      "text/plain": [
       "Button(description='Hint 1', style=ButtonStyle(button_color='#3366cc', font_style='italic', font_weight='bold'…"
      ]
     },
     "metadata": {},
     "output_type": "display_data"
    },
    {
     "data": {
      "application/vnd.jupyter.widget-view+json": {
       "model_id": "bc2ffea0ef98429680a6629d1f90758c",
       "version_major": 2,
       "version_minor": 0
      },
      "text/plain": [
       "Output()"
      ]
     },
     "metadata": {},
     "output_type": "display_data"
    },
    {
     "data": {
      "application/vnd.jupyter.widget-view+json": {
       "model_id": "288adc653f644cd0936d3d4a95e9c2f2",
       "version_major": 2,
       "version_minor": 0
      },
      "text/plain": [
       "Button(description='Hint 2', style=ButtonStyle(button_color='#3366cc', font_style='italic', font_weight='bold'…"
      ]
     },
     "metadata": {},
     "output_type": "display_data"
    },
    {
     "data": {
      "application/vnd.jupyter.widget-view+json": {
       "model_id": "fff5da0fec714aa998440b733537f038",
       "version_major": 2,
       "version_minor": 0
      },
      "text/plain": [
       "Output()"
      ]
     },
     "metadata": {},
     "output_type": "display_data"
    },
    {
     "data": {
      "application/vnd.jupyter.widget-view+json": {
       "model_id": "203655f967984051858fa03b2dfe676a",
       "version_major": 2,
       "version_minor": 0
      },
      "text/plain": [
       "Button(description='Hint 3', style=ButtonStyle(button_color='#3366cc', font_style='italic', font_weight='bold'…"
      ]
     },
     "metadata": {},
     "output_type": "display_data"
    },
    {
     "data": {
      "application/vnd.jupyter.widget-view+json": {
       "model_id": "250cd309eb994a1e9710ed81277cfe98",
       "version_major": 2,
       "version_minor": 0
      },
      "text/plain": [
       "Output()"
      ]
     },
     "metadata": {},
     "output_type": "display_data"
    },
    {
     "data": {
      "application/vnd.jupyter.widget-view+json": {
       "model_id": "01ef6749894a4b488488d86bac1ebd0a",
       "version_major": 2,
       "version_minor": 0
      },
      "text/plain": [
       "Button(description='Hint 4', style=ButtonStyle(button_color='#3366cc', font_style='italic', font_weight='bold'…"
      ]
     },
     "metadata": {},
     "output_type": "display_data"
    },
    {
     "data": {
      "application/vnd.jupyter.widget-view+json": {
       "model_id": "0e9914bc0fbb491587adc422a2a536e9",
       "version_major": 2,
       "version_minor": 0
      },
      "text/plain": [
       "Output()"
      ]
     },
     "metadata": {},
     "output_type": "display_data"
    },
    {
     "data": {
      "application/vnd.jupyter.widget-view+json": {
       "model_id": "9e038c64b4414433b9c21fa8dc325583",
       "version_major": 2,
       "version_minor": 0
      },
      "text/plain": [
       "Button(description='Hint 5', style=ButtonStyle(button_color='#3366cc', font_style='italic', font_weight='bold'…"
      ]
     },
     "metadata": {},
     "output_type": "display_data"
    },
    {
     "data": {
      "application/vnd.jupyter.widget-view+json": {
       "model_id": "eb481e160c484da2bc1acdd67e33d685",
       "version_major": 2,
       "version_minor": 0
      },
      "text/plain": [
       "Output()"
      ]
     },
     "metadata": {},
     "output_type": "display_data"
    },
    {
     "data": {
      "application/vnd.jupyter.widget-view+json": {
       "model_id": "6c20ca6fb92744b1b1ed1b7a89df1336",
       "version_major": 2,
       "version_minor": 0
      },
      "text/plain": [
       "Button(description='Solution', style=ButtonStyle(button_color='#33cc99', font_style='italic', font_weight='bol…"
      ]
     },
     "metadata": {},
     "output_type": "display_data"
    },
    {
     "data": {
      "application/vnd.jupyter.widget-view+json": {
       "model_id": "3b549e8aea984aaba425e1acfbbe7326",
       "version_major": 2,
       "version_minor": 0
      },
      "text/plain": [
       "Output()"
      ]
     },
     "metadata": {},
     "output_type": "display_data"
    }
   ],
   "source": [
    "q4.b.display_buttons()"
   ]
  },
  {
   "cell_type": "markdown",
   "metadata": {},
   "source": [
    "## Ejercicio 7\n",
    "Crea un programa que recoja dos inputs. Tiene que comprobar si su suma es igual, superior o inferior a 10\n",
    "\n",
    "Llama a las variables `in1`, `in2`, `suma`."
   ]
  },
  {
   "cell_type": "code",
   "execution_count": null,
   "metadata": {},
   "outputs": [],
   "source": []
  },
  {
   "cell_type": "code",
   "execution_count": 9,
   "metadata": {},
   "outputs": [
    {
     "data": {
      "application/vnd.jupyter.widget-view+json": {
       "model_id": "c3f1c347f4594c20880f19346c78d566",
       "version_major": 2,
       "version_minor": 0
      },
      "text/plain": [
       "Button(description='Hint 1', style=ButtonStyle(button_color='#3366cc', font_style='italic', font_weight='bold'…"
      ]
     },
     "metadata": {},
     "output_type": "display_data"
    },
    {
     "data": {
      "application/vnd.jupyter.widget-view+json": {
       "model_id": "f9e8a56cfafb4080ba84eafd8f59388e",
       "version_major": 2,
       "version_minor": 0
      },
      "text/plain": [
       "Output()"
      ]
     },
     "metadata": {},
     "output_type": "display_data"
    },
    {
     "data": {
      "application/vnd.jupyter.widget-view+json": {
       "model_id": "bdadd8fc69c448e3a684c8727d9b28e0",
       "version_major": 2,
       "version_minor": 0
      },
      "text/plain": [
       "Button(description='Hint 2', style=ButtonStyle(button_color='#3366cc', font_style='italic', font_weight='bold'…"
      ]
     },
     "metadata": {},
     "output_type": "display_data"
    },
    {
     "data": {
      "application/vnd.jupyter.widget-view+json": {
       "model_id": "9889f3a20735498ab3e2833375c3c740",
       "version_major": 2,
       "version_minor": 0
      },
      "text/plain": [
       "Output()"
      ]
     },
     "metadata": {},
     "output_type": "display_data"
    },
    {
     "data": {
      "application/vnd.jupyter.widget-view+json": {
       "model_id": "8f8378b40afe42e2bb7a041e03ccfdae",
       "version_major": 2,
       "version_minor": 0
      },
      "text/plain": [
       "Button(description='Hint 3', style=ButtonStyle(button_color='#3366cc', font_style='italic', font_weight='bold'…"
      ]
     },
     "metadata": {},
     "output_type": "display_data"
    },
    {
     "data": {
      "application/vnd.jupyter.widget-view+json": {
       "model_id": "cae8a44461bc4dbe98c1d6c7cb24b008",
       "version_major": 2,
       "version_minor": 0
      },
      "text/plain": [
       "Output()"
      ]
     },
     "metadata": {},
     "output_type": "display_data"
    },
    {
     "data": {
      "application/vnd.jupyter.widget-view+json": {
       "model_id": "3a20101b917c44728a6cad7cf5c36ddb",
       "version_major": 2,
       "version_minor": 0
      },
      "text/plain": [
       "Button(description='Hint 4', style=ButtonStyle(button_color='#3366cc', font_style='italic', font_weight='bold'…"
      ]
     },
     "metadata": {},
     "output_type": "display_data"
    },
    {
     "data": {
      "application/vnd.jupyter.widget-view+json": {
       "model_id": "7301a5a1a1b24552a280bd300afe6e12",
       "version_major": 2,
       "version_minor": 0
      },
      "text/plain": [
       "Output()"
      ]
     },
     "metadata": {},
     "output_type": "display_data"
    },
    {
     "data": {
      "application/vnd.jupyter.widget-view+json": {
       "model_id": "18a49b13f82f4fc1b744fff320cabf42",
       "version_major": 2,
       "version_minor": 0
      },
      "text/plain": [
       "Button(description='Hint 5', style=ButtonStyle(button_color='#3366cc', font_style='italic', font_weight='bold'…"
      ]
     },
     "metadata": {},
     "output_type": "display_data"
    },
    {
     "data": {
      "application/vnd.jupyter.widget-view+json": {
       "model_id": "e151d04366e343bba29187f2ce932eb9",
       "version_major": 2,
       "version_minor": 0
      },
      "text/plain": [
       "Output()"
      ]
     },
     "metadata": {},
     "output_type": "display_data"
    },
    {
     "data": {
      "application/vnd.jupyter.widget-view+json": {
       "model_id": "c87e9daadd9a4b82b36d4c50b8f1e502",
       "version_major": 2,
       "version_minor": 0
      },
      "text/plain": [
       "Button(description='Solution', style=ButtonStyle(button_color='#33cc99', font_style='italic', font_weight='bol…"
      ]
     },
     "metadata": {},
     "output_type": "display_data"
    },
    {
     "data": {
      "application/vnd.jupyter.widget-view+json": {
       "model_id": "77b6d478bf5149f2af91072a467cbc19",
       "version_major": 2,
       "version_minor": 0
      },
      "text/plain": [
       "Output()"
      ]
     },
     "metadata": {},
     "output_type": "display_data"
    }
   ],
   "source": [
    "q4.c.display_buttons()"
   ]
  },
  {
   "cell_type": "markdown",
   "metadata": {},
   "source": [
    "## Ejercicio 8\n",
    "Razona sin ejecutar código el output que obtendremos de las siguientes sentencias\n",
    "1. True and True and False\n",
    "2. not ((True or False) and (True or False))\n",
    "3. (False or False or False or True) and False\n",
    "4. not False and True and not True\n",
    "\n",
    "**IMPORTANTE**: Las soluciones se darán en las pistas 3 - 6 para que se puedan desplegar una por una"
   ]
  },
  {
   "cell_type": "markdown",
   "metadata": {},
   "source": []
  },
  {
   "cell_type": "code",
   "execution_count": 10,
   "metadata": {},
   "outputs": [
    {
     "data": {
      "application/vnd.jupyter.widget-view+json": {
       "model_id": "25a343d28a5b495699f562bfec8cb1c8",
       "version_major": 2,
       "version_minor": 0
      },
      "text/plain": [
       "Button(description='Hint 1', style=ButtonStyle(button_color='#3366cc', font_style='italic', font_weight='bold'…"
      ]
     },
     "metadata": {},
     "output_type": "display_data"
    },
    {
     "data": {
      "application/vnd.jupyter.widget-view+json": {
       "model_id": "d18a6aedb023408cb314d148c8012f6b",
       "version_major": 2,
       "version_minor": 0
      },
      "text/plain": [
       "Output()"
      ]
     },
     "metadata": {},
     "output_type": "display_data"
    },
    {
     "data": {
      "application/vnd.jupyter.widget-view+json": {
       "model_id": "dbeb068a95ef4a27967b2b95b96fc25e",
       "version_major": 2,
       "version_minor": 0
      },
      "text/plain": [
       "Button(description='Hint 2', style=ButtonStyle(button_color='#3366cc', font_style='italic', font_weight='bold'…"
      ]
     },
     "metadata": {},
     "output_type": "display_data"
    },
    {
     "data": {
      "application/vnd.jupyter.widget-view+json": {
       "model_id": "a4cabe31df5d4b628348c77449625fae",
       "version_major": 2,
       "version_minor": 0
      },
      "text/plain": [
       "Output()"
      ]
     },
     "metadata": {},
     "output_type": "display_data"
    },
    {
     "data": {
      "application/vnd.jupyter.widget-view+json": {
       "model_id": "b74b87fa008d453a890d7204f1ba681c",
       "version_major": 2,
       "version_minor": 0
      },
      "text/plain": [
       "Button(description='Hint 3', style=ButtonStyle(button_color='#3366cc', font_style='italic', font_weight='bold'…"
      ]
     },
     "metadata": {},
     "output_type": "display_data"
    },
    {
     "data": {
      "application/vnd.jupyter.widget-view+json": {
       "model_id": "e247b7e71cc94587bd02c4fbef166c2a",
       "version_major": 2,
       "version_minor": 0
      },
      "text/plain": [
       "Output()"
      ]
     },
     "metadata": {},
     "output_type": "display_data"
    },
    {
     "data": {
      "application/vnd.jupyter.widget-view+json": {
       "model_id": "f2904de1930d4b1494e8de5daa6cf699",
       "version_major": 2,
       "version_minor": 0
      },
      "text/plain": [
       "Button(description='Hint 4', style=ButtonStyle(button_color='#3366cc', font_style='italic', font_weight='bold'…"
      ]
     },
     "metadata": {},
     "output_type": "display_data"
    },
    {
     "data": {
      "application/vnd.jupyter.widget-view+json": {
       "model_id": "d425d82d7e4c41a7b8254f71970fbbb7",
       "version_major": 2,
       "version_minor": 0
      },
      "text/plain": [
       "Output()"
      ]
     },
     "metadata": {},
     "output_type": "display_data"
    },
    {
     "data": {
      "application/vnd.jupyter.widget-view+json": {
       "model_id": "3036e6907de34279a9cf2ecb93c621a1",
       "version_major": 2,
       "version_minor": 0
      },
      "text/plain": [
       "Button(description='Hint 5', style=ButtonStyle(button_color='#3366cc', font_style='italic', font_weight='bold'…"
      ]
     },
     "metadata": {},
     "output_type": "display_data"
    },
    {
     "data": {
      "application/vnd.jupyter.widget-view+json": {
       "model_id": "f00d4759b60c4c9ca87a3b1ebc4443a9",
       "version_major": 2,
       "version_minor": 0
      },
      "text/plain": [
       "Output()"
      ]
     },
     "metadata": {},
     "output_type": "display_data"
    },
    {
     "data": {
      "application/vnd.jupyter.widget-view+json": {
       "model_id": "1dffabdc1f3c4f368ffc7a8ebf6a30d2",
       "version_major": 2,
       "version_minor": 0
      },
      "text/plain": [
       "Button(description='Hint 6', style=ButtonStyle(button_color='#3366cc', font_style='italic', font_weight='bold'…"
      ]
     },
     "metadata": {},
     "output_type": "display_data"
    },
    {
     "data": {
      "application/vnd.jupyter.widget-view+json": {
       "model_id": "b6d297610f71426eb17c55598beb2852",
       "version_major": 2,
       "version_minor": 0
      },
      "text/plain": [
       "Output()"
      ]
     },
     "metadata": {},
     "output_type": "display_data"
    },
    {
     "data": {
      "application/vnd.jupyter.widget-view+json": {
       "model_id": "b35a0fc56080401aa900dea1278b66a1",
       "version_major": 2,
       "version_minor": 0
      },
      "text/plain": [
       "Button(description='Solution', style=ButtonStyle(button_color='#33cc99', font_style='italic', font_weight='bol…"
      ]
     },
     "metadata": {},
     "output_type": "display_data"
    },
    {
     "data": {
      "application/vnd.jupyter.widget-view+json": {
       "model_id": "889699122d7b4edb91d7e65bae02d8ff",
       "version_major": 2,
       "version_minor": 0
      },
      "text/plain": [
       "Output()"
      ]
     },
     "metadata": {},
     "output_type": "display_data"
    }
   ],
   "source": [
    "q5.display_buttons()"
   ]
  },
  {
   "cell_type": "markdown",
   "metadata": {},
   "source": [
    "## Ejercicio 9\n",
    "Para este ejercicio vamos a poner en práctica [las funciones built in](https://docs.python.org/3/library/functions.html).\n",
    "\n",
    "1. Calcula el máximo de la lista: [4, 6, 8, -1]\n",
    "2. Suma todos los elementos de la lista anterior\n",
    "3. Redondea este float a 3 dígitos decimales: 63.451256965\n",
    "4. Valor absoluto de: -74"
   ]
  },
  {
   "cell_type": "code",
   "execution_count": null,
   "metadata": {},
   "outputs": [],
   "source": []
  },
  {
   "cell_type": "markdown",
   "metadata": {},
   "source": [
    "## Ejercicio 10\n",
    "Para el siguiente string se pide imprimir por pantalla los siguientes casos\n",
    "\n",
    "    \"A quien madruga, dios le ayuda\"\n",
    "\n",
    "1. Pasarlo todo a mayusculas\n",
    "2. Pasarlo todo a minusculas\n",
    "3. Solo las iniciales de las palabras\n",
    "4. Crea una lista dividiendolo por sus espacios\n",
    "5. Sustituye las comas `,` por puntos y comas `;`\n",
    "6. Elimina las `a` minusculas\n",
    "\n",
    "**IMPORTANTE**: De las pistas 3 a 9 son las soluciones. Podéis ir desplegándolas de una en una."
   ]
  },
  {
   "cell_type": "code",
   "execution_count": null,
   "metadata": {},
   "outputs": [],
   "source": []
  },
  {
   "cell_type": "code",
   "execution_count": 12,
   "metadata": {},
   "outputs": [
    {
     "data": {
      "application/vnd.jupyter.widget-view+json": {
       "model_id": "2a2165ea65d64410a7bc97ea3d03539d",
       "version_major": 2,
       "version_minor": 0
      },
      "text/plain": [
       "Button(description='Hint 1', style=ButtonStyle(button_color='#3366cc', font_style='italic', font_weight='bold'…"
      ]
     },
     "metadata": {},
     "output_type": "display_data"
    },
    {
     "data": {
      "application/vnd.jupyter.widget-view+json": {
       "model_id": "249aa0d0b58446d68dcaa6f41643dd7d",
       "version_major": 2,
       "version_minor": 0
      },
      "text/plain": [
       "Output()"
      ]
     },
     "metadata": {},
     "output_type": "display_data"
    },
    {
     "data": {
      "application/vnd.jupyter.widget-view+json": {
       "model_id": "92357c5bb800476c936fdc031b55bce7",
       "version_major": 2,
       "version_minor": 0
      },
      "text/plain": [
       "Button(description='Hint 2', style=ButtonStyle(button_color='#3366cc', font_style='italic', font_weight='bold'…"
      ]
     },
     "metadata": {},
     "output_type": "display_data"
    },
    {
     "data": {
      "application/vnd.jupyter.widget-view+json": {
       "model_id": "5e6f2553c9404b8796959ffb61c65e0a",
       "version_major": 2,
       "version_minor": 0
      },
      "text/plain": [
       "Output()"
      ]
     },
     "metadata": {},
     "output_type": "display_data"
    },
    {
     "data": {
      "application/vnd.jupyter.widget-view+json": {
       "model_id": "7d786fbdeb614821bd5cd71fa4016152",
       "version_major": 2,
       "version_minor": 0
      },
      "text/plain": [
       "Button(description='Hint 3', style=ButtonStyle(button_color='#3366cc', font_style='italic', font_weight='bold'…"
      ]
     },
     "metadata": {},
     "output_type": "display_data"
    },
    {
     "data": {
      "application/vnd.jupyter.widget-view+json": {
       "model_id": "fa6441c3be214e898a1ee4306088e231",
       "version_major": 2,
       "version_minor": 0
      },
      "text/plain": [
       "Output()"
      ]
     },
     "metadata": {},
     "output_type": "display_data"
    },
    {
     "data": {
      "application/vnd.jupyter.widget-view+json": {
       "model_id": "0a45cb3c92554296af33388ba97eb0f1",
       "version_major": 2,
       "version_minor": 0
      },
      "text/plain": [
       "Button(description='Hint 4', style=ButtonStyle(button_color='#3366cc', font_style='italic', font_weight='bold'…"
      ]
     },
     "metadata": {},
     "output_type": "display_data"
    },
    {
     "data": {
      "application/vnd.jupyter.widget-view+json": {
       "model_id": "040027e2c58e49fea1621dd3621bdbc3",
       "version_major": 2,
       "version_minor": 0
      },
      "text/plain": [
       "Output()"
      ]
     },
     "metadata": {},
     "output_type": "display_data"
    },
    {
     "data": {
      "application/vnd.jupyter.widget-view+json": {
       "model_id": "96b4714806d74b5b92d33eebc346c080",
       "version_major": 2,
       "version_minor": 0
      },
      "text/plain": [
       "Button(description='Hint 5', style=ButtonStyle(button_color='#3366cc', font_style='italic', font_weight='bold'…"
      ]
     },
     "metadata": {},
     "output_type": "display_data"
    },
    {
     "data": {
      "application/vnd.jupyter.widget-view+json": {
       "model_id": "149a616b60d84adeb02204f15e2023d0",
       "version_major": 2,
       "version_minor": 0
      },
      "text/plain": [
       "Output()"
      ]
     },
     "metadata": {},
     "output_type": "display_data"
    },
    {
     "data": {
      "application/vnd.jupyter.widget-view+json": {
       "model_id": "cbecf899649d4c749783d26f2f5d39b8",
       "version_major": 2,
       "version_minor": 0
      },
      "text/plain": [
       "Button(description='Hint 6', style=ButtonStyle(button_color='#3366cc', font_style='italic', font_weight='bold'…"
      ]
     },
     "metadata": {},
     "output_type": "display_data"
    },
    {
     "data": {
      "application/vnd.jupyter.widget-view+json": {
       "model_id": "16d182e042364257bc8b6e2cda23da7e",
       "version_major": 2,
       "version_minor": 0
      },
      "text/plain": [
       "Output()"
      ]
     },
     "metadata": {},
     "output_type": "display_data"
    },
    {
     "data": {
      "application/vnd.jupyter.widget-view+json": {
       "model_id": "9a32a0822e7e4dc1be2d2a44b1f21422",
       "version_major": 2,
       "version_minor": 0
      },
      "text/plain": [
       "Button(description='Hint 7', style=ButtonStyle(button_color='#3366cc', font_style='italic', font_weight='bold'…"
      ]
     },
     "metadata": {},
     "output_type": "display_data"
    },
    {
     "data": {
      "application/vnd.jupyter.widget-view+json": {
       "model_id": "2617dc2038b14bdb83355a9325296d8b",
       "version_major": 2,
       "version_minor": 0
      },
      "text/plain": [
       "Output()"
      ]
     },
     "metadata": {},
     "output_type": "display_data"
    },
    {
     "data": {
      "application/vnd.jupyter.widget-view+json": {
       "model_id": "6f447a9e78784354b189211105d445f6",
       "version_major": 2,
       "version_minor": 0
      },
      "text/plain": [
       "Button(description='Hint 8', style=ButtonStyle(button_color='#3366cc', font_style='italic', font_weight='bold'…"
      ]
     },
     "metadata": {},
     "output_type": "display_data"
    },
    {
     "data": {
      "application/vnd.jupyter.widget-view+json": {
       "model_id": "7fb6045e4ad24c74be60ee5188579a0c",
       "version_major": 2,
       "version_minor": 0
      },
      "text/plain": [
       "Output()"
      ]
     },
     "metadata": {},
     "output_type": "display_data"
    },
    {
     "data": {
      "application/vnd.jupyter.widget-view+json": {
       "model_id": "54cb7d5f840441198de6ba6c46e98796",
       "version_major": 2,
       "version_minor": 0
      },
      "text/plain": [
       "Button(description='Hint 9', style=ButtonStyle(button_color='#3366cc', font_style='italic', font_weight='bold'…"
      ]
     },
     "metadata": {},
     "output_type": "display_data"
    },
    {
     "data": {
      "application/vnd.jupyter.widget-view+json": {
       "model_id": "926b836ecc004594a2800ed026ec2bb2",
       "version_major": 2,
       "version_minor": 0
      },
      "text/plain": [
       "Output()"
      ]
     },
     "metadata": {},
     "output_type": "display_data"
    },
    {
     "data": {
      "application/vnd.jupyter.widget-view+json": {
       "model_id": "499c8c39570f44ea8037db07bf92a243",
       "version_major": 2,
       "version_minor": 0
      },
      "text/plain": [
       "Button(description='Solution', style=ButtonStyle(button_color='#33cc99', font_style='italic', font_weight='bol…"
      ]
     },
     "metadata": {},
     "output_type": "display_data"
    },
    {
     "data": {
      "application/vnd.jupyter.widget-view+json": {
       "model_id": "4a746d3ed52847ce9cab083f062cb21b",
       "version_major": 2,
       "version_minor": 0
      },
      "text/plain": [
       "Output()"
      ]
     },
     "metadata": {},
     "output_type": "display_data"
    }
   ],
   "source": [
    "q6.display_buttons()"
   ]
  },
  {
   "cell_type": "markdown",
   "metadata": {},
   "source": [
    "## Ejercicio 11\n",
    "1. Crea una lista con 3 elementos numéricos\n",
    "2. Añade un cuarto elemento\n",
    "3. Calcula la suma de todos\n",
    "4. Elimina el segundo elemento de la lista\n",
    "5. Añade otro elemento en la posicion 3 de la lista\n",
    "6. Crea otra lista con 4 elementos y concaténala a la que ya tenías."
   ]
  },
  {
   "cell_type": "code",
   "execution_count": null,
   "metadata": {},
   "outputs": [],
   "source": []
  },
  {
   "cell_type": "code",
   "execution_count": 13,
   "metadata": {},
   "outputs": [
    {
     "data": {
      "application/vnd.jupyter.widget-view+json": {
       "model_id": "16cb40f7f9b34054a72330787deb70a2",
       "version_major": 2,
       "version_minor": 0
      },
      "text/plain": [
       "Button(description='Hint 1', style=ButtonStyle(button_color='#3366cc', font_style='italic', font_weight='bold'…"
      ]
     },
     "metadata": {},
     "output_type": "display_data"
    },
    {
     "data": {
      "application/vnd.jupyter.widget-view+json": {
       "model_id": "86cddde3d5784fb1beed3ba9e68498a0",
       "version_major": 2,
       "version_minor": 0
      },
      "text/plain": [
       "Output()"
      ]
     },
     "metadata": {},
     "output_type": "display_data"
    },
    {
     "data": {
      "application/vnd.jupyter.widget-view+json": {
       "model_id": "b5bbad3e1d2a469194578343d9e415b8",
       "version_major": 2,
       "version_minor": 0
      },
      "text/plain": [
       "Button(description='Hint 2', style=ButtonStyle(button_color='#3366cc', font_style='italic', font_weight='bold'…"
      ]
     },
     "metadata": {},
     "output_type": "display_data"
    },
    {
     "data": {
      "application/vnd.jupyter.widget-view+json": {
       "model_id": "cc7ca76ea5cc4bfb8611a9b4e6893849",
       "version_major": 2,
       "version_minor": 0
      },
      "text/plain": [
       "Output()"
      ]
     },
     "metadata": {},
     "output_type": "display_data"
    },
    {
     "data": {
      "application/vnd.jupyter.widget-view+json": {
       "model_id": "7f2fd052c8204756b768363bc849badc",
       "version_major": 2,
       "version_minor": 0
      },
      "text/plain": [
       "Button(description='Hint 3', style=ButtonStyle(button_color='#3366cc', font_style='italic', font_weight='bold'…"
      ]
     },
     "metadata": {},
     "output_type": "display_data"
    },
    {
     "data": {
      "application/vnd.jupyter.widget-view+json": {
       "model_id": "8e6725d2f53c4c61ba7337b410fe68a5",
       "version_major": 2,
       "version_minor": 0
      },
      "text/plain": [
       "Output()"
      ]
     },
     "metadata": {},
     "output_type": "display_data"
    },
    {
     "data": {
      "application/vnd.jupyter.widget-view+json": {
       "model_id": "38281a9558394ca8a5d80b6827fd8871",
       "version_major": 2,
       "version_minor": 0
      },
      "text/plain": [
       "Button(description='Hint 4', style=ButtonStyle(button_color='#3366cc', font_style='italic', font_weight='bold'…"
      ]
     },
     "metadata": {},
     "output_type": "display_data"
    },
    {
     "data": {
      "application/vnd.jupyter.widget-view+json": {
       "model_id": "7eef57a5644b489dbbc04d6e981eb256",
       "version_major": 2,
       "version_minor": 0
      },
      "text/plain": [
       "Output()"
      ]
     },
     "metadata": {},
     "output_type": "display_data"
    },
    {
     "data": {
      "application/vnd.jupyter.widget-view+json": {
       "model_id": "6c84ed98b2e3444180d4f8ea207a4675",
       "version_major": 2,
       "version_minor": 0
      },
      "text/plain": [
       "Button(description='Hint 5', style=ButtonStyle(button_color='#3366cc', font_style='italic', font_weight='bold'…"
      ]
     },
     "metadata": {},
     "output_type": "display_data"
    },
    {
     "data": {
      "application/vnd.jupyter.widget-view+json": {
       "model_id": "4adff566d5e849ff83b9321431d26def",
       "version_major": 2,
       "version_minor": 0
      },
      "text/plain": [
       "Output()"
      ]
     },
     "metadata": {},
     "output_type": "display_data"
    },
    {
     "data": {
      "application/vnd.jupyter.widget-view+json": {
       "model_id": "b9a50fcb3e404719a40dca3fcf037599",
       "version_major": 2,
       "version_minor": 0
      },
      "text/plain": [
       "Button(description='Hint 6', style=ButtonStyle(button_color='#3366cc', font_style='italic', font_weight='bold'…"
      ]
     },
     "metadata": {},
     "output_type": "display_data"
    },
    {
     "data": {
      "application/vnd.jupyter.widget-view+json": {
       "model_id": "3616093b56fa4c99a9459b412d83c6c5",
       "version_major": 2,
       "version_minor": 0
      },
      "text/plain": [
       "Output()"
      ]
     },
     "metadata": {},
     "output_type": "display_data"
    },
    {
     "data": {
      "application/vnd.jupyter.widget-view+json": {
       "model_id": "26d90bc2de854e51b001d6be39b147ab",
       "version_major": 2,
       "version_minor": 0
      },
      "text/plain": [
       "Button(description='Hint 7', style=ButtonStyle(button_color='#3366cc', font_style='italic', font_weight='bold'…"
      ]
     },
     "metadata": {},
     "output_type": "display_data"
    },
    {
     "data": {
      "application/vnd.jupyter.widget-view+json": {
       "model_id": "774758e4bb004c0cbab6db8e08cda5e0",
       "version_major": 2,
       "version_minor": 0
      },
      "text/plain": [
       "Output()"
      ]
     },
     "metadata": {},
     "output_type": "display_data"
    },
    {
     "data": {
      "application/vnd.jupyter.widget-view+json": {
       "model_id": "f05a4c8b702f4ff49b84eed3a3ae9021",
       "version_major": 2,
       "version_minor": 0
      },
      "text/plain": [
       "Button(description='Solution', style=ButtonStyle(button_color='#33cc99', font_style='italic', font_weight='bol…"
      ]
     },
     "metadata": {},
     "output_type": "display_data"
    },
    {
     "data": {
      "application/vnd.jupyter.widget-view+json": {
       "model_id": "d504d3fd91e249e389b5f249bb3d0a38",
       "version_major": 2,
       "version_minor": 0
      },
      "text/plain": [
       "Output()"
      ]
     },
     "metadata": {},
     "output_type": "display_data"
    }
   ],
   "source": [
    "q7.display_buttons()"
   ]
  },
  {
   "cell_type": "code",
   "execution_count": null,
   "metadata": {},
   "outputs": [],
   "source": []
  }
 ],
 "metadata": {
  "hide_input": false,
  "kernelspec": {
   "display_name": "autocheck-venv",
   "language": "python",
   "name": "autocheck-venv"
  },
  "language_info": {
   "codemirror_mode": {
    "name": "ipython",
    "version": 3
   },
   "file_extension": ".py",
   "mimetype": "text/x-python",
   "name": "python",
   "nbconvert_exporter": "python",
   "pygments_lexer": "ipython3",
   "version": "3.7.4"
  },
  "toc": {
   "base_numbering": 1,
   "nav_menu": {},
   "number_sections": true,
   "sideBar": true,
   "skip_h1_title": false,
   "title_cell": "Table of Contents",
   "title_sidebar": "Contents",
   "toc_cell": false,
   "toc_position": {},
   "toc_section_display": true,
   "toc_window_display": true
  },
  "vscode": {
   "interpreter": {
    "hash": "8e4665cba7aa4b1b151ee1708284a3bd913c42c8c783ec2689ad9f7256e78c76"
   }
  }
 },
 "nbformat": 4,
 "nbformat_minor": 4
}
