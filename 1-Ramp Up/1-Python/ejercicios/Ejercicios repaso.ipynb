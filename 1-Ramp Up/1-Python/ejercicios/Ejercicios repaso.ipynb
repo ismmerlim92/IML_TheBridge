{
 "cells": [
  {
   "cell_type": "markdown",
   "metadata": {},
   "source": [
    "![imagen](./img/ejercicios.png)\n",
    "\n",
    "# Ejercicios repaso semana 6"
   ]
  },
  {
   "cell_type": "markdown",
   "metadata": {},
   "source": [
    "## Ejercicio 1 - Markdown\n",
    "1. Pon por pantalla una imagen\n",
    "2. Escribe en una lista ordenada 3 cosas que te llevarias a la montaña\n",
    "3. Escribe en una lista no ordenada tus tres colores favoritos\n",
    "4. Recplica la lista del apartado dos, pero esta vez que el primer elemento esté en negrita, el segundo en cursiva y el tercero en negrita y cursiva.\n",
    "5. Escribe en markdown, un bloque de código Python que sea print(\"Esto es markdown\"). Markdown reconoce que es Python ya que pone de color diferente las palabras reservadas.\n",
    "6. Escribe el nombre de una web que uses mucho y asocia al texto un enlace a la propia web."
   ]
  },
  {
   "cell_type": "markdown",
   "metadata": {},
   "source": []
  },
  {
   "cell_type": "markdown",
   "metadata": {},
   "source": [
    "## Ejercicio 2 - Python Basics\n",
    "1. ¿Qué tengo que poner para que me haga un salto de linea en un print? ¿Y para una tabulación?\n",
    "2. Realiza un conversor de dolares a euros. Tienes que usar `input`.\n",
    "3. Comenta el apartado 1 con un comentario de línea y el apartado 2 con uno multilínea\n",
    "4. Declara dos strings de dos maneras diferentes. Uno será tu nombre y el otro tu apellido. Declara en otra variable tu edad. Concatenalo todo en una frase (nueva variable), e imprimelo por pantalla.\n",
    "5. ¿Está bien si pongo números en los nombres de las variables?\n",
    "6. Comprueba los tipos de las variables del apartado 4\n",
    "7. Elimina todas las variables del apartado 4\n",
    "8. Crea un programa donde se recojan dos inputs del usuario, y el output del programa sea si esos inputs son iguales o no.\n",
    "9. Dada la lista [4,7,-3], calcula su maximo, minimo y suma\n",
    "10. Redondea 38.38276252728 a 5 decimales\n",
    "11. Pasa la frase \"Born to be wild\" a mayusculas, luego minusculas, dividela por los espacios, y por último, sustituye \"wild\" por \"Geek\"."
   ]
  },
  {
   "cell_type": "code",
   "execution_count": null,
   "metadata": {},
   "outputs": [],
   "source": []
  },
  {
   "cell_type": "markdown",
   "metadata": {},
   "source": [
    "## Ejercicio 3 - If/else\n",
    "Crea un arbol de decisión mediante sentencias `if/else`, para determinar el precio de la entrada de cine. Si la edad del cliente está entre 5 y 15 años, ambos incluidos, el precio será de 5, si está jubilado y la peli es una de las `peliculas_disccount`, el precio es de 4. En cualquier otr caso, será de 7 euros."
   ]
  },
  {
   "cell_type": "code",
   "execution_count": null,
   "metadata": {},
   "outputs": [],
   "source": []
  },
  {
   "cell_type": "markdown",
   "metadata": {},
   "source": [
    "## Ejercicio 4 - bucle for\n",
    "Dadas dos listas de la misma longitud, crea una tercera lista que se componga de la suma de ambas, elementoa  elemento."
   ]
  },
  {
   "cell_type": "code",
   "execution_count": null,
   "metadata": {},
   "outputs": [],
   "source": []
  },
  {
   "cell_type": "markdown",
   "metadata": {},
   "source": [
    "## Ejercicio 5 - bucle for\n",
    "1. Imprime por pantalla los numeros entre el 0 y el 70 que se sean multiplos de 3 y de 5\n",
    "2. Imprime por pantalla la siguiente secuencia: [-10, -11, -12, -13, -14, -15]"
   ]
  },
  {
   "cell_type": "code",
   "execution_count": null,
   "metadata": {},
   "outputs": [],
   "source": []
  },
  {
   "cell_type": "markdown",
   "metadata": {},
   "source": [
    "## Ejercicio 6 - bucle for\n",
    "Imprime por pantalla el siguiente patrón\n",
    "```Python\n",
    "1\n",
    "22\n",
    "333\n",
    "4444\n",
    "55555\n",
    "666666\n",
    "7777777\n",
    "88888888\n",
    "999999999\n",
    "```"
   ]
  },
  {
   "cell_type": "code",
   "execution_count": null,
   "metadata": {},
   "outputs": [],
   "source": []
  },
  {
   "cell_type": "markdown",
   "metadata": {},
   "source": [
    "## Ejercicio 7 - bucle while\n",
    "Escribe por pantalla un programa que vaya pidiendo numeros al usuario, hasta que el usuario introduce el 9999. En ese caso, el programa devuelve la concatenación de todos los números. Como si fuese un string."
   ]
  },
  {
   "cell_type": "code",
   "execution_count": null,
   "metadata": {},
   "outputs": [],
   "source": []
  },
  {
   "cell_type": "markdown",
   "metadata": {},
   "source": [
    "## Ejercicio 8 - funcion con bucle while\n",
    "Escribe una funcion en el que se le pide al usuario el codigo pin reiteradamente hasta que acierte... Si lo introduce mal 3 veces, la funcion devuelve un \"Se ha bloqueado\", sino, un \"¡Acertaste el codigo!\"."
   ]
  },
  {
   "cell_type": "code",
   "execution_count": null,
   "metadata": {},
   "outputs": [],
   "source": []
  },
  {
   "cell_type": "markdown",
   "metadata": {},
   "source": [
    "## Ejercicio 9 - colecciones\n",
    "1. Crea una tupla con los elementos (10,2,27,8)\n",
    "2. Obtén el tamaño de la tupla\n",
    "3. Imprime por pantalla su tipo\n",
    "4. Declara una tupla con 4 caracteres y concatenalos todos, separados por espacios\n",
    "5. Declara una lista con los mismos elementos que en el apartado 1. Encuentra el elemento 27 de la lista, y sustituyelo por 37\n",
    "8. Elimina el 8 de la lista\n",
    "9. Convierte la lista de apartado anterior en una tupla.\n",
    "10. Compurba si el elemento 3 esta en la tupla del apartado anterior.\n",
    "11. Convierte la tupla del apartado 10 en un diccionario. Usa también los indices.\n",
    "12. Ordena la tupla de manera descendente\n",
    "13. Crea un diccionario con {\"val1\": 5, \"val2\": 8, \"val3\": 9}. Suma todos sus valores. \n",
    "14. Obtén una lista de tuplas con todos sus items."
   ]
  },
  {
   "cell_type": "code",
   "execution_count": null,
   "metadata": {},
   "outputs": [],
   "source": []
  }
 ],
 "metadata": {
  "kernelspec": {
   "display_name": "Python 3",
   "language": "python",
   "name": "python3"
  },
  "language_info": {
   "codemirror_mode": {
    "name": "ipython",
    "version": 3
   },
   "file_extension": ".py",
   "mimetype": "text/x-python",
   "name": "python",
   "nbconvert_exporter": "python",
   "pygments_lexer": "ipython3",
   "version": "3.8.3"
  }
 },
 "nbformat": 4,
 "nbformat_minor": 4
}
