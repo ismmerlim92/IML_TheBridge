{
 "cells": [
  {
   "cell_type": "markdown",
   "metadata": {},
   "source": [
    "![imagen](./img/ejercicios.png)"
   ]
  },
  {
   "cell_type": "markdown",
   "metadata": {},
   "source": [
    "# Ejercicios funciones\n",
    "## Ejercicio 1\n",
    "Escribe una función que convierta números del 1 al 7 en nombres de los dias de la semana. La función constará de un único argumento numérico y una salida de tipo string"
   ]
  },
  {
   "cell_type": "code",
   "execution_count": 2,
   "metadata": {},
   "outputs": [],
   "source": [
    "def num2day(n_dia):\n",
    "    ls_dias = [\"Lunes\", \"Martes\", \"Miercoles\", \"Jueves\", \"Viernes\", \"Sabado\", \"Domingo\"]\n",
    "\n",
    "    if (n_dia <= 0) or (n_dia > 7):\n",
    "        raise ValueError(\"El valor de entrada tiene que estar entre 1 y 7\")\n",
    "\n",
    "    return ls_dias[n_dia - 1]"
   ]
  },
  {
   "cell_type": "code",
   "execution_count": 3,
   "metadata": {},
   "outputs": [
    {
     "data": {
      "text/plain": [
       "'Jueves'"
      ]
     },
     "execution_count": 3,
     "metadata": {},
     "output_type": "execute_result"
    }
   ],
   "source": [
    "num2day(4)"
   ]
  },
  {
   "cell_type": "code",
   "execution_count": 4,
   "metadata": {},
   "outputs": [
    {
     "ename": "ValueError",
     "evalue": "El valor de entrada tiene que estar entre 1 y 7",
     "output_type": "error",
     "traceback": [
      "\u001b[1;31m---------------------------------------------------------------------------\u001b[0m",
      "\u001b[1;31mValueError\u001b[0m                                Traceback (most recent call last)",
      "Cell \u001b[1;32mIn [4], line 1\u001b[0m\n\u001b[1;32m----> 1\u001b[0m num2day(\u001b[39m8\u001b[39;49m)\n",
      "Cell \u001b[1;32mIn [2], line 5\u001b[0m, in \u001b[0;36mnum2day\u001b[1;34m(n_dia)\u001b[0m\n\u001b[0;32m      2\u001b[0m ls_dias \u001b[39m=\u001b[39m [\u001b[39m\"\u001b[39m\u001b[39mLunes\u001b[39m\u001b[39m\"\u001b[39m, \u001b[39m\"\u001b[39m\u001b[39mMartes\u001b[39m\u001b[39m\"\u001b[39m, \u001b[39m\"\u001b[39m\u001b[39mMiercoles\u001b[39m\u001b[39m\"\u001b[39m, \u001b[39m\"\u001b[39m\u001b[39mJueves\u001b[39m\u001b[39m\"\u001b[39m, \u001b[39m\"\u001b[39m\u001b[39mViernes\u001b[39m\u001b[39m\"\u001b[39m, \u001b[39m\"\u001b[39m\u001b[39mSabado\u001b[39m\u001b[39m\"\u001b[39m, \u001b[39m\"\u001b[39m\u001b[39mDomingo\u001b[39m\u001b[39m\"\u001b[39m]\n\u001b[0;32m      4\u001b[0m \u001b[39mif\u001b[39;00m (n_dia \u001b[39m<\u001b[39m\u001b[39m=\u001b[39m \u001b[39m0\u001b[39m) \u001b[39mor\u001b[39;00m (n_dia \u001b[39m>\u001b[39m \u001b[39m7\u001b[39m):\n\u001b[1;32m----> 5\u001b[0m     \u001b[39mraise\u001b[39;00m \u001b[39mValueError\u001b[39;00m(\u001b[39m\"\u001b[39m\u001b[39mEl valor de entrada tiene que estar entre 1 y 7\u001b[39m\u001b[39m\"\u001b[39m)\n\u001b[0;32m      7\u001b[0m \u001b[39mreturn\u001b[39;00m ls_dias[n_dia \u001b[39m-\u001b[39m \u001b[39m1\u001b[39m]\n",
      "\u001b[1;31mValueError\u001b[0m: El valor de entrada tiene que estar entre 1 y 7"
     ]
    }
   ],
   "source": [
    "num2day(8)"
   ]
  },
  {
   "cell_type": "markdown",
   "metadata": {},
   "source": [
    "## Ejercicio 2\n",
    "En el ejercicio 8 de bucles, creábamos una pirámide invertida, cuyo número de pisos venía determinado por un input del usuario. Crear una función que replique el comportamiento de la pirámide, y utiliza un único parámetro de entrada de la función para determinar el número de filas de la pirámide, es decir, elimina la sentencia input."
   ]
  },
  {
   "cell_type": "code",
   "execution_count": 11,
   "metadata": {},
   "outputs": [],
   "source": [
    "def piramide(n):\n",
    "    for i in range(n, 0, -1):\n",
    "        for j in range(1, i+1):\n",
    "            print(j, end=\" \")\n",
    "        print()"
   ]
  },
  {
   "cell_type": "code",
   "execution_count": 16,
   "metadata": {},
   "outputs": [
    {
     "name": "stdout",
     "output_type": "stream",
     "text": [
      "1 2 3 4 5 6 7 \n",
      "1 2 3 4 5 6 \n",
      "1 2 3 4 5 \n",
      "1 2 3 4 \n",
      "1 2 3 \n",
      "1 2 \n",
      "1 \n"
     ]
    }
   ],
   "source": [
    "piramide(7)"
   ]
  },
  {
   "cell_type": "markdown",
   "metadata": {},
   "source": [
    "## Ejercicio 3\n",
    "Escibe una función que compare dos números. La función tiene dos argumentos y hay tres salidas posibles: que sean iguales, que el primero se  mayor que el segundo, o que el segundo sea mayor que el primero"
   ]
  },
  {
   "cell_type": "code",
   "execution_count": 23,
   "metadata": {},
   "outputs": [],
   "source": [
    "# n1 = 3\n",
    "# n2 = 3\n",
    "\n",
    "def comparenum(n1, n2):\n",
    "    if n1 == n2:\n",
    "        return \"Son Iguales\"\n",
    "    elif n1 > n2:\n",
    "        return f\"{n1} es mayor que {n2}\"\n",
    "    else:\n",
    "        return f\"{n1} es menor que {n2}\""
   ]
  },
  {
   "cell_type": "code",
   "execution_count": 30,
   "metadata": {},
   "outputs": [
    {
     "name": "stdout",
     "output_type": "stream",
     "text": [
      "Son Iguales\n",
      "1 es menor que 2\n",
      "2 es mayor que 1\n"
     ]
    }
   ],
   "source": [
    "print(comparenum(2, 2))\n",
    "print(comparenum(1, 2))\n",
    "print(comparenum(2, 1))"
   ]
  },
  {
   "cell_type": "markdown",
   "metadata": {},
   "source": [
    "## Ejercicio 4\n",
    "Escribe una función que sea un contador de letras. En el primer argumento tienes que introducir un texto, y el segundo que sea la letra a contar. La función tiene que devolver un entero con el número de veces que aparece esa letra, tanto mayuscula, como minúscula"
   ]
  },
  {
   "cell_type": "code",
   "execution_count": 37,
   "metadata": {},
   "outputs": [],
   "source": [
    "def cuenta_letras(letter, txt):\n",
    "    out = 0\n",
    "    txt = txt.lower()\n",
    "    for l in txt:\n",
    "        if l == letter.lower():\n",
    "            out+=1\n",
    "    return out\n"
   ]
  },
  {
   "cell_type": "code",
   "execution_count": 39,
   "metadata": {},
   "outputs": [
    {
     "data": {
      "text/plain": [
       "4"
      ]
     },
     "execution_count": 39,
     "metadata": {},
     "output_type": "execute_result"
    }
   ],
   "source": [
    "cuenta_letras(\"a\", \"Hola amigo que tal estas\")"
   ]
  },
  {
   "cell_type": "code",
   "execution_count": 40,
   "metadata": {},
   "outputs": [
    {
     "data": {
      "text/plain": [
       "2"
      ]
     },
     "execution_count": 40,
     "metadata": {},
     "output_type": "execute_result"
    }
   ],
   "source": [
    "cuenta_letras(\"s\", \"Hola amigo que tal estas\")"
   ]
  },
  {
   "cell_type": "markdown",
   "metadata": {},
   "source": [
    "## Ejercicio 5\n",
    "Escribe una función que tenga un único argumento, un string. La salida de la función tiene que ser un diccionario con el conteo de todas las letras de ese string."
   ]
  },
  {
   "cell_type": "code",
   "execution_count": 44,
   "metadata": {},
   "outputs": [
    {
     "data": {
      "text/plain": [
       "{'E': 1,\n",
       " 'l': 21,\n",
       " ' ': 59,\n",
       " 'p': 4,\n",
       " 'a': 37,\n",
       " 't': 18,\n",
       " 'i': 17,\n",
       " 'o': 28,\n",
       " 'd': 6,\n",
       " 'e': 48,\n",
       " 'm': 13,\n",
       " 'c': 11,\n",
       " 's': 15,\n",
       " '\\n': 24,\n",
       " 'r': 20,\n",
       " 'u': 12,\n",
       " '.': 5,\n",
       " 'C': 2,\n",
       " 'n': 10,\n",
       " 'v': 4,\n",
       " 'j': 3,\n",
       " 'á': 3,\n",
       " 'A': 2,\n",
       " 'g': 3,\n",
       " 'h': 6,\n",
       " ',': 17,\n",
       " 'y': 2,\n",
       " 'é': 2,\n",
       " 'q': 8,\n",
       " 'b': 2,\n",
       " 'H': 2,\n",
       " 'k': 2,\n",
       " 'ú': 2}"
      ]
     },
     "execution_count": 44,
     "metadata": {},
     "output_type": "execute_result"
    }
   ],
   "source": [
    "txt1 = '''El patio de mi casa \n",
    "es particular.\n",
    "Cuando llueve se moja\n",
    "como los demás.\n",
    "\n",
    "Agáchate,\n",
    "y vuélvete a agachar,\n",
    "que los agachaditos\n",
    "no saben bailar.\n",
    "\n",
    "Hache, i jota, ka\n",
    "ele, elle, eme, a,\n",
    "que si tú no me quieres\n",
    "otro amante me querrá.\n",
    "\n",
    "Hache, i jota, ka\n",
    "ele, elle, eme, o,\n",
    "que si tú no me quieres\n",
    "otro amante tendré yo.\n",
    "\n",
    "Chocolate, molinillo\n",
    "corre corre, que te pillo\n",
    "A estirar, a estirar\n",
    "que el demonio va a pasar\n",
    "'''\n",
    "\n",
    "def cuenta_letras_dict(txt):\n",
    "    d_out = {}\n",
    "    for letter in txt:\n",
    "        d_out[letter] = d_out.get(letter, 0) + 1\n",
    "\n",
    "    return d_out\n",
    "\n",
    "cuenta_letras_dict(txt1)"
   ]
  },
  {
   "cell_type": "markdown",
   "metadata": {},
   "source": [
    "## Ejercicio 6\n",
    "Escribir una función que añada o elimine elementos en una lista. La función necesita los siguientes argumentos:\n",
    "* lista: la lista donde se añadirán o eliminarán los elementos\n",
    "* comando: \"add\" o \"remove\"\n",
    "* elemento: Por defecto es None."
   ]
  },
  {
   "cell_type": "code",
   "execution_count": 47,
   "metadata": {},
   "outputs": [],
   "source": [
    "def modify_list(ls, action, elem=None):\n",
    "    ls2 = ls.copy()\n",
    "    if action.lower() == \"add\":\n",
    "        ls2.append(elem)\n",
    "    elif action.lower() == \"remove\":\n",
    "        try:\n",
    "            ls2.remove(elem)\n",
    "        except:\n",
    "            print(\"Element not in list\")\n",
    "    else:\n",
    "        print(\"Acción no contemplada\")\n",
    "\n",
    "    return ls2"
   ]
  },
  {
   "cell_type": "code",
   "execution_count": 51,
   "metadata": {},
   "outputs": [
    {
     "data": {
      "text/plain": [
       "[1, 2, 3, 'Hola', 2]"
      ]
     },
     "execution_count": 51,
     "metadata": {},
     "output_type": "execute_result"
    }
   ],
   "source": [
    "ls = [1, 2, 3, \"Hola\"]\n",
    "action = \"add\"\n",
    "elem = None\n",
    "\n",
    "modify_list(ls, \"add\", 2)"
   ]
  },
  {
   "cell_type": "markdown",
   "metadata": {},
   "source": [
    "## Ejercicio 7\n",
    "Crea una función que reciba un número arbitrario de palabras, y devuelva una frase completa, separando las palabras con espacios."
   ]
  },
  {
   "cell_type": "code",
   "execution_count": 52,
   "metadata": {},
   "outputs": [
    {
     "data": {
      "text/plain": [
       "'Palabra 1, Palabra 2, Palabra 3, Palabra 4'"
      ]
     },
     "execution_count": 52,
     "metadata": {},
     "output_type": "execute_result"
    }
   ],
   "source": [
    "def pega_palabras(*words):\n",
    "    return ', '.join(words)\n",
    "\n",
    "pega_palabras(\"Palabra 1\", \"Palabra 2\", \"Palabra 3\", \"Palabra 4\")"
   ]
  },
  {
   "cell_type": "code",
   "execution_count": 54,
   "metadata": {},
   "outputs": [
    {
     "data": {
      "text/plain": [
       "'Palabra 1, Palabra 2, Palabra 3, Palabra 4'"
      ]
     },
     "execution_count": 54,
     "metadata": {},
     "output_type": "execute_result"
    }
   ],
   "source": [
    "def pega_palabras(*words):\n",
    "    out = \"\"\n",
    "    for word in words:\n",
    "        out += word + \", \"\n",
    "    return out[:-2]\n",
    "\n",
    "pega_palabras(\"Palabra 1\", \"Palabra 2\", \"Palabra 3\", \"Palabra 4\")"
   ]
  },
  {
   "cell_type": "markdown",
   "metadata": {},
   "source": [
    "## Ejercicio 8\n",
    "Escribe un programa que obtenga el enésimo número de la [serie de Fibonacci](https://es.wikipedia.org/wiki/Sucesi%C3%B3n_de_Fibonacci). Tienes que crear una función recursiva con un único argumento.\n",
    "\n",
    "```Python\n",
    "fibonacci(2) = 1\n",
    "fibonacci(4) = 3\n",
    "fibonacci(5) = 5\n",
    "fibonacci(8) = 21\n",
    "```"
   ]
  },
  {
   "cell_type": "code",
   "execution_count": null,
   "metadata": {},
   "outputs": [],
   "source": []
  },
  {
   "cell_type": "markdown",
   "metadata": {},
   "source": [
    "## Ejercicio 9\n",
    "Define en una única celda las siguientes funciones:\n",
    "* Función que calcule el área de un cuadrado\n",
    "* Función que calcule el area de un triángulo\n",
    "* Función que calcule el área de un círculo\n",
    "\n",
    "En otra celda, calcular el area de:\n",
    "* Dos círculos de radio 10 + un triángulo de base 3 y altura 7\n",
    "* Un cuadrado de lado = 10 + 3 círculos (uno de radio = 4 y los otros dos de radio = 6) + 5 triángulos de base = 2 + altura = 4"
   ]
  },
  {
   "cell_type": "code",
   "execution_count": 56,
   "metadata": {},
   "outputs": [
    {
     "name": "stdout",
     "output_type": "stream",
     "text": [
      "638.8185307179587\n",
      "396.46015351590177\n"
     ]
    }
   ],
   "source": [
    "import math\n",
    "\n",
    "def area_cuadrado(lado):\n",
    "    return lado ** 2\n",
    "\n",
    "def area_triangulo(base, altura):\n",
    "    return base * altura / 2\n",
    "\n",
    "def area_circulo(radio):\n",
    "    return math.pi * radio ** 2\n",
    "\n",
    "area1 = 2 * area_circulo(10) + area_triangulo(3, 7)\n",
    "print(area1)\n",
    "\n",
    "area2 = area_cuadrado(10) + area_circulo(4) + 2*area_circulo(6) + 5 * area_triangulo(2, 4)\n",
    "print(area2)"
   ]
  }
 ],
 "metadata": {
  "kernelspec": {
   "display_name": "Python 3",
   "language": "python",
   "name": "python3"
  },
  "language_info": {
   "codemirror_mode": {
    "name": "ipython",
    "version": 3
   },
   "file_extension": ".py",
   "mimetype": "text/x-python",
   "name": "python",
   "nbconvert_exporter": "python",
   "pygments_lexer": "ipython3",
   "version": "3.10.8"
  },
  "vscode": {
   "interpreter": {
    "hash": "7600a12950a547366bb7a6732117e300ffd26224351912980486e1126c5d0f9a"
   }
  }
 },
 "nbformat": 4,
 "nbformat_minor": 4
}
