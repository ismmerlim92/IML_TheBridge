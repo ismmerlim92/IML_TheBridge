{
 "cells": [
  {
   "cell_type": "markdown",
   "metadata": {},
   "source": [
    "# Test DS-FT Ene 2022"
   ]
  },
  {
   "cell_type": "markdown",
   "metadata": {},
   "source": [
    "Antes de comenzar, cambia el nombre del archivo notebook poniéndole delante tu nombre y primer apellido:\n",
    "\n",
    "* nombre_apellido1_apellido2_rampup_0122.ipynb"
   ]
  },
  {
   "cell_type": "code",
   "execution_count": null,
   "metadata": {},
   "outputs": [],
   "source": [
    "# Escribe tu nombre y apellidos (apellido si solo tienes uno) en la variable:\n",
    "nombre_y_apellidos = \"\" \n",
    "# Correo electrónico\n",
    "correo_electronico = \"\""
   ]
  },
  {
   "cell_type": "markdown",
   "metadata": {},
   "source": [
    "## Primera parte tipo test (3 puntos):\n",
    "\n",
    "https://docs.google.com/forms/d/e/1FAIpQLSeNpghdwKjfI4KjA9dU1kaQ0TGz596pTU7RCaR5Oe-juzW78g/viewform"
   ]
  },
  {
   "cell_type": "markdown",
   "metadata": {},
   "source": [
    "#### Notas y pruebas de apoyo para contestar las preguntas tipo test\n",
    "Esto no es necesario usarlo aunque verlo aquí te puede dar la respuesta a alguna de las preguntas tipo test.\n",
    "\n",
    "Cualquier código aunque no esté correcto nos dirá más de ti que no escribir nada. "
   ]
  },
  {
   "cell_type": "code",
   "execution_count": null,
   "metadata": {},
   "outputs": [],
   "source": [
    "# crea todas las celdas que necesites"
   ]
  },
  {
   "cell_type": "markdown",
   "metadata": {},
   "source": [
    "-----------------"
   ]
  },
  {
   "cell_type": "markdown",
   "metadata": {},
   "source": [
    "## Segunda parte ejercicios prácticos (7 puntos):\n"
   ]
  },
  {
   "cell_type": "code",
   "execution_count": null,
   "metadata": {},
   "outputs": [],
   "source": [
    "# Ejemplo de como queremos ver el código para más de un intento:\n",
    "\n",
    "# intento 1\n",
    "your code\n",
    "# intento 2\n",
    "your code"
   ]
  },
  {
   "cell_type": "markdown",
   "metadata": {},
   "source": [
    "### Ejercicio 1 (1 punto)\n",
    "En este ejercicio se va a crear una lista con los siguientes elementos. Primero, crearemos las variables que luego añadiremos a la lista. Las variables son las siguientes:\n",
    "\n",
    "1. Crea una variable llamada `edad` de tipo Integer que represente tu edad en años. \n",
    "2. Crea una variable llamada `nombre` de tipo String , concatenando tu nombre seguido de un espacio en blanco y la inicial de tu primer apellido a partir de la variable `nombre_y_apellidos`.\n",
    "3. Crea una variable llamada `altura` con el valor de tu altura en metros de tipo float.\n",
    "4. Crea una variable llamada `tipo_ord` de tipo Boolean True si usas Windows y False si usas Mac.\n",
    "5. Crea una variable llamada `nada` de tipo None cuyo valor sea None.\n",
    "6. Crea una variable llamada `lista_series` de tipo List que contenga las 5 series de TV que más te gusten. Cada elemento ha de ser de tipo String.\n",
    "7. Crea una variable llamada `tupla_ropa` de tipo Tuple con la marca de la prenda superior, inferior y calzado que llevas puesto.\n",
    "8. Crea una variable llamada `dict_info` con dos keys y dos values. Una key es `ciudad`, teniendo como value la ciudad en la que vives. Otra key es `portal`, teniendo como value el número de tu calle.\n",
    "9. Añade todos estos elementos en una lista llamada `lista_examen` en el orden de aparición **usando una función de lista**. \n",
    "10. Responde en un comentario a la siguiente pregunta: Si `lista_examen` tuviera 10 veces más elementos, ¿cómo te asegurarías de que no tiene ningún elemento repetido?\n"
   ]
  },
  {
   "cell_type": "code",
   "execution_count": null,
   "metadata": {},
   "outputs": [],
   "source": []
  },
  {
   "cell_type": "markdown",
   "id": "ff4becae-86c4-46ab-9e09-3aeec5296700",
   "metadata": {},
   "source": [
    "### Ejercicio 2 (2 puntos)\n",
    "\n",
    "Para resolver este ejercicio necesitarás la lista del ejercicio anterior (`lista_examen`). Se recomienda leer cada punto hasta el final antes de resolver el ejercicio.\n",
    "\n",
    "Se repite para que quede aún más claro: **SOLO USAR LA VARIABLE** `lista_examen`. Usar las demás variables se calificará como error.  \n",
    "\n",
    "1. Mostrar por pantalla, sin uso de funciones (puedes usar print) ni bucles: \n",
    "    - Un mensaje de presentación con tu nombre y edad\n",
    "    - Un mensaje de presentación con tu nombre y edad a partir del diccionario\n",
    "    - La segunda serie de TV y la penúltima contando por atrás.\n",
    "    - La marca de tu calzado.\n",
    "    - Si tu altura es menor que 1.80, muestra la marca de tu calzado, si no, la de tu prenda superior\n",
    "    - Si la inicial de tu ciudad y de tu nombre son una consonante, mostrar la ciudad y tu nombre, si no,muestra solo la ciudad.\n",
    "    \n",
    "    \n",
    "2. Mostrar por pantalla, con uso de un bucle `for`:\n",
    "    - Todos los elementos de `lista_examen`.\n",
    "    - Todos los elementos de `lista_examen` al revés\n",
    "    - Todos aquellos elementos que se encuentren dentro de otra colección ordenada y ocupen un índice impar\n",
    "    - La ciudad si coincide dentro de una lista_de_ciudades = [\"Barcelona\",\"Madrid\"], si no \"ciudad no encontrada\"\n",
    "\n",
    "3. Con uso del bucle while, borra las series de TV por la cola hasta que tengas 2 series y guarda esas series borradas en una nueva lista `series_borradas`.\n",
    "\n",
    "4. Añade esas series que has borrado en la mitad de la lista de tus series.\n",
    "    \n",
    "\n",
    "    "
   ]
  },
  {
   "cell_type": "code",
   "execution_count": null,
   "metadata": {},
   "outputs": [],
   "source": []
  },
  {
   "cell_type": "markdown",
   "metadata": {},
   "source": [
    "### Ejercicio 3 (2 puntos)\n",
    "\n",
    "#### Crear un programa que calcule la cuota de una hipoteca\n",
    "\n",
    "Las cuotas hipotecarias se calculan utilizando la fórmula del interés frances. \n",
    "\n",
    "La formula del interés frances es la siguiente:\n",
    "\\begin{align*}\n",
    "C=V \\frac{(1+i)^n i}{(1+i)^n -1}\n",
    "\\end{align*}\n",
    "\n",
    "\n",
    "    C = Cuota a pagar (mensual)\n",
    "    V = Cantidad del préstamo hipotecario\n",
    "    i = tipo de interés del período (mensual)\n",
    "    n = número de cuotas (mensual)\n",
    "\n",
    "1. Crea un programa que solicite al usuario los datos de su hipoteca (cantidad, interés **anual**, y plazo en **años**) y le devuelva la cuota **mensual** a pagar **sin funciones**.\n",
    "2. Calcula la cuota si la cantidad de la hipoteca son 250000 euros, el interés anual es del 3% y la quiere pagar en 20 años.\n",
    "3. Crea una función `calc_cuota_hip` que realiza el cálculo y cuyos argumentos sean `cantidad_euros`, `interes_anual` y `anios_pago`.\n",
    "4. Crea una función `calc_cuota_hip_noargs` que realice el mismo cálculo pero sin argumentos de entrada y que contenga otra función dentro `recoger_datos_usuario` que recoja los datos del usuario.\n"
   ]
  },
  {
   "cell_type": "code",
   "execution_count": null,
   "metadata": {},
   "outputs": [],
   "source": []
  },
  {
   "cell_type": "markdown",
   "metadata": {},
   "source": [
    "### Ejercicio 4 (2 puntos)\n",
    "\n",
    "1. Crea una clase \"Humano\" que tenga 4 atributos: \"ojos\"(int default 2), \"edad\"(int), \"altura\"(float) y \"nombre\"(str). Además, debe contar con dos métodos: \n",
    "\n",
    "- \"cumplir_edad\": al llamar a este método se debe sumar 1 al atributo edad del humano y que retorne la edad actualizada. \n",
    "- \"registro_nombre\" que recibe parametro \"nuevo_nombre\": al llamar a esta función con un parámetro de entrada, este método debe cambiar el nombre del humano por el \"nuevo_nombre\" y sin retornar nada\n",
    "\n",
    "2. Crea un humano llamado \"Cojoncio\" que tiene el doble de tu de edad (a partir de la variable `lista_examen`) y mide 10 centímetros menos que tu altura (a partir de la variable `lista_examen`). A \"Cojoncio\" nunca le gustó su nombre. Por eso, usa el método correspondiente para cambiarle su nombre por \"Goku\". Además, hoy es su cumpleaños por lo que usa el método correspondiente para aumentar su edad. Muestra tanto el nombre como la edad antes y después ejecutar los métodos.\n",
    "\n",
    "\n",
    "3. Documenta la clase con el estilo de Google\n"
   ]
  },
  {
   "cell_type": "code",
   "execution_count": null,
   "metadata": {},
   "outputs": [],
   "source": []
  }
 ],
 "metadata": {
  "interpreter": {
   "hash": "7c77fdb427e7cbc9bc1367dd530fc2b36aacdbbde1ac83c85833b10dfa8b831c"
  },
  "kernelspec": {
   "display_name": "Python 3.7.4 64-bit",
   "language": "python",
   "name": "python3"
  },
  "language_info": {
   "codemirror_mode": {
    "name": "ipython",
    "version": 3
   },
   "file_extension": ".py",
   "mimetype": "text/x-python",
   "name": "python",
   "nbconvert_exporter": "python",
   "pygments_lexer": "ipython3",
   "version": "3.7.4"
  },
  "orig_nbformat": 4
 },
 "nbformat": 4,
 "nbformat_minor": 2
}
