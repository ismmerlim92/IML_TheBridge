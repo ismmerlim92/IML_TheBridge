{
 "cells": [
  {
   "cell_type": "markdown",
   "metadata": {},
   "source": [
    "# Entrega Ramp Up\n"
   ]
  },
  {
   "cell_type": "markdown",
   "metadata": {},
   "source": [
    "## Ejercicio 1\n",
    "#### Crear un programa que calcule la cuota de una hipoteca\n",
    "\n",
    "Las cuotas hipotecarias se calculan utilizando la fórmula del interés frances. El objetivo del ejercicio es crear un programa que solicite al usuario los datos de su hipoteca (cantidad, intereses, y plazo en años) y le devuelva la cuota mensual a pagar\n",
    "\n",
    "La formula del interés frances es la siguiente:\n",
    "\\begin{align*}\n",
    "C=V \\frac{(1+i)^n i}{(1+i)^n -1}\n",
    "\\end{align*}\n",
    "\n",
    "\n",
    "    C = Cuota a pagar\n",
    "    V = Cantidad del préstamo hipotecario\n",
    "    i = tipo de interés del período\n",
    "    n = número de cuotas\n",
    "\n"
   ]
  },
  {
   "cell_type": "code",
   "execution_count": 1,
   "metadata": {},
   "outputs": [
    {
     "name": "stdin",
     "output_type": "stream",
     "text": [
      "introduce el total de la hipoteca \n",
      " 100000\n"
     ]
    },
    {
     "name": "stdout",
     "output_type": "stream",
     "text": [
      "<class 'str'>\n"
     ]
    },
    {
     "name": "stdin",
     "output_type": "stream",
     "text": [
      "How many years will you have the loan? \n",
      " 10\n",
      "Enter Interest Rate \n",
      " 1\n"
     ]
    },
    {
     "name": "stdout",
     "output_type": "stream",
     "text": [
      "The monthly mortgage payment is\n",
      " (876.04) \n"
     ]
    }
   ],
   "source": [
    "# Declares and asks for user to input loan amount. Then converts to float\n",
    "\n",
    "total_hipoteca = input (\"introduce el total de la hipoteca \\n\")\n",
    "print(type(total_hipoteca))\n",
    "total_hipoteca = float (total_hipoteca)\n",
    "\n",
    "# Declares and asks user to input number of payments in years. Then converts to float. Years * 12 to get\n",
    "#  total number of months\n",
    "meses = float(input('How many years will you have the loan? \\n')) *12\n",
    "\n",
    "# Declares and asks user to input interest rate. Then converts to float and input interest rate is /100/12\n",
    "interestRate = input('Enter Interest Rate \\n')\n",
    "interestRate = float(interestRate) / 100 / 12\n",
    "\n",
    "# Formula to calculate monthly payments\n",
    "cuota = total_hipoteca* (interestRate * (1 + interestRate) ** meses) / ((1 + interestRate) ** meses - 1)\n",
    "\n",
    "\n",
    "# Prints monthly payment on next line and reformat the string to a float using 2 decimal places\n",
    "\n",
    "print(\"The monthly mortgage payment is\\n (%.2f) \" % cuota)"
   ]
  },
  {
   "cell_type": "markdown",
   "metadata": {},
   "source": [
    "## Ejercicio 2\n",
    "#### Crear un programa que calcule el plan de amortización\n",
    "\n",
    "El objetivo del ejercicio es crear un programa que solicite al usuario los datos de su hipoteca (cantidad, intereses, y plazo en años) y le devuelva el plan de amortización.\n",
    "\n",
    "En cada cuota se pagan intereses por el capital restante, y se devuelve capital hasta la cuota mensual. El capital restante ha de ser actualizado restandole el capital devuelto.\n",
    "\n",
    "Salida ejemplo:\n",
    "\n",
    "mes  cuota  intereses  principal  pendiente   \n",
    "\n",
    "0  758.89   450.00   308.89   179691.11 "
   ]
  },
  {
   "cell_type": "code",
   "execution_count": 2,
   "metadata": {},
   "outputs": [
    {
     "name": "stdout",
     "output_type": "stream",
     "text": [
      "mes  cuota  intereses  principal  pendiente\n",
      "0  876.04   83.33   792.71   99207.29 \n",
      "1  876.04   82.67   793.37   98413.92 \n",
      "2  876.04   82.01   794.03   97619.89 \n",
      "3  876.04   81.35   794.69   96825.20 \n",
      "4  876.04   80.69   795.35   96029.85 \n",
      "5  876.04   80.02   796.02   95233.83 \n",
      "6  876.04   79.36   796.68   94437.15 \n",
      "7  876.04   78.70   797.34   93639.81 \n",
      "8  876.04   78.03   798.01   92841.80 \n",
      "9  876.04   77.37   798.67   92043.13 \n",
      "10  876.04   76.70   799.34   91243.79 \n",
      "11  876.04   76.04   800.00   90443.79 \n",
      "12  876.04   75.37   800.67   89643.11 \n",
      "13  876.04   74.70   801.34   88841.78 \n",
      "14  876.04   74.03   802.01   88039.77 \n",
      "15  876.04   73.37   802.67   87237.09 \n",
      "16  876.04   72.70   803.34   86433.75 \n",
      "17  876.04   72.03   804.01   85629.74 \n",
      "18  876.04   71.36   804.68   84825.05 \n",
      "19  876.04   70.69   805.35   84019.70 \n",
      "20  876.04   70.02   806.02   83213.68 \n",
      "21  876.04   69.34   806.70   82406.98 \n",
      "22  876.04   68.67   807.37   81599.61 \n",
      "23  876.04   68.00   808.04   80791.57 \n",
      "24  876.04   67.33   808.71   79982.85 \n",
      "25  876.04   66.65   809.39   79173.47 \n",
      "26  876.04   65.98   810.06   78363.40 \n",
      "27  876.04   65.30   810.74   77552.66 \n",
      "28  876.04   64.63   811.41   76741.25 \n",
      "29  876.04   63.95   812.09   75929.16 \n",
      "30  876.04   63.27   812.77   75116.39 \n",
      "31  876.04   62.60   813.44   74302.95 \n",
      "32  876.04   61.92   814.12   73488.83 \n",
      "33  876.04   61.24   814.80   72674.03 \n",
      "34  876.04   60.56   815.48   71858.55 \n",
      "35  876.04   59.88   816.16   71042.39 \n",
      "36  876.04   59.20   816.84   70225.55 \n",
      "37  876.04   58.52   817.52   69408.03 \n",
      "38  876.04   57.84   818.20   68589.83 \n",
      "39  876.04   57.16   818.88   67770.94 \n",
      "40  876.04   56.48   819.57   66951.38 \n",
      "41  876.04   55.79   820.25   66131.13 \n",
      "42  876.04   55.11   820.93   65310.20 \n",
      "43  876.04   54.43   821.62   64488.58 \n",
      "44  876.04   53.74   822.30   63666.28 \n",
      "45  876.04   53.06   822.99   62843.30 \n",
      "46  876.04   52.37   823.67   62019.62 \n",
      "47  876.04   51.68   824.36   61195.27 \n",
      "48  876.04   51.00   825.05   60370.22 \n",
      "49  876.04   50.31   825.73   59544.49 \n",
      "50  876.04   49.62   826.42   58718.07 \n",
      "51  876.04   48.93   827.11   57890.96 \n",
      "52  876.04   48.24   827.80   57063.16 \n",
      "53  876.04   47.55   828.49   56234.67 \n",
      "54  876.04   46.86   829.18   55405.49 \n",
      "55  876.04   46.17   829.87   54575.62 \n",
      "56  876.04   45.48   830.56   53745.06 \n",
      "57  876.04   44.79   831.25   52913.81 \n",
      "58  876.04   44.09   831.95   52081.86 \n",
      "59  876.04   43.40   832.64   51249.22 \n",
      "60  876.04   42.71   833.33   50415.89 \n",
      "61  876.04   42.01   834.03   49581.86 \n",
      "62  876.04   41.32   834.72   48747.13 \n",
      "63  876.04   40.62   835.42   47911.72 \n",
      "64  876.04   39.93   836.11   47075.60 \n",
      "65  876.04   39.23   836.81   46238.79 \n",
      "66  876.04   38.53   837.51   45401.28 \n",
      "67  876.04   37.83   838.21   44563.07 \n",
      "68  876.04   37.14   838.91   43724.17 \n",
      "69  876.04   36.44   839.60   42884.56 \n",
      "70  876.04   35.74   840.30   42044.26 \n",
      "71  876.04   35.04   841.00   41203.26 \n",
      "72  876.04   34.34   841.71   40361.55 \n",
      "73  876.04   33.63   842.41   39519.14 \n",
      "74  876.04   32.93   843.11   38676.04 \n",
      "75  876.04   32.23   843.81   37832.22 \n",
      "76  876.04   31.53   844.51   36987.71 \n",
      "77  876.04   30.82   845.22   36142.49 \n",
      "78  876.04   30.12   845.92   35296.57 \n",
      "79  876.04   29.41   846.63   34449.94 \n",
      "80  876.04   28.71   847.33   33602.61 \n",
      "81  876.04   28.00   848.04   32754.57 \n",
      "82  876.04   27.30   848.75   31905.82 \n",
      "83  876.04   26.59   849.45   31056.37 \n",
      "84  876.04   25.88   850.16   30206.21 \n",
      "85  876.04   25.17   850.87   29355.34 \n",
      "86  876.04   24.46   851.58   28503.76 \n",
      "87  876.04   23.75   852.29   27651.47 \n",
      "88  876.04   23.04   853.00   26798.48 \n",
      "89  876.04   22.33   853.71   25944.77 \n",
      "90  876.04   21.62   854.42   25090.35 \n",
      "91  876.04   20.91   855.13   24235.21 \n",
      "92  876.04   20.20   855.85   23379.37 \n",
      "93  876.04   19.48   856.56   22522.81 \n",
      "94  876.04   18.77   857.27   21665.54 \n",
      "95  876.04   18.05   857.99   20807.55 \n",
      "96  876.04   17.34   858.70   19948.85 \n",
      "97  876.04   16.62   859.42   19089.43 \n",
      "98  876.04   15.91   860.13   18229.30 \n",
      "99  876.04   15.19   860.85   17368.45 \n",
      "100  876.04   14.47   861.57   16506.88 \n",
      "101  876.04   13.76   862.29   15644.60 \n",
      "102  876.04   13.04   863.00   14781.59 \n",
      "103  876.04   12.32   863.72   13917.87 \n",
      "104  876.04   11.60   864.44   13053.43 \n",
      "105  876.04   10.88   865.16   12188.26 \n",
      "106  876.04   10.16   865.88   11322.38 \n",
      "107  876.04   9.44   866.61   10455.77 \n",
      "108  876.04   8.71   867.33   9588.44 \n",
      "109  876.04   7.99   868.05   8720.39 \n",
      "110  876.04   7.27   868.77   7851.62 \n",
      "111  876.04   6.54   869.50   6982.12 \n",
      "112  876.04   5.82   870.22   6111.90 \n",
      "113  876.04   5.09   870.95   5240.95 \n",
      "114  876.04   4.37   871.67   4369.28 \n",
      "115  876.04   3.64   872.40   3496.88 \n",
      "116  876.04   2.91   873.13   2623.75 \n",
      "117  876.04   2.19   873.85   1749.89 \n",
      "118  876.04   1.46   874.58   875.31 \n",
      "119  876.04   0.73   875.31   -0.00 \n"
     ]
    }
   ],
   "source": [
    "# tu codigo va aquí\n",
    "\n",
    "balance = total_hipoteca\n",
    "\n",
    "print (\"mes  cuota  intereses  principal  pendiente\")\n",
    "\n",
    "\n",
    "for i in range(int(meses)):\n",
    "    interest = balance * interestRate\n",
    "    principal = cuota - interest\n",
    "    balance = balance - principal \n",
    "    print (i,\" %.2f \"  % cuota, \" %.2f \"  %  interest, \" %.2f \"  % principal, \" %.2f \"  % balance)"
   ]
  },
  {
   "cell_type": "markdown",
   "metadata": {},
   "source": [
    "## Ejercicio 3\n",
    "#### Crear un programa que resuelva una ecuacción de segundo grado\n",
    "\n",
    "El objetivo del programa es resolver la ecuacción de sgundo grado \n",
    "\n",
    "\\begin{align*}\n",
    "ax^2+bx+c = 0\n",
    "\\end{align*}\n",
    "\n",
    "Pasando como parámetros los coeficientes de la ecuacción. La resolución de la ecuacción es la siguiente:\n",
    "\n",
    "\\begin{align*}\n",
    "x=\\frac{-b \\pm \\sqrt{b^2-4ac}}{2a}\n",
    "\\end{align*}\n",
    "\n",
    "Para realizar este programa tienes que utilizar el metodo sqrt() para calcular la raiz cuadrada. Para ello tienes que importar el módulo math. Así que tu programa debería empezar con ```ìmport math```\n"
   ]
  },
  {
   "cell_type": "code",
   "execution_count": null,
   "metadata": {},
   "outputs": [],
   "source": [
    "# tu codigo aqui. Tenemos que usar la funcion sqrt del módulo math\n",
    "\n",
    "\n",
    "import math  # Makes the math library available.\n",
    "\n",
    "print(\"This program finds the real solutions to a quadratic\")\n",
    "print()\n",
    "\n",
    "a = float(input(\"Enter coefficient a: \"))\n",
    "b = float(input(\"Enter coefficient b: \"))\n",
    "c = float(input(\"Enter coefficient c: \"))\n",
    "\n",
    "discRoot = math.sqrt(b * b - 4 * a * c)\n",
    "root1 = (-b + discRoot) / (2 * a)\n",
    "root2 = (-b - discRoot) / (2 * a)\n",
    "\n",
    "print()\n",
    "print(\"The solutions are:\", root1, root2 )\n",
    "\n"
   ]
  },
  {
   "cell_type": "markdown",
   "metadata": {},
   "source": [
    "## Ejercicio 4\n",
    "#### Crear un programa que calcule el average\n",
    "\n",
    "El programa pedirá al usuario que introduzca numeros. En primer lugar le pedirá que indique cuantos números se quieren introducir, y enseñara un prompt para incluirlos, y calculará el average.\n",
    "\n"
   ]
  },
  {
   "cell_type": "code",
   "execution_count": 3,
   "metadata": {},
   "outputs": [
    {
     "name": "stdin",
     "output_type": "stream",
     "text": [
      "How many numbers do you have?  5\n",
      "Enter a number >>  1\n",
      "Enter a number >>  2\n",
      "Enter a number >>  4\n",
      "Enter a number >>  7\n",
      "Enter a number >>  2\n"
     ]
    },
    {
     "name": "stdout",
     "output_type": "stream",
     "text": [
      "\n",
      "The average of the numbers is 3.2\n"
     ]
    }
   ],
   "source": [
    "n = int(input(\"How many numbers do you have? \"))\n",
    "total = 0.0\n",
    "for i in range(n):\n",
    "    x = float(input(\"Enter a number >> \"))\n",
    "    total = total + x\n",
    "print(\"\\nThe average of the numbers is\", total / n)"
   ]
  },
  {
   "cell_type": "markdown",
   "metadata": {},
   "source": [
    "## Ejercicio 5\n",
    "#### Crear un programa que calcule el average II\n",
    "\n",
    "El programa pedirá que se diga cuantos números se quieren introducir, y enseñara un prompt para incluirl número a número en una lista, y calcule después el average.\n"
   ]
  },
  {
   "cell_type": "code",
   "execution_count": null,
   "metadata": {},
   "outputs": [],
   "source": [
    "# tu codigo aqui\n",
    "\n",
    "n = int(input(\"How many numbers do you have? \"))\n",
    "x = [] \n",
    "for i in range(n):\n",
    "    x.append((int(input(\"Enter a number >> \"))))\n",
    "\n",
    "print(\"\\nThe average of the numbers is\", sum(x)/len(x))"
   ]
  },
  {
   "cell_type": "markdown",
   "metadata": {},
   "source": [
    "## Ejercicio 6\n",
    "#### Write a Python program to convert a list of characters into a string.\n",
    "\n",
    "Sample list : ['a','b','c','d']\n",
    "\n",
    "Expected output : abcd"
   ]
  },
  {
   "cell_type": "code",
   "execution_count": 4,
   "metadata": {},
   "outputs": [
    {
     "name": "stdout",
     "output_type": "stream",
     "text": [
      "abcd\n"
     ]
    }
   ],
   "source": [
    "# tu codigo aqui\n",
    "\n",
    "s = ['a', 'b', 'c', 'd']\n",
    "str1 = ''.join(s)\n",
    "print(str1)\n"
   ]
  },
  {
   "cell_type": "markdown",
   "metadata": {},
   "source": [
    "## Ejercicio 7\n",
    "#### First and last 5\n",
    "Write a Python program to generate and print a list of first and last 5 elements where the values are square of numbers between 1 and 30 (both included). "
   ]
  },
  {
   "cell_type": "code",
   "execution_count": 1,
   "metadata": {},
   "outputs": [
    {
     "name": "stdout",
     "output_type": "stream",
     "text": [
      "[1, 4, 9, 16, 25]\n",
      "[676, 729, 784, 841, 900]\n"
     ]
    }
   ],
   "source": [
    "# tu codigo aqui\n",
    "\n",
    "l = list()\n",
    "for i in range(1,31):\n",
    "    l.append(i**2)\n",
    "print(l[:5])\n",
    "print(l[-5:])\n"
   ]
  },
  {
   "cell_type": "markdown",
   "metadata": {},
   "source": [
    "## Ejercicio 8\n",
    "#### Interactuando con listas\n",
    "\n",
    "From given list gadgets = [“Mobile”, “Laptop”, 100, “Camera”, 310.28, “Speakers”, 27.00,\n",
    "“Television”, 1000, “Laptop Case”, “Camera Lens”]\n",
    "\n",
    "a)create separate lists of strings and numbers.  \n",
    "\n",
    "b)Sort the strings list in ascending order  \n",
    "\n",
    "c)Sort the strings list in descending order  \n",
    "\n",
    "d)Sort the number list from lowest to highest  \n",
    "\n",
    "e)Sort the number list from highest to lowest"
   ]
  },
  {
   "cell_type": "code",
   "execution_count": null,
   "metadata": {},
   "outputs": [],
   "source": [
    "gadgets = [\"Mobile\", \"Laptop\", 100, \"Camera\", 310.28, \"Speakers\", 27.00, \n",
    "           \"Television\", 1000, \"Laptop Case\", \"Camera Lens\"]\n",
    " \n",
    "str_items = []\n",
    " \n",
    "num_items = []\n",
    " \n",
    "#a)creating separate lists\n",
    "\n",
    "for item in gadgets: \n",
    "     \n",
    "    if type(item) is str:\n",
    "         \n",
    "        str_items.append(item)\n",
    "         \n",
    "    elif type(item) is int or type(item) is float:\n",
    "         \n",
    "        num_items.append(item)\n",
    " \n",
    "  \n",
    "print(str_items)\n",
    " \n",
    "print(num_items)\n",
    " \n",
    "print ('b)sorting strings list in ascending order, a-z')\n",
    " \n",
    "str_items.sort(key=str.lower)\n",
    " \n",
    "print(str_items)\n",
    " \n",
    " \n",
    "print ('sorting strings list in descending order z-a')\n",
    " \n",
    "# str_items.sort(key=str.lower, reverse=True)\n",
    "\n",
    "str_items.sort(reverse=True)\n",
    "\n",
    "print(str_items)\n",
    " \n",
    " \n",
    "#d)sorting number list from lowest to highest\n",
    " \n",
    "num_items.sort()\n",
    " \n",
    "print(num_items)\n",
    " \n",
    " \n",
    "#e)sorting number list from highest to lowest\n",
    " \n",
    "num_items.sort(reverse=True)\n",
    " \n",
    "print(num_items)\n",
    "    "
   ]
  },
  {
   "cell_type": "markdown",
   "metadata": {},
   "source": [
    "## Ejercicio 9\n",
    "#### Get first, second best scores from the list.\n",
    "\n",
    "List may contain duplicates.\n",
    "\n",
    "Ex: [86,86,85,85,85,83,23,45,84,1,2,0] => should get 86, 85"
   ]
  },
  {
   "cell_type": "code",
   "execution_count": null,
   "metadata": {},
   "outputs": [],
   "source": [
    " \n",
    "#sort the list and get the elements\n",
    " \n",
    "a_list = [84,84,86,86,85,85,85,83,23,45,84,1,2,0]\n",
    "\n",
    "a_list.sort(reverse=True) \n",
    "print(a_list)\n",
    " \n",
    "first = a_list[0]\n",
    " \n",
    "second = None\n",
    "\n",
    "# comprobación para ver si el primero está duplicado. iteramos en la list hasta que encontramos un valor diferente y salimos del bucle\n",
    "\n",
    "for element in a_list:\n",
    "    if element != first:\n",
    "        second = element\n",
    "        break;\n",
    "\n",
    "print(first,second)\n",
    "\n",
    "  "
   ]
  },
  {
   "cell_type": "markdown",
   "metadata": {},
   "source": [
    "## Ejercicio 10\n",
    "#### Write a program that detects if a string is a palindrome\n",
    "Ask the user for a string and print out whether this string is a palindrome or not. (A palindrome is a string that reads the same forwards and backwards.)"
   ]
  },
  {
   "cell_type": "code",
   "execution_count": null,
   "metadata": {},
   "outputs": [],
   "source": [
    "# Program to check if a string is palindrome or not\n",
    "\n",
    "my_str = input(\"introduce una palabra para ver si es un palíndromo: \")\n",
    "\n",
    "my_str = my_str.lower()\n",
    "\n",
    "# reverse the string\n",
    "rev_str = reversed(my_str)\n",
    "\n",
    "# check if the string is equal to its reverse\n",
    "if list(my_str) == list(rev_str):\n",
    "   print(\"The string is a palindrome.\")\n",
    "else:\n",
    "   print(\"The string is not a palindrome.\")"
   ]
  }
 ],
 "metadata": {
  "kernelspec": {
   "display_name": "Python 3",
   "language": "python",
   "name": "python3"
  },
  "language_info": {
   "codemirror_mode": {
    "name": "ipython",
    "version": 3
   },
   "file_extension": ".py",
   "mimetype": "text/x-python",
   "name": "python",
   "nbconvert_exporter": "python",
   "pygments_lexer": "ipython3",
   "version": "3.8.3"
  }
 },
 "nbformat": 4,
 "nbformat_minor": 4
}
