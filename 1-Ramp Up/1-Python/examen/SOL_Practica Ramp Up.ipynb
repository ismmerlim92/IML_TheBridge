{
 "cells": [
  {
   "cell_type": "markdown",
   "metadata": {},
   "source": [
    "# Entrega Ramp Up\n"
   ]
  },
  {
   "cell_type": "markdown",
   "metadata": {},
   "source": [
    "## Ejercicio 1\n",
    "#### Crear un programa que calcule la cuota de una hipoteca\n",
    "\n",
    "Las cuotas hipotecarias se calculan utilizando la fórmula del interés frances. El objetivo del ejercicio es crear un programa que solicite al usuario los datos de su hipoteca (cantidad, intereses, y plazo en años) y le devuelva la cuota mensual a pagar\n",
    "\n",
    "La formula del interés frances es la siguiente:\n",
    "\\begin{align*}\n",
    "C=V \\frac{(1+i)^n i}{(1+i)^n -1}\n",
    "\\end{align*}\n",
    "\n",
    "\n",
    "    C = Cuota a pagar\n",
    "    V = Cantidad del préstamo hipotecario\n",
    "    i = tipo de interés del período (tipo de interes de la hipoteca por mes)\n",
    "    n = número de cuotas (en meses)\n",
    "\n",
    "V = 300.000\n",
    "\n",
    "i = 2 %\n",
    "\n",
    "n = 20*12\n",
    "\n",
    "output: 1517"
   ]
  },
  {
   "cell_type": "code",
   "execution_count": 4,
   "metadata": {},
   "outputs": [
    {
     "name": "stdin",
     "output_type": "stream",
     "text": [
      "Introduce total hipoteca:  100000\n",
      "¿A cuántos años?  20\n",
      "Tipo de interés:  1\n"
     ]
    }
   ],
   "source": [
    "total_hipoteca = float(input(\"Introduce total hipoteca: \"))\n",
    "\n",
    "meses = float(input(\"¿A cuántos años? \")) * 12\n",
    "\n",
    "interestRate = float(input(\"Tipo de interés: \"))/100/12\n",
    "\n",
    "numerador = interestRate*(1 + interestRate)**meses\n",
    "denominador = ((1 + interestRate)**meses) - 1\n",
    "cuota = total_hipoteca * (numerador/denominador)\n"
   ]
  },
  {
   "cell_type": "code",
   "execution_count": 5,
   "metadata": {},
   "outputs": [
    {
     "data": {
      "text/plain": [
       "459.89430695784233"
      ]
     },
     "execution_count": 5,
     "metadata": {},
     "output_type": "execute_result"
    }
   ],
   "source": [
    "cuota"
   ]
  },
  {
   "cell_type": "markdown",
   "metadata": {},
   "source": [
    "## Ejercicio 2\n",
    "#### Crear un programa que calcule el plan de amortización\n",
    "\n",
    "El objetivo del ejercicio es crear un programa que solicite al usuario los datos de su hipoteca (cantidad, intereses, y plazo en años) y le devuelva el plan de amortización.\n",
    "\n",
    "En cada cuota se pagan intereses por el capital restante, y se devuelve capital hasta la cuota mensual. El capital restante ha de ser actualizado restandole el capital devuelto.\n",
    "\n",
    "Salida ejemplo:\n",
    "\n",
    "mes  cuota  intereses  principal  pendiente   \n",
    "\n",
    "0  758.89   450.00   308.89   179691.11 \n",
    "\n",
    "**NOTA**: Tienes que partir de tipo de interes por periodo calculado en el apartado anterior, y del total de la hipoteca. Para cada mes calcular:\n",
    "\n",
    "1. cuota (apartado anterior)\n",
    "2. intereses a pagar del mes (lo que quede por pagar * interes por periodo del apartado anterior)\n",
    "3. principal (cuota - interes)\n",
    "4. pendiente (lo que quede por pagar - principal)\n",
    "\n",
    "Igual que se calcula aqui: http://www.calculohipoteca.org"
   ]
  },
  {
   "cell_type": "code",
   "execution_count": 7,
   "metadata": {
    "collapsed": true,
    "jupyter": {
     "outputs_hidden": true
    },
    "tags": []
   },
   "outputs": [
    {
     "name": "stdout",
     "output_type": "stream",
     "text": [
      "mes  cuota  intereses  principal  pendiente\n",
      "0  459.89   83.33   376.56   99623.44 \n",
      "1  459.89   83.02   376.87   99246.56 \n",
      "2  459.89   82.71   377.19   98869.38 \n",
      "3  459.89   82.39   377.50   98491.87 \n",
      "4  459.89   82.08   377.82   98114.05 \n",
      "5  459.89   81.76   378.13   97735.92 \n",
      "6  459.89   81.45   378.45   97357.47 \n",
      "7  459.89   81.13   378.76   96978.71 \n",
      "8  459.89   80.82   379.08   96599.63 \n",
      "9  459.89   80.50   379.39   96220.24 \n",
      "10  459.89   80.18   379.71   95840.53 \n",
      "11  459.89   79.87   380.03   95460.50 \n",
      "12  459.89   79.55   380.34   95080.16 \n",
      "13  459.89   79.23   380.66   94699.50 \n",
      "14  459.89   78.92   380.98   94318.52 \n",
      "15  459.89   78.60   381.30   93937.22 \n",
      "16  459.89   78.28   381.61   93555.61 \n",
      "17  459.89   77.96   381.93   93173.68 \n",
      "18  459.89   77.64   382.25   92791.43 \n",
      "19  459.89   77.33   382.57   92408.86 \n",
      "20  459.89   77.01   382.89   92025.97 \n",
      "21  459.89   76.69   383.21   91642.77 \n",
      "22  459.89   76.37   383.53   91259.24 \n",
      "23  459.89   76.05   383.84   90875.40 \n",
      "24  459.89   75.73   384.16   90491.23 \n",
      "25  459.89   75.41   384.48   90106.75 \n",
      "26  459.89   75.09   384.81   89721.94 \n",
      "27  459.89   74.77   385.13   89336.81 \n",
      "28  459.89   74.45   385.45   88951.37 \n",
      "29  459.89   74.13   385.77   88565.60 \n",
      "30  459.89   73.80   386.09   88179.51 \n",
      "31  459.89   73.48   386.41   87793.10 \n",
      "32  459.89   73.16   386.73   87406.37 \n",
      "33  459.89   72.84   387.06   87019.31 \n",
      "34  459.89   72.52   387.38   86631.93 \n",
      "35  459.89   72.19   387.70   86244.23 \n",
      "36  459.89   71.87   388.02   85856.21 \n",
      "37  459.89   71.55   388.35   85467.86 \n",
      "38  459.89   71.22   388.67   85079.19 \n",
      "39  459.89   70.90   388.99   84690.19 \n",
      "40  459.89   70.58   389.32   84300.87 \n",
      "41  459.89   70.25   389.64   83911.23 \n",
      "42  459.89   69.93   389.97   83521.26 \n",
      "43  459.89   69.60   390.29   83130.97 \n",
      "44  459.89   69.28   390.62   82740.35 \n",
      "45  459.89   68.95   390.94   82349.41 \n",
      "46  459.89   68.62   391.27   81958.14 \n",
      "47  459.89   68.30   391.60   81566.54 \n",
      "48  459.89   67.97   391.92   81174.62 \n",
      "49  459.89   67.65   392.25   80782.37 \n",
      "50  459.89   67.32   392.58   80389.79 \n",
      "51  459.89   66.99   392.90   79996.89 \n",
      "52  459.89   66.66   393.23   79603.66 \n",
      "53  459.89   66.34   393.56   79210.10 \n",
      "54  459.89   66.01   393.89   78816.22 \n",
      "55  459.89   65.68   394.21   78422.00 \n",
      "56  459.89   65.35   394.54   78027.46 \n",
      "57  459.89   65.02   394.87   77632.59 \n",
      "58  459.89   64.69   395.20   77237.39 \n",
      "59  459.89   64.36   395.53   76841.86 \n",
      "60  459.89   64.03   395.86   76446.00 \n",
      "61  459.89   63.70   396.19   76049.81 \n",
      "62  459.89   63.37   396.52   75653.29 \n",
      "63  459.89   63.04   396.85   75256.44 \n",
      "64  459.89   62.71   397.18   74859.26 \n",
      "65  459.89   62.38   397.51   74461.75 \n",
      "66  459.89   62.05   397.84   74063.91 \n",
      "67  459.89   61.72   398.17   73665.73 \n",
      "68  459.89   61.39   398.51   73267.22 \n",
      "69  459.89   61.06   398.84   72868.39 \n",
      "70  459.89   60.72   399.17   72469.22 \n",
      "71  459.89   60.39   399.50   72069.71 \n",
      "72  459.89   60.06   399.84   71669.88 \n",
      "73  459.89   59.72   400.17   71269.71 \n",
      "74  459.89   59.39   400.50   70869.20 \n",
      "75  459.89   59.06   400.84   70468.37 \n",
      "76  459.89   58.72   401.17   70067.20 \n",
      "77  459.89   58.39   401.50   69665.69 \n",
      "78  459.89   58.05   401.84   69263.85 \n",
      "79  459.89   57.72   402.17   68861.68 \n",
      "80  459.89   57.38   402.51   68459.17 \n",
      "81  459.89   57.05   402.85   68056.32 \n",
      "82  459.89   56.71   403.18   67653.14 \n",
      "83  459.89   56.38   403.52   67249.63 \n",
      "84  459.89   56.04   403.85   66845.77 \n",
      "85  459.89   55.70   404.19   66441.58 \n",
      "86  459.89   55.37   404.53   66037.06 \n",
      "87  459.89   55.03   404.86   65632.19 \n",
      "88  459.89   54.69   405.20   65226.99 \n",
      "89  459.89   54.36   405.54   64821.45 \n",
      "90  459.89   54.02   405.88   64415.58 \n",
      "91  459.89   53.68   406.21   64009.36 \n",
      "92  459.89   53.34   406.55   63602.81 \n",
      "93  459.89   53.00   406.89   63195.92 \n",
      "94  459.89   52.66   407.23   62788.69 \n",
      "95  459.89   52.32   407.57   62381.12 \n",
      "96  459.89   51.98   407.91   61973.21 \n",
      "97  459.89   51.64   408.25   61564.96 \n",
      "98  459.89   51.30   408.59   61156.37 \n",
      "99  459.89   50.96   408.93   60747.44 \n",
      "100  459.89   50.62   409.27   60338.16 \n",
      "101  459.89   50.28   409.61   59928.55 \n",
      "102  459.89   49.94   409.95   59518.60 \n",
      "103  459.89   49.60   410.30   59108.30 \n",
      "104  459.89   49.26   410.64   58697.66 \n",
      "105  459.89   48.91   410.98   58286.69 \n",
      "106  459.89   48.57   411.32   57875.36 \n",
      "107  459.89   48.23   411.66   57463.70 \n",
      "108  459.89   47.89   412.01   57051.69 \n",
      "109  459.89   47.54   412.35   56639.34 \n",
      "110  459.89   47.20   412.69   56226.64 \n",
      "111  459.89   46.86   413.04   55813.61 \n",
      "112  459.89   46.51   413.38   55400.22 \n",
      "113  459.89   46.17   413.73   54986.50 \n",
      "114  459.89   45.82   414.07   54572.42 \n",
      "115  459.89   45.48   414.42   54158.01 \n",
      "116  459.89   45.13   414.76   53743.24 \n",
      "117  459.89   44.79   415.11   53328.13 \n",
      "118  459.89   44.44   415.45   52912.68 \n",
      "119  459.89   44.09   415.80   52496.88 \n",
      "120  459.89   43.75   416.15   52080.73 \n",
      "121  459.89   43.40   416.49   51664.24 \n",
      "122  459.89   43.05   416.84   51247.40 \n",
      "123  459.89   42.71   417.19   50830.21 \n",
      "124  459.89   42.36   417.54   50412.67 \n",
      "125  459.89   42.01   417.88   49994.79 \n",
      "126  459.89   41.66   418.23   49576.56 \n",
      "127  459.89   41.31   418.58   49157.98 \n",
      "128  459.89   40.96   418.93   48739.05 \n",
      "129  459.89   40.62   419.28   48319.77 \n",
      "130  459.89   40.27   419.63   47900.14 \n",
      "131  459.89   39.92   419.98   47480.17 \n",
      "132  459.89   39.57   420.33   47059.84 \n",
      "133  459.89   39.22   420.68   46639.16 \n",
      "134  459.89   38.87   421.03   46218.13 \n",
      "135  459.89   38.52   421.38   45796.75 \n",
      "136  459.89   38.16   421.73   45375.02 \n",
      "137  459.89   37.81   422.08   44952.94 \n",
      "138  459.89   37.46   422.43   44530.51 \n",
      "139  459.89   37.11   422.79   44107.72 \n",
      "140  459.89   36.76   423.14   43684.58 \n",
      "141  459.89   36.40   423.49   43261.09 \n",
      "142  459.89   36.05   423.84   42837.25 \n",
      "143  459.89   35.70   424.20   42413.05 \n",
      "144  459.89   35.34   424.55   41988.50 \n",
      "145  459.89   34.99   424.90   41563.60 \n",
      "146  459.89   34.64   425.26   41138.34 \n",
      "147  459.89   34.28   425.61   40712.73 \n",
      "148  459.89   33.93   425.97   40286.76 \n",
      "149  459.89   33.57   426.32   39860.44 \n",
      "150  459.89   33.22   426.68   39433.76 \n",
      "151  459.89   32.86   427.03   39006.73 \n",
      "152  459.89   32.51   427.39   38579.34 \n",
      "153  459.89   32.15   427.74   38151.60 \n",
      "154  459.89   31.79   428.10   37723.49 \n",
      "155  459.89   31.44   428.46   37295.04 \n",
      "156  459.89   31.08   428.82   36866.22 \n",
      "157  459.89   30.72   429.17   36437.05 \n",
      "158  459.89   30.36   429.53   36007.52 \n",
      "159  459.89   30.01   429.89   35577.63 \n",
      "160  459.89   29.65   430.25   35147.38 \n",
      "161  459.89   29.29   430.60   34716.78 \n",
      "162  459.89   28.93   430.96   34285.82 \n",
      "163  459.89   28.57   431.32   33854.49 \n",
      "164  459.89   28.21   431.68   33422.81 \n",
      "165  459.89   27.85   432.04   32990.77 \n",
      "166  459.89   27.49   432.40   32558.37 \n",
      "167  459.89   27.13   432.76   32125.61 \n",
      "168  459.89   26.77   433.12   31692.48 \n",
      "169  459.89   26.41   433.48   31259.00 \n",
      "170  459.89   26.05   433.85   30825.15 \n",
      "171  459.89   25.69   434.21   30390.95 \n",
      "172  459.89   25.33   434.57   29956.38 \n",
      "173  459.89   24.96   434.93   29521.45 \n",
      "174  459.89   24.60   435.29   29086.15 \n",
      "175  459.89   24.24   435.66   28650.50 \n",
      "176  459.89   23.88   436.02   28214.48 \n",
      "177  459.89   23.51   436.38   27778.10 \n",
      "178  459.89   23.15   436.75   27341.35 \n",
      "179  459.89   22.78   437.11   26904.24 \n",
      "180  459.89   22.42   437.47   26466.77 \n",
      "181  459.89   22.06   437.84   26028.93 \n",
      "182  459.89   21.69   438.20   25590.73 \n",
      "183  459.89   21.33   438.57   25152.16 \n",
      "184  459.89   20.96   438.93   24713.22 \n",
      "185  459.89   20.59   439.30   24273.92 \n",
      "186  459.89   20.23   439.67   23834.26 \n",
      "187  459.89   19.86   440.03   23394.22 \n",
      "188  459.89   19.50   440.40   22953.82 \n",
      "189  459.89   19.13   440.77   22513.06 \n",
      "190  459.89   18.76   441.13   22071.93 \n",
      "191  459.89   18.39   441.50   21630.42 \n",
      "192  459.89   18.03   441.87   21188.56 \n",
      "193  459.89   17.66   442.24   20746.32 \n",
      "194  459.89   17.29   442.61   20303.71 \n",
      "195  459.89   16.92   442.97   19860.74 \n",
      "196  459.89   16.55   443.34   19417.39 \n",
      "197  459.89   16.18   443.71   18973.68 \n",
      "198  459.89   15.81   444.08   18529.60 \n",
      "199  459.89   15.44   444.45   18085.14 \n",
      "200  459.89   15.07   444.82   17640.32 \n",
      "201  459.89   14.70   445.19   17195.13 \n",
      "202  459.89   14.33   445.57   16749.56 \n",
      "203  459.89   13.96   445.94   16303.63 \n",
      "204  459.89   13.59   446.31   15857.32 \n",
      "205  459.89   13.21   446.68   15410.64 \n",
      "206  459.89   12.84   447.05   14963.59 \n",
      "207  459.89   12.47   447.42   14516.16 \n",
      "208  459.89   12.10   447.80   14068.36 \n",
      "209  459.89   11.72   448.17   13620.19 \n",
      "210  459.89   11.35   448.54   13171.65 \n",
      "211  459.89   10.98   448.92   12722.73 \n",
      "212  459.89   10.60   449.29   12273.44 \n",
      "213  459.89   10.23   449.67   11823.77 \n",
      "214  459.89   9.85   450.04   11373.73 \n",
      "215  459.89   9.48   450.42   10923.32 \n",
      "216  459.89   9.10   450.79   10472.52 \n",
      "217  459.89   8.73   451.17   10021.36 \n",
      "218  459.89   8.35   451.54   9569.81 \n",
      "219  459.89   7.97   451.92   9117.89 \n",
      "220  459.89   7.60   452.30   8665.60 \n",
      "221  459.89   7.22   452.67   8212.93 \n",
      "222  459.89   6.84   453.05   7759.87 \n",
      "223  459.89   6.47   453.43   7306.45 \n",
      "224  459.89   6.09   453.81   6852.64 \n",
      "225  459.89   5.71   454.18   6398.46 \n",
      "226  459.89   5.33   454.56   5943.90 \n",
      "227  459.89   4.95   454.94   5488.95 \n",
      "228  459.89   4.57   455.32   5033.63 \n",
      "229  459.89   4.19   455.70   4577.93 \n",
      "230  459.89   3.81   456.08   4121.86 \n",
      "231  459.89   3.43   456.46   3665.40 \n",
      "232  459.89   3.05   456.84   3208.56 \n",
      "233  459.89   2.67   457.22   2751.34 \n",
      "234  459.89   2.29   457.60   2293.73 \n",
      "235  459.89   1.91   457.98   1835.75 \n",
      "236  459.89   1.53   458.36   1377.39 \n",
      "237  459.89   1.15   458.75   918.64 \n",
      "238  459.89   0.77   459.13   459.51 \n",
      "239  459.89   0.38   459.51   -0.00 \n"
     ]
    }
   ],
   "source": [
    "print(\"mes  cuota  intereses  principal  pendiente\")\n",
    "\n",
    "balance_hipoteca = total_hipoteca\n",
    "\n",
    "for i in range(int(meses)):\n",
    "    interest = balance_hipoteca * interestRate\n",
    "    principal = cuota - interest\n",
    "    balance_hipoteca -= principal\n",
    "    print (i,\" %.2f \"  % cuota, \" %.2f \"  %  interest, \" %.2f \"  % principal, \" %.2f \"  % balance_hipoteca)"
   ]
  },
  {
   "cell_type": "markdown",
   "metadata": {},
   "source": [
    "## Ejercicio 3\n",
    "#### Crear un programa que resuelva una ecuacción de segundo grado\n",
    "\n",
    "El objetivo del programa es resolver la ecuacción de sgundo grado \n",
    "\n",
    "\\begin{align*}\n",
    "ax^2+bx+c = 0\n",
    "\\end{align*}\n",
    "\n",
    "Pasando como parámetros los coeficientes de la ecuacción. La resolución de la ecuacción es la siguiente:\n",
    "\n",
    "\\begin{align*}\n",
    "x=\\frac{-b \\pm \\sqrt{b^2-4ac}}{2a}\n",
    "\\end{align*}\n",
    "\n",
    "Para realizar este programa tienes que utilizar el metodo sqrt() para calcular la raiz cuadrada. Para ello tienes que importar el módulo math. Así que tu programa debería empezar con ```ìmport math```\n"
   ]
  },
  {
   "cell_type": "code",
   "execution_count": 14,
   "metadata": {},
   "outputs": [
    {
     "name": "stdout",
     "output_type": "stream",
     "text": [
      "Raiza negativa\n"
     ]
    }
   ],
   "source": [
    "import math\n",
    "\n",
    "a = 10\n",
    "b = 1.0\n",
    "c = 10\n",
    "\n",
    "try:\n",
    "    root = math.sqrt(b*b - 4*a*c)\n",
    "    \n",
    "    root_1 = (-b + root) / (2*a)\n",
    "    root_2 = (-b - root) / (2*a)\n",
    "    \n",
    "    print(\"Solucion:\", root_1, root_2)\n",
    "    \n",
    "except ValueError:\n",
    "    print(\"Raiza negativa\")\n",
    "\n",
    "except ZeroDivisionError:\n",
    "    print(\"Division por 0\")\n",
    "    "
   ]
  },
  {
   "cell_type": "markdown",
   "metadata": {},
   "source": [
    "## Ejercicio 4\n",
    "#### Crear un programa que calcule el average\n",
    "\n",
    "El programa pedirá al usuario que introduzca numeros. En primer lugar le pedirá que indique cuantos números se quieren introducir, y enseñara un prompt para incluirlos, y calculará el average.\n",
    "\n"
   ]
  },
  {
   "cell_type": "code",
   "execution_count": 17,
   "metadata": {
    "collapsed": true,
    "jupyter": {
     "outputs_hidden": true
    },
    "tags": []
   },
   "outputs": [
    {
     "name": "stdin",
     "output_type": "stream",
     "text": [
      "¿Cuantos numeros? 3\n",
      "Introduce numero >>  3\n",
      "Introduce numero >>  6\n",
      "Introduce numero >>  4\n"
     ]
    },
    {
     "name": "stdout",
     "output_type": "stream",
     "text": [
      "Media: 4.333333333333333\n"
     ]
    }
   ],
   "source": [
    "n = int(input(\"¿Cuantos numeros?\"))\n",
    "\n",
    "total = 0\n",
    "for i in range(n):\n",
    "    entrada_num = float(input(\"Introduce numero >> \"))\n",
    "    total+=entrada_num\n",
    "\n",
    "print(\"Media:\", total/n)"
   ]
  },
  {
   "cell_type": "markdown",
   "metadata": {},
   "source": [
    "## Ejercicio 5\n",
    "#### Crear un programa que calcule el average II\n",
    "\n",
    "El programa pedirá que se diga cuantos números se quieren introducir, y enseñara un prompt para incluirl número a número en una lista, y calcule después el average.\n"
   ]
  },
  {
   "cell_type": "code",
   "execution_count": 18,
   "metadata": {
    "collapsed": true,
    "jupyter": {
     "outputs_hidden": true
    },
    "tags": []
   },
   "outputs": [
    {
     "name": "stdin",
     "output_type": "stream",
     "text": [
      "¿Cuantos numeros? 3\n",
      "Introduce numero >>  1\n",
      "Introduce numero >>  2\n",
      "Introduce numero >>  3\n"
     ]
    },
    {
     "name": "stdout",
     "output_type": "stream",
     "text": [
      "Media: 2.0\n"
     ]
    }
   ],
   "source": [
    "n = int(input(\"¿Cuantos numeros?\"))\n",
    "\n",
    "total_lista = []\n",
    "for i in range(n):\n",
    "    entrada_num = float(input(\"Introduce numero >> \"))\n",
    "    total_lista.append(entrada_num)\n",
    "\n",
    "print(\"Media:\", sum(total_lista)/n)"
   ]
  },
  {
   "cell_type": "markdown",
   "metadata": {},
   "source": [
    "## Ejercicio 6\n",
    "#### Write a Python program to convert a list of characters into a string.\n",
    "\n",
    "Sample list : ['a','b','c','d']\n",
    "\n",
    "Expected output : abcd"
   ]
  },
  {
   "cell_type": "code",
   "execution_count": 19,
   "metadata": {},
   "outputs": [
    {
     "data": {
      "text/plain": [
       "'abcd'"
      ]
     },
     "execution_count": 19,
     "metadata": {},
     "output_type": "execute_result"
    }
   ],
   "source": [
    "lista_cract = ['a','b','c','d']\n",
    "string_output = ''.join(lista_cract)\n",
    "string_output"
   ]
  },
  {
   "cell_type": "markdown",
   "metadata": {},
   "source": [
    "## Ejercicio 7\n",
    "#### First and last 5\n",
    "Write a Python program to generate and print a list of first and last 5 elements where the values are square of numbers between 1 and 30 (both included). "
   ]
  },
  {
   "cell_type": "code",
   "execution_count": 20,
   "metadata": {},
   "outputs": [
    {
     "name": "stdout",
     "output_type": "stream",
     "text": [
      "[1, 4, 9, 16, 25]\n",
      "[676, 729, 784, 841, 900]\n"
     ]
    }
   ],
   "source": [
    "lista = []\n",
    "for i in range(1, 31):\n",
    "    lista.append(i**2)\n",
    "    \n",
    "print(lista[:5])\n",
    "print(lista[-5:])"
   ]
  },
  {
   "cell_type": "code",
   "execution_count": 23,
   "metadata": {},
   "outputs": [
    {
     "name": "stdout",
     "output_type": "stream",
     "text": [
      "[1, 4, 9, 16, 25, 36, 49, 64, 81, 100, 121, 144, 169, 196, 225, 256, 289, 324, 361, 400, 441, 484, 529, 576, 625, 676, 729, 784, 841, 900]\n"
     ]
    }
   ],
   "source": [
    "print([i**2 for i in range(1, 31)])"
   ]
  },
  {
   "cell_type": "markdown",
   "metadata": {},
   "source": [
    "## Ejercicio 8\n",
    "#### Interactuando con listas\n",
    "\n",
    "From given list gadgets = [\"Mobile\", \"Laptop\", 100, \"Camera\", 310.28, \"Speakers\", 27.00,\n",
    "\"Television\", 1000, \"Laptop Case\", \"Camera Lens\"]\n",
    "\n",
    "a)create separate lists of strings and numbers.  \n",
    "\n",
    "b)Sort the strings list in ascending order  \n",
    "\n",
    "c)Sort the strings list in descending order  \n",
    "\n",
    "d)Sort the number list from lowest to highest  \n",
    "\n",
    "e)Sort the number list from highest to lowest"
   ]
  },
  {
   "cell_type": "code",
   "execution_count": 27,
   "metadata": {
    "collapsed": true,
    "jupyter": {
     "outputs_hidden": true
    },
    "tags": []
   },
   "outputs": [
    {
     "name": "stdout",
     "output_type": "stream",
     "text": [
      "['Mobile', 'Laptop', 'Camera', 'Speakers', 'Television', 'Laptop Case', 'Camera Lens']\n",
      "[100, 310.28, 27.0, 1000]\n",
      "['Camera', 'Camera Lens', 'Laptop', 'Laptop Case', 'Mobile', 'Speakers', 'Television']\n",
      "['Television', 'Speakers', 'Mobile', 'Laptop Case', 'Laptop', 'Camera Lens', 'Camera']\n",
      "[27.0, 100, 310.28, 1000]\n",
      "[1000, 310.28, 100, 27.0]\n"
     ]
    }
   ],
   "source": [
    "gadgets = [\"Mobile\", \"Laptop\", 100,\n",
    "           \"Camera\", 310.28, \"Speakers\",\n",
    "           27.00, \"Television\", 1000,\n",
    "           \"Laptop Case\", \"Camera Lens\"]\n",
    "\n",
    "str_items = []\n",
    "num_items = []\n",
    "\n",
    "for item in gadgets:\n",
    "    if type(item) is str:\n",
    "        str_items.append(item)\n",
    "\n",
    "    elif type(item) is int or type(item) is float:\n",
    "    # else:\n",
    "        num_items.append(item)\n",
    "        \n",
    "print(str_items)\n",
    "print(num_items)\n",
    "\n",
    "str_items.sort()\n",
    "print(str_items)\n",
    "\n",
    "str_items.sort(reverse=True)\n",
    "print(str_items)\n",
    "\n",
    "num_items.sort()\n",
    "print(num_items)\n",
    "\n",
    "num_items.sort(reverse=True)\n",
    "print(num_items)"
   ]
  },
  {
   "cell_type": "markdown",
   "metadata": {},
   "source": [
    "## Ejercicio 9\n",
    "#### Get first, second best scores from the list.\n",
    "\n",
    "List may contain duplicates.\n",
    "\n",
    "Ex: [86,86,85,85,85,83,23,45,84,1,2,0] => should get 86, 85"
   ]
  },
  {
   "cell_type": "code",
   "execution_count": 38,
   "metadata": {},
   "outputs": [
    {
     "data": {
      "text/plain": [
       "[85, 86]"
      ]
     },
     "execution_count": 38,
     "metadata": {},
     "output_type": "execute_result"
    }
   ],
   "source": [
    "list_9 = [86,86,85,85,85,83,23,45,84,1,2,0]\n",
    "\n",
    "lista_sin_dup = list(set(list_9))\n",
    "lista_sin_dup.sort()\n",
    "lista_sin_dup[-2:]"
   ]
  },
  {
   "cell_type": "markdown",
   "metadata": {},
   "source": [
    "## Ejercicio 10\n",
    "#### Write a program that detects if a string is a palindrome\n",
    "Ask the user for a string and print out whether this string is a palindrome or not. (A palindrome is a string that reads the same forwards and backwards.)"
   ]
  },
  {
   "cell_type": "code",
   "execution_count": 41,
   "metadata": {},
   "outputs": [
    {
     "name": "stdin",
     "output_type": "stream",
     "text": [
      "Introduce una palabra para ver si es palindromo:  yo hago yoga hoy\n"
     ]
    },
    {
     "name": "stdout",
     "output_type": "stream",
     "text": [
      "yohagoyogahoy\n",
      "El string es un palindromo\n"
     ]
    }
   ],
   "source": [
    "# yo hago yoga hoy\n",
    "my_str = input(\"Introduce una palabra para ver si es palindromo: \")\n",
    "\n",
    "my_str = my_str.lower().replace(' ', '')\n",
    "print(my_str)\n",
    "\n",
    "str_rev = my_str[::-1]\n",
    "\n",
    "if my_str == str_rev:\n",
    "    print(\"El string es un palindromo\")\n",
    "else:\n",
    "    print(\"El string NO es un palindromo\")"
   ]
  },
  {
   "cell_type": "markdown",
   "metadata": {},
   "source": [
    "## (Bonus) Ejercicio 11\n",
    "#### Desarrolla el juego del ahorcado\n",
    "El juego del ahorcado consiste en adivinar una palabra, probando letra a letra. El jugaor tiene permitidos 6 fallos, al 7mo fallo pierde. \n",
    "\n",
    "* Habrá que imprimir por pantalla una cantidad de guiones igual al numero de letras e ir sustituyéndolos con los aciertos.\n",
    "* Necesitarás usar un bucle while con un input para modelar las jugadas del ahoracado. En cada ejecución del while comprueba las vidas del jugador, y los aciertos."
   ]
  },
  {
   "cell_type": "code",
   "execution_count": null,
   "metadata": {},
   "outputs": [],
   "source": [
    "# SOLUCION DANI\n",
    "def tablero_a_mostrar(tablero):\n",
    "    tablero_show = \"\"\n",
    "    for l in tablero:\n",
    "        tablero_show += l + \" \"\n",
    "    return tablero_show\n",
    "\n",
    "#print(tablero_a_mostrar(tablero=tablero))\n",
    "\n",
    "lista_aciertos = []\n",
    "\n",
    "palabra_a_adivinar = input(\"Introduce la palabra a adivinar\")\n",
    "\n",
    "palabra_a_adivinar = palabra_a_adivinar.upper()\n",
    "\n",
    "tamano_palabra = len(palabra_a_adivinar)\n",
    "num_errores = 0\n",
    "\n",
    "tablero = list(\"_\" * tamano_palabra)\n",
    "\n",
    "print(tablero_a_mostrar(tablero=tablero))\n",
    "\n",
    "while \"_\" in tablero:\n",
    "    letra_insertada = input(\"Letra insertada:\").upper()\n",
    "    if letra_insertada == \"STOP\":\n",
    "        break\n",
    "        \n",
    "    if letra_insertada in palabra_a_adivinar:  # La letra está dentro de la palabra\n",
    "        if letra_insertada in lista_aciertos:  # Ha insertado una letra previamente acertada\n",
    "            print(\"Ya habías acertado esta letra\")\n",
    "        else:  # Acertada pero no previamente\n",
    "            lista_aciertos.append(letra_insertada)\n",
    "            # Sustituir en el tablero\n",
    "            for pos, letra in enumerate(palabra_a_adivinar):\n",
    "                if letra == letra_insertada:\n",
    "                    tablero[pos] = letra_insertada\n",
    "    \n",
    "    else:  # La letra no está dentro de la palabra\n",
    "        num_errores += 1\n",
    "        print(\"Letra no está en la palabra\") \n",
    "        print(\"Llevas:\", num_errores, \"errores\")\n",
    "        \n",
    "        if num_errores > 6:\n",
    "            print(\"Lo siento, has perdido\")\n",
    "            break\n",
    "    \n",
    "    print(tablero_a_mostrar(tablero=tablero))\n",
    "\n",
    "    if \"_\" not in tablero:  # Que ya se han acertado todas\n",
    "        print(\"Has ganado!\")"
   ]
  },
  {
   "cell_type": "code",
   "execution_count": null,
   "metadata": {},
   "outputs": [],
   "source": [
    "# SOLUCION KIKO. Algunas comillas igual no funcionan por el copy paste de Slack...\n",
    "#tupla con el dibujo del ahorcado\n",
    "ahor = (‘___________\\n|//\\t \\\\|\\n|/\\t  |\\n|\\t   \\n|\\t   \\n|\\t   \\n|\\t   \\n|\\t   \\n|\\t   \\n’,\n",
    "       ‘___________\\n|//\\t \\\\|\\n|/\\t  |\\n|\\t  0\\n|\\t   \\n|\\t   \\n|\\t   \\n|\\t   \\n|\\t   \\n’,\n",
    "       ‘___________\\n|//\\t \\\\|\\n|/\\t  |\\n|\\t  0\\n|\\t  |\\n|\\t   \\n|\\t   \\n|\\t   \\n|\\t   \\n’,\n",
    "       ‘___________\\n|//\\t \\\\|\\n|/\\t  |\\n|\\t  0\\n|\\t  |\\n|\\t  |\\n|\\t   \\n|\\t   \\n|\\t   \\n’,\n",
    "       ‘___________\\n|//\\t \\\\|\\n|/\\t  |\\n|\\t  0\\n|\\t \\\\|\\n|\\t  |\\n|\\t   \\n|\\t   \\n|\\t   \\n’,\n",
    "       ‘___________\\n|//\\t \\\\|\\n|/\\t  |\\n|\\t  0\\n|\\t \\\\|/\\n|\\t  |\\n|\\t   \\n|\\t   \\n|\\t   \\n’,\n",
    "       ‘___________\\n|//\\t \\\\|\\n|/\\t  |\\n|\\t  0\\n|\\t \\\\|/\\n|\\t  |\\n|\\t / \\n|\\t   \\n|\\t   \\n’,\n",
    "       ‘___________\\n|//\\t \\\\|\\n|/\\t  |\\n|\\t  0\\n|\\t \\\\|/\\n|\\t  |\\n|\\t / \\\\\\n|\\t   \\n|\\t   \\n’)\n",
    "#Palabra a adivinar\n",
    "palabra = “data science”\n",
    "#Introduce el acierto en la palabra adivinada\n",
    "def acierto(word,letra,adivina):\n",
    "    aux = “”\n",
    "    i = 0\n",
    "    while (word.count(letra) !=  aux.count(letra)) or (i < len(word)):\n",
    "        if word[i] == letra:\n",
    "            aux += letra\n",
    "        else:\n",
    "            aux += adivina[i]\n",
    "        i +=1\n",
    "    adivina = aux\n",
    "    return(adivina)\n",
    "#Imprime por pantalla  la palabra adivina en su estado actual\n",
    "#Con espacios apra que se vea mas claro\n",
    "def print_adivina(adivina):\n",
    "    for i in adivina:\n",
    "        print(i, end =” “)\n",
    "    print(‘\\n’)\n",
    "#Inicializa adivina al tamaño de word.\n",
    "# Guien bajo para cualquier cosa que no sea un espacio\n",
    "def inicializar_adivina(word,adivina):\n",
    "    for i in word:\n",
    "        if i != ” “:\n",
    "            adivina += “_”\n",
    "        else:\n",
    "            adivina += ” ”\n",
    "    return adivina\n",
    "#Juego del ahorcado, usando una tupla con la grafica del juego, y una palabra previamente introducida\n",
    "#llama primero a inicializar la palabra a adivinar\n",
    "#pide al usuario mientras le queden vida que introduzca una letra verificando q es solo una letra, no numeros.\n",
    "def ahorcado(word,ahor):\n",
    "    vida = 0\n",
    "    print(ahor[vida])\n",
    "    adivina = ‘’\n",
    "    adivina = inicializar_adivina(word,adivina)\n",
    "    print(‘\\n’)\n",
    "    while (word != adivina and vida < 7):\n",
    "        print_adivina(adivina)\n",
    "        letra = str(input(“Escriba una letra: “))\n",
    "        letra = letra.lower()\n",
    "        if letra.isalpha() and len(letra) == 1:\n",
    "            if word.count(letra) > 0:\n",
    "                adivina = acierto(word,letra,adivina)\n",
    "            else:\n",
    "                vida += 1\n",
    "                print(ahor[vida])\n",
    "        else:\n",
    "            print(‘\\n Recuerda debe ser una letra y solo una’)\n",
    "    if word == adivina:\n",
    "        print(‘GANASTE’)\n",
    "        print_adivina(adivina)\n",
    "    else:\n",
    "        print(‘PERDISTE’)p\n",
    "        print(word)\n",
    "ahorcado(palabra,ahor)"
   ]
  }
 ],
 "metadata": {
  "kernelspec": {
   "display_name": "Python 3",
   "language": "python",
   "name": "python3"
  },
  "language_info": {
   "codemirror_mode": {
    "name": "ipython",
    "version": 3
   },
   "file_extension": ".py",
   "mimetype": "text/x-python",
   "name": "python",
   "nbconvert_exporter": "python",
   "pygments_lexer": "ipython3",
   "version": "3.8.8"
  }
 },
 "nbformat": 4,
 "nbformat_minor": 4
}
