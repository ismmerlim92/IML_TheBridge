{
 "cells": [
  {
   "cell_type": "markdown",
   "metadata": {},
   "source": [
    "![imagen](./img/ejercicios.png)\n",
    "\n",
    "# Ejercicios Clases y Objetos"
   ]
  },
  {
   "cell_type": "markdown",
   "metadata": {},
   "source": [
    "## Ejercicio 1\n",
    "Somos una empresa que tiene varias tiendas de electrodomesticos. Necesitamos un programa para manejar las tiendas, ver las ventas que han tenido, cuántos empleados hay, etc... Para ello vamos a modelizar la tienda en una clase, que tendrá las siguientes características:\n",
    "* Nombre clase: \"Tienda\"\n",
    "* Atributos comunes:\n",
    "    * Tipo: \"Electrodomésticos\"\n",
    "    * Abierta: True\n",
    "* Atributos propios de cada tienda:\n",
    "    * Nombre - String\n",
    "    * Dirección - String\n",
    "    * Número de empleados - int\n",
    "    * Ventas ultimos 3 meses - Lista de 3 numeros\n",
    "* Método para calcular las ventas de todos los meses, que devuelva un numero con todas las ventas.\n",
    "* Método que calcula la media de ventas de los ultimos meses, por empleado\n",
    "* Método que devuelve en un string el nombre de la tienda, junto con su dirección.\n",
    "* Método que obtiene las ventas del último mes.\n",
    "* Método para dar una proyección de las ventas en caso de haber invertido X dinero en marketing en esa tienda. Siendo X el parámetro de entrada. Si X es menor de 1000, las ventas de los ultimos 3 meses hubiesen sido de (1.2 x ventas), si es mayor o igual de 1000, las ventas hubiesen sido de (1.5 x venta). El método reescribe el atributo de ventas en los últimos 3 meses, y además devuelve las ventas con el aumento.\n",
    "\n",
    "Se pide:\n",
    "1. Implementar la clase \"Tienda\"\n",
    "2. Crear tres tiendas con datos inventados\n",
    "3. Comprueba en al menos una de ellas, todo lo implementado en la clase tienda (sus atributos, media de ventas, ventas/empleado...)\n",
    "3. Calcular las ventas del último mes de todas las tiendas. Para ello usa el bucle `for`\n",
    "4. Imprime por pantalla los nombres de las tiendas cuya dirección lleve el string \"Avenida\"\n",
    "5. Seguro que ya has hecho este apartado... Documenta la clase :)"
   ]
  },
  {
   "cell_type": "code",
   "execution_count": 18,
   "metadata": {},
   "outputs": [],
   "source": [
    "class Tienda:\n",
    "    '''\n",
    "    Tiendas en Sevilla\n",
    "    Se inicializa con:\n",
    "        - nombre [str]: Nombre de la tienda\n",
    "        - direc [str]: Ubicación de la misma\n",
    "        - n_empleados [int]: Cantidad de empleados\n",
    "        - ventas_3m [list[float]]: Ventas en los últimos 3 meses\n",
    "\n",
    "    Métodos disponibles:\n",
    "        - suma_ventas\n",
    "        - ventas_por_empleado\n",
    "        - nombre_completo\n",
    "        - ultima_venta\n",
    "        - proyectar_ventas\n",
    "    '''\n",
    "    tipo = \"Electrodomésticos\"\n",
    "    abierta = True\n",
    "\n",
    "    def __init__(self, nombre, direc, n_empleados, ventas_3m):\n",
    "        self.nombre = nombre\n",
    "        self.direc = direc\n",
    "        self.n_empleados = n_empleados\n",
    "        self.ventas_3m = ventas_3m\n",
    "    \n",
    "    def suma_ventas(self):\n",
    "        '''\n",
    "        Devuelve la suma de todas las ventas en los últimos 3 meses\n",
    "        '''\n",
    "        return sum(self.ventas_3m)\n",
    "\n",
    "    def ventas_por_empleado(self):\n",
    "        '''\n",
    "        Ratio de ventas por empleado\n",
    "        '''\n",
    "        return self.suma_ventas() / self.n_empleados\n",
    "    \n",
    "    def nombre_completo(self):\n",
    "        '''\n",
    "        Nombre y dirección de la tienda\n",
    "        '''\n",
    "        return self.nombre + \" - \" + self.direc\n",
    "\n",
    "    def ultima_venta(self):\n",
    "        '''\n",
    "        Último registro de ventas de los pasados 3 meses\n",
    "        '''\n",
    "        return self.ventas_3m[-1]\n",
    "    \n",
    "    def proyectar_ventas(self, ppto_mkt):\n",
    "        '''\n",
    "        Realcula y sustituye  las ventas de los últimos\n",
    "        3 meses en función de la inversión en MKT\n",
    "        \n",
    "        Input: ppto_mkt [float] - Inversión en Marketing\n",
    "        Output: ventas_updated [list[float]]\n",
    "        '''\n",
    "        if ppto_mkt < 1000:\n",
    "            mult = 1.2\n",
    "        else:\n",
    "            mult = 1.5\n",
    "\n",
    "        ventas_updated = []\n",
    "        for venta in self.ventas_3m:\n",
    "            ventas_updated.append(venta * mult)\n",
    "        \n",
    "        self.ventas_3m = ventas_updated\n",
    "        return ventas_updated\n"
   ]
  },
  {
   "cell_type": "code",
   "execution_count": 21,
   "metadata": {},
   "outputs": [
    {
     "name": "stdout",
     "output_type": "stream",
     "text": [
      "Alameda de Hércules\n",
      "90000\n",
      "18000.0\n",
      "Balay - Alameda de Hércules\n",
      "10000\n",
      "[75000.0, 45000.0, 15000.0]\n"
     ]
    }
   ],
   "source": [
    "tienda_alameda = Tienda(\"Balay\", \"Alameda de Hércules\", 5, [50_000, 30_000, 10_000])\n",
    "print(tienda_alameda.direc)\n",
    "print(tienda_alameda.suma_ventas())\n",
    "print(tienda_alameda.ventas_por_empleado())\n",
    "print(tienda_alameda.nombre_completo())\n",
    "print(tienda_alameda.ultima_venta())\n",
    "print(tienda_alameda.proyectar_ventas(10000))"
   ]
  },
  {
   "cell_type": "code",
   "execution_count": 22,
   "metadata": {},
   "outputs": [],
   "source": [
    "tienda_alameda = Tienda(\"Balay\", \"Alameda de Hércules\", 5, [50_000, 30_000, 10_000])\n",
    "tienda_porvenir = Tienda(\"Fagor\", \"Avenida de la Borbolla\", 6, [70_000, 50_000, 60_000])\n",
    "tienda_online = Tienda(\"E-lectronics\", \"www.e-lectronics.com\", 1, [250_000, 200_000, 210_000])"
   ]
  },
  {
   "cell_type": "code",
   "execution_count": 24,
   "metadata": {},
   "outputs": [
    {
     "name": "stdout",
     "output_type": "stream",
     "text": [
      "Las últimas ventas han sido: [10000, 60000, 210000]\n"
     ]
    }
   ],
   "source": [
    "ls_tiendas = [tienda_alameda, tienda_porvenir, tienda_online]\n",
    "\n",
    "ls_ult_ventas = []\n",
    "for tienda in ls_tiendas:\n",
    "    ls_ult_ventas.append(tienda.ultima_venta())\n",
    "\n",
    "print(f\"Las últimas ventas han sido: {ls_ult_ventas}\")"
   ]
  },
  {
   "cell_type": "code",
   "execution_count": 30,
   "metadata": {},
   "outputs": [
    {
     "name": "stdout",
     "output_type": "stream",
     "text": [
      "Fagor - Avenida de la Borbolla\n"
     ]
    }
   ],
   "source": [
    "for tienda in ls_tiendas:\n",
    "    if \"avenida\" in tienda.direc.lower():\n",
    "        print(tienda.nombre_completo())"
   ]
  },
  {
   "cell_type": "markdown",
   "metadata": {},
   "source": [
    "## Ejercicio 2\n",
    "En este ejercicio vamos a implementar una clase *Perro* en Python. La clase tiene las siguientes características:\n",
    "* Cosas que sabemos seguro que tiene un perro\n",
    "    * Tiene 4 patas\n",
    "    * 2 orejas\n",
    "    * 2 ojos\n",
    "    * Una velocidad de 0. Por defecto, el perro está parado\n",
    "* Cuando se inicialice:\n",
    "    * El perro será de una determinada raza\n",
    "    * Por defecto tendrá pelo \"Marrón\", a no ser que se diga lo contrario.\n",
    "    * Por defecto no tendrá dueño, a no ser que se diga lo contrario.\n",
    "    \n",
    "* Dispondrá también de un método llamado andar, que tiene un argumento de entrada (aumento_velocidad). Este valor se le sumará a la velocidad que ya llevaba el perro.\n",
    "* Necesita otro método (parar), donde pondremos la velocidad a 0.\n",
    "* Otro método llamado \"ladrar\", que tendrá un argumento de entrada, y la salida será el siguiente string: \"GUAU!\" + el argumento de entrada.\n",
    "\n",
    "\n",
    "Se pide:\n",
    "* Implementa la clase *Perro*\n",
    "* Crea un objeto de tipo *Perro*, sin dueño\n",
    "* Comprueba que están bien todos sus atributos\n",
    "* Prueba que ande, y comprueba su velocidad\n",
    "* Páralo\n",
    "* Documenta la clase *Perro*"
   ]
  },
  {
   "cell_type": "code",
   "execution_count": 51,
   "metadata": {},
   "outputs": [],
   "source": [
    "class Perro:\n",
    "    '''\n",
    "    Modelización de un perro\n",
    "    Características comunes: patas, orejas, ojos, velocidad\n",
    "    Características objeto: raza, color y dueño\n",
    "\n",
    "    Métodos implementados: \n",
    "        - ´andar´ para que incremente su velocidad\n",
    "        - ´parar´ para que su velocidad sea 0\n",
    "        - ´ladrar´ para que emita un sonido concreto\n",
    "    '''\n",
    "    patas = 4\n",
    "    orejas = 2\n",
    "    ojos = 2\n",
    "    vel = 0\n",
    "\n",
    "    def __init__(self, raza, color=\"Marron\", dueno=False):\n",
    "        self.raza = raza\n",
    "        self.color = color\n",
    "        self.dueno = dueno\n",
    "    \n",
    "    def andar(self, aumento_velocidad):\n",
    "        '''\n",
    "        Incrementa la velocidad del perro\n",
    "\n",
    "        Input: aumento_velocidad [float] - Unidades a incrementar\n",
    "        '''\n",
    "        print(f\"Velocidad incrementada de {self.vel} a {self.vel + aumento_velocidad}\")\n",
    "        self.vel += aumento_velocidad\n",
    "        \n",
    "    def parar(self):\n",
    "        '''\n",
    "        Establece en 0 la velocidad del perro\n",
    "        '''\n",
    "        print(f\"Velocidad dismunuida de {self.vel} a 0\")\n",
    "        self.vel = 0\n",
    "\n",
    "    @staticmethod\n",
    "    def ladrar(ladrido):\n",
    "        '''\n",
    "        Devuelve un ladrido\n",
    "\n",
    "        Input: ladrido [str] - Sonido emitido\n",
    "        Output [str] - GUAU! {ladrido}\n",
    "        '''\n",
    "        return \"GUAU! \"+ ladrido"
   ]
  },
  {
   "cell_type": "code",
   "execution_count": 52,
   "metadata": {},
   "outputs": [
    {
     "name": "stdout",
     "output_type": "stream",
     "text": [
      "2\n",
      "2\n",
      "4\n",
      "0\n",
      "Podenco\n",
      "Negro\n",
      "False\n"
     ]
    }
   ],
   "source": [
    "tuno = Perro(\"Podenco\", color=\"Negro\")\n",
    "print(tuno.ojos)\n",
    "print(tuno.orejas)\n",
    "print(tuno.patas)\n",
    "print(tuno.vel)\n",
    "print(tuno.raza)\n",
    "print(tuno.color)\n",
    "print(tuno.dueno)"
   ]
  },
  {
   "cell_type": "code",
   "execution_count": 53,
   "metadata": {},
   "outputs": [
    {
     "name": "stdout",
     "output_type": "stream",
     "text": [
      "Velocidad incrementada de 0 a 5\n",
      "Velocidad incrementada de 5 a 7\n",
      "Velocidad incrementada de 7 a 9\n",
      "Velocidad incrementada de 9 a 11\n"
     ]
    }
   ],
   "source": [
    "tuno.andar(5)\n",
    "tuno.andar(2)\n",
    "tuno.andar(2)\n",
    "tuno.andar(2)"
   ]
  },
  {
   "cell_type": "code",
   "execution_count": 54,
   "metadata": {},
   "outputs": [
    {
     "data": {
      "text/plain": [
       "11"
      ]
     },
     "execution_count": 54,
     "metadata": {},
     "output_type": "execute_result"
    }
   ],
   "source": [
    "tuno.vel"
   ]
  },
  {
   "cell_type": "code",
   "execution_count": 55,
   "metadata": {},
   "outputs": [
    {
     "name": "stdout",
     "output_type": "stream",
     "text": [
      "Velocidad dismunuida de 11 a 0\n"
     ]
    }
   ],
   "source": [
    "tuno.parar()"
   ]
  },
  {
   "cell_type": "code",
   "execution_count": 56,
   "metadata": {},
   "outputs": [
    {
     "data": {
      "text/plain": [
       "0"
      ]
     },
     "execution_count": 56,
     "metadata": {},
     "output_type": "execute_result"
    }
   ],
   "source": [
    "tuno.vel"
   ]
  },
  {
   "cell_type": "code",
   "execution_count": 57,
   "metadata": {},
   "outputs": [
    {
     "data": {
      "text/plain": [
       "'GUAU! Ojú'"
      ]
     },
     "execution_count": 57,
     "metadata": {},
     "output_type": "execute_result"
    }
   ],
   "source": [
    "tuno.ladrar(\"Ojú\")"
   ]
  }
 ],
 "metadata": {
  "kernelspec": {
   "display_name": "Python 3",
   "language": "python",
   "name": "python3"
  },
  "language_info": {
   "codemirror_mode": {
    "name": "ipython",
    "version": 3
   },
   "file_extension": ".py",
   "mimetype": "text/x-python",
   "name": "python",
   "nbconvert_exporter": "python",
   "pygments_lexer": "ipython3",
   "version": "3.10.8"
  },
  "vscode": {
   "interpreter": {
    "hash": "7600a12950a547366bb7a6732117e300ffd26224351912980486e1126c5d0f9a"
   }
  }
 },
 "nbformat": 4,
 "nbformat_minor": 4
}
