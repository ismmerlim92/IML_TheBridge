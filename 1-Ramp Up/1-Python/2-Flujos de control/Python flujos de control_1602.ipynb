{
 "cells": [
  {
   "cell_type": "markdown",
   "metadata": {},
   "source": [
    "![imagen](./img/python.jpg)"
   ]
  },
  {
   "cell_type": "markdown",
   "metadata": {},
   "source": [
    "# Python Flujos de Control\n",
    "\n",
    "#### Autor: [Daniel Ortiz López](https://www.linkedin.com/in/daniel-ortiz-l%C3%B3pez/)\n",
    "\n",
    "Hasta ahora hemos visto cómo ejecutar un programa secuencialmente, empieza en la primera línea y acaba en la última. Pero ¿y si queremos que cambien los outputs del programa en función de ciertas condiciones, o si queremos que tome otros caminos en caso de encontrar errores?. Todo esto lo podremos hacer con los flujos de control. Sentencias que encontrarás en todos los lenguajes de programación.\n",
    "\n",
    "1. [Sintaxis de línea](#1.-Sintaxis-de-línea)\n",
    "1. [if/elif/else](#2.-if/elif/else)\n",
    "2. [Bucle for](#3.-Bucle-for)\n",
    "3. [Bucle while](#4.-Bucle-while)\n",
    "4. [Break/continue](#5.-Break/continue)\n",
    "5. [Try/except](#6.-Try/except)\n",
    "10. [Resumen](#7.-Resumen)"
   ]
  },
  {
   "cell_type": "markdown",
   "metadata": {},
   "source": [
    "## 1. Sintaxis de línea\n",
    "La manera en la que Python encapsula todo el código que va dentro de un flujo de control como `if` o `for` es diferente a como se suele hacer en otros lenguajes, en los que se rodea de llaves `{}` o paréntesis `()` todo el contenido del flujo. Con Python no. En Python simplemente hay que añadir una tabulación a cada línea de código que vaya dentro del flujo de control.\n",
    "\n",
    "> ```Python\n",
    "> for condiciones:\n",
    ">     Código dentro de este bucle\n",
    "> ```\n",
    "\n",
    "\n",
    "Si lo dejamos fuera, este código se ejecutará secuencialmente después de que corra el for\n",
    "\n",
    "> ```Python\n",
    "> for condiciones:\n",
    ">\n",
    "> Código fuera de este bucle\n",
    "> ```\n",
    "\n",
    "Veamos un ejemplo. Tenemos una lista de numeros, y queremos ver cuáles son enteros. Para ello los recorremos con un `for` (vermos más en profundiad en este notebook). Vamos iternando uno a uno cada elemento. Luego mediante un `if` comprobamos si es entero. Fíjate que todo lo que va dentro del `for` lleva una tabulación y lo que va dentro del `if` lleva dos tabulaciones, puesto que sus sentencias van tanto dentro del `if`, como dentro del `for`."
   ]
  },
  {
   "cell_type": "code",
   "execution_count": 6,
   "metadata": {},
   "outputs": [
    {
     "name": "stdout",
     "output_type": "stream",
     "text": [
      "True\n",
      "True\n",
      "False\n"
     ]
    }
   ],
   "source": [
    "import math\n",
    "ls = [1, 5.3, 2, 8, math.pi, math.e]\n",
    "\n",
    "print(type(ls[2]) == int) \n",
    "print(type(ls[3]) == int)\n",
    "print(type(ls[4]) == int)"
   ]
  },
  {
   "cell_type": "code",
   "execution_count": 11,
   "metadata": {},
   "outputs": [
    {
     "data": {
      "text/plain": [
       "[1, 5.3, 2, 8, 3.141592653589793, 2.718281828459045]"
      ]
     },
     "execution_count": 11,
     "metadata": {},
     "output_type": "execute_result"
    }
   ],
   "source": [
    "ls"
   ]
  },
  {
   "cell_type": "code",
   "execution_count": 19,
   "metadata": {},
   "outputs": [
    {
     "name": "stdout",
     "output_type": "stream",
     "text": [
      "1 es entero\n",
      "5.3 NO es entero\n",
      "2 es entero\n",
      "8 es entero\n",
      "3.141592653589793 NO es entero\n",
      "2.718281828459045 NO es entero\n"
     ]
    }
   ],
   "source": [
    "for item in ls:\n",
    "    if type(item) == int:\n",
    "        print(f\"{item} es entero\")\n",
    "    else:\n",
    "        print(f\"{item} NO es entero\")"
   ]
  },
  {
   "cell_type": "markdown",
   "metadata": {},
   "source": [
    "<table align=\"left\">\n",
    " <tr><td width=\"80\"><img src=\"./img/error.png\" style=\"width:auto;height:auto\"></td>\n",
    "     <td style=\"text-align:left\">\n",
    "         <h3>ERRORES ¿Qué ocurre si nos olvidamos de tabular?</h3>\n",
    "         \n",
    " </td></tr>\n",
    "</table>"
   ]
  },
  {
   "cell_type": "code",
   "execution_count": 21,
   "metadata": {},
   "outputs": [
    {
     "ename": "IndentationError",
     "evalue": "expected an indented block after 'if' statement on line 2 (4140179702.py, line 3)",
     "output_type": "error",
     "traceback": [
      "\u001b[1;36m  Cell \u001b[1;32mIn [21], line 3\u001b[1;36m\u001b[0m\n\u001b[1;33m    print(\"BOOLEANO!!\")\u001b[0m\n\u001b[1;37m    ^\u001b[0m\n\u001b[1;31mIndentationError\u001b[0m\u001b[1;31m:\u001b[0m expected an indented block after 'if' statement on line 2\n"
     ]
    }
   ],
   "source": [
    "a = True\n",
    "if type(a) == bool:\n",
    "print(\"BOOLEANO!!\")"
   ]
  },
  {
   "cell_type": "code",
   "execution_count": 22,
   "metadata": {},
   "outputs": [
    {
     "ename": "IndentationError",
     "evalue": "expected an indented block after 'for' statement on line 1 (77093042.py, line 2)",
     "output_type": "error",
     "traceback": [
      "\u001b[1;36m  Cell \u001b[1;32mIn [22], line 2\u001b[1;36m\u001b[0m\n\u001b[1;33m    if type(item) == int:\u001b[0m\n\u001b[1;37m    ^\u001b[0m\n\u001b[1;31mIndentationError\u001b[0m\u001b[1;31m:\u001b[0m expected an indented block after 'for' statement on line 1\n"
     ]
    }
   ],
   "source": [
    "for item in ls:\n",
    "if type(item) == int:\n",
    "    print(f\"{item} es entero\")\n",
    "else:\n",
    "    print(f\"{item} NO es entero\")"
   ]
  },
  {
   "cell_type": "markdown",
   "metadata": {},
   "source": [
    "Ojo, el error no ha dado en el `if`, sino en el `for`. Te señala lo que hay inmediatamente despues de los dos puntos del `for`, ya que considera que ahí debería haber una tabulación. No la hay, y por eso salta el error."
   ]
  },
  {
   "cell_type": "markdown",
   "metadata": {},
   "source": [
    "### Sintaxis\n",
    "Por tanto, toda sentencia `if`, `for`, `while`, `try`, declaración de funciones, de clases, llevan dos puntos. Y después de los dos puntos, tabulado, va todo el contenido de ese bloque. **Siempre**.\n",
    "\n",
    "Si pones los dos puntos y le das a enter, Python automáticamente te tabula todo lo que vayas a escribir a continuación."
   ]
  },
  {
   "cell_type": "code",
   "execution_count": 23,
   "metadata": {},
   "outputs": [
    {
     "name": "stdout",
     "output_type": "stream",
     "text": [
      "0\n",
      "1\n",
      "2\n",
      "3\n",
      "4\n",
      "5\n",
      "6\n",
      "7\n",
      "8\n",
      "9\n"
     ]
    }
   ],
   "source": [
    "for i in range(10):\n",
    "    print(i)\n"
   ]
  },
  {
   "cell_type": "markdown",
   "metadata": {},
   "source": [
    "### ¿Tabulaciones o espacios?\n",
    "Cuidado con las tabulaciones ya que cuando pasamos de un editor de Python a otro, o cuando ejecutamos un corrector de estilo sobre nuestro código, hay veces que las tabulaciones dan problemas. Es por ello que muchos programadores en vez de usar tabulaciones, los sustituyen por 4 espacios. \n",
    "\n",
    "Este es el problema cuando no se normaliza o estandariza algo. Que cada progrmador usa lo que considera y después hay conflictos cuando pasamos de un IDE a otro. Este asunto lleva años sobre la mesa por lo que ahora la mayordía de IDEs no suelen tener problemas.\n",
    "\n",
    "Entonces, ¿qué usamos? Lo más cómo es añadir una tabulación, pero lo más correcto son espacios. En Jupyter esto es bastante transparente para nosotros ya que cuando añadimos una tabulación, realmente Jupyter lo traduce a 4 espacios, por lo que no debería ser un tema preocupante\n",
    "\n",
    "Es tal la discusión que hasta le [han dedicado una escena en la serie Silicon Valley](https://www.youtube.com/watch?v=ussOk-ilK_8)"
   ]
  },
  {
   "cell_type": "markdown",
   "metadata": {},
   "source": [
    "## 2. if/elif/else\n",
    "En función de lo que valgan unas condiciones booleanas, ejecutaremos unas líneas de código, u otras. La sintaxis es muy sencilla:\n",
    "\n",
    "\n",
    "> ```Python\n",
    "> if condiciones:\n",
    ">     Si se cumplen las condiciones, ejecuta este código\n",
    "> else:\n",
    ">     Si no, ejecutas estre otro código\n",
    "> ```\n",
    "    \n",
    "Veamos un ejemplo"
   ]
  },
  {
   "cell_type": "code",
   "execution_count": 25,
   "metadata": {},
   "outputs": [
    {
     "name": "stdout",
     "output_type": "stream",
     "text": [
      "Suspenso!\n"
     ]
    }
   ],
   "source": [
    "nota = 4\n",
    "\n",
    "if nota >= 5:\n",
    "    print(\"Aprobado!\")\n",
    "else:\n",
    "    print(\"Suspenso!\")\n",
    "\n"
   ]
  },
  {
   "cell_type": "markdown",
   "metadata": {},
   "source": [
    "Únicamente se ejecuta la parte de código que consigue un `True` en la condición. `print(\"Aprobado!\")` sólo se imprimirá por pantalla si la nota es mayor o igual a 5.\n",
    "\n",
    "Vamos a ver otro ejemplo. Ahora quiero un poco más de granularidad en la nota, con bienes, notables y tal"
   ]
  },
  {
   "cell_type": "code",
   "execution_count": 31,
   "metadata": {},
   "outputs": [],
   "source": [
    "nota = 20\n",
    "\n",
    "if nota < 5:\n",
    "    print(\"Suspenso!\")\n",
    "else:\n",
    "    if nota < 7:\n",
    "        print(\"Bien!\")\n",
    "    else:\n",
    "        if nota < 9:\n",
    "            print(\"Notable!\")\n",
    "        else:\n",
    "            if nota <= 10:\n",
    "                print(\"Sobresaliente!\")"
   ]
  },
  {
   "cell_type": "code",
   "execution_count": 33,
   "metadata": {},
   "outputs": [
    {
     "name": "stdout",
     "output_type": "stream",
     "text": [
      "VALOR DE NOTA INCORRECTO\n"
     ]
    }
   ],
   "source": [
    "nota = 20\n",
    "\n",
    "if nota < 5:\n",
    "    print(\"Suspenso!\")\n",
    "elif nota < 7:\n",
    "    print(\"Bien!\")\n",
    "elif nota < 9:\n",
    "    print(\"Notable!\")\n",
    "elif nota <= 10:\n",
    "    print(\"Sobresaliente!\")\n",
    "else:\n",
    "    print(\"VALOR DE NOTA INCORRECTO\")"
   ]
  },
  {
   "cell_type": "code",
   "execution_count": 29,
   "metadata": {},
   "outputs": [
    {
     "name": "stdout",
     "output_type": "stream",
     "text": [
      "The Zen of Python, by Tim Peters\n",
      "\n",
      "Beautiful is better than ugly.\n",
      "Explicit is better than implicit.\n",
      "Simple is better than complex.\n",
      "Complex is better than complicated.\n",
      "Flat is better than nested.\n",
      "Sparse is better than dense.\n",
      "Readability counts.\n",
      "Special cases aren't special enough to break the rules.\n",
      "Although practicality beats purity.\n",
      "Errors should never pass silently.\n",
      "Unless explicitly silenced.\n",
      "In the face of ambiguity, refuse the temptation to guess.\n",
      "There should be one-- and preferably only one --obvious way to do it.\n",
      "Although that way may not be obvious at first unless you're Dutch.\n",
      "Now is better than never.\n",
      "Although never is often better than *right* now.\n",
      "If the implementation is hard to explain, it's a bad idea.\n",
      "If the implementation is easy to explain, it may be a good idea.\n",
      "Namespaces are one honking great idea -- let's do more of those!\n"
     ]
    }
   ],
   "source": [
    "import this"
   ]
  },
  {
   "cell_type": "markdown",
   "metadata": {},
   "source": [
    "**IMPORTANTE**. Todos los `ifs` se ejecutan secuencialmente. Por eso, en este caso no es necesario acotar tanto la nota:\n",
    "\n",
    "* Primero comprueba si es menor de 5, de ser así, suspenso.\n",
    "* Ya sabemos que es mayor o igual a 5\n",
    "* En la siguiente condición comprueba si es menor que 6, es decir, entre 5 y 6. Si es `False`, seguimos a la siguiente condición. Ahora bien, si es `True`, ejecutamos únicamente ese código y nos olvidamos de todo lo demás. Ya puede haber 150 condiciones, que si la primera es `True`, el resto es como si no existiese.\n",
    "\n",
    "Fíjate que la sintaxis es bastante intuitiva. `if` una condición, dos puntos y me ejecutas todo lo que hay aqui dentro, `elif` (acorta el `else if`), si se cumple esta otra condición, se ejecuta este otro código. Y si no se cumple ninguna de estas, ejecuta lo que haya en el `else`."
   ]
  },
  {
   "cell_type": "markdown",
   "metadata": {},
   "source": [
    "¿Recuerdas lo que viste con el *Algebra de Boole*? Este es el momento de utilizarlo. Cuando acudimos a varias condiciones dentro de un mismo `if`, tenemos que tener muy claras las operaciones binarias que estamos realizando."
   ]
  },
  {
   "cell_type": "code",
   "execution_count": 35,
   "metadata": {},
   "outputs": [
    {
     "name": "stdout",
     "output_type": "stream",
     "text": [
      "No soy un pajaro\n"
     ]
    }
   ],
   "source": [
    "pico = True\n",
    "alas = True\n",
    "sonido = \"Mugir\"\n",
    "patas = 2\n",
    "\n",
    "if (pico==True) and (alas==True) and (sonido == \"Piar\") and (patas == 2):\n",
    "    print(\"Soy un pajaro!\")\n",
    "else:\n",
    "    print(\"No soy un pajaro\")\n"
   ]
  },
  {
   "cell_type": "markdown",
   "metadata": {},
   "source": [
    "<table align=\"left\">\n",
    " <tr><td width=\"80\"><img src=\"./img/ejercicio.png\" style=\"width:auto;height:auto\"></td>\n",
    "     <td style=\"text-align:left\">\n",
    "         <h3>Ejercicio if/else</h3>\n",
    "\n",
    "El ejemplo de las notas está muy bien, pero demasiado sencillo. ¿Qué pasa si la nota es mayor de 10 o menor que 0? No parece una nota correcta. En programación hay que anticiparse a los errores. Reescribe el código para tener en cuenta esos casos, cuya nota tendrás que catalogarla como \"Nota errónea\"\n",
    "         \n",
    " </td></tr>\n",
    "</table>"
   ]
  },
  {
   "cell_type": "code",
   "execution_count": 40,
   "metadata": {},
   "outputs": [
    {
     "name": "stdout",
     "output_type": "stream",
     "text": [
      "Nota Incorrecta. Introduzca un valor entre 0 y 10.\n"
     ]
    }
   ],
   "source": [
    "nota = -7\n",
    "\n",
    "if nota < 0:\n",
    "    print(\"Nota Incorrecta. Introduzca un valor entre 0 y 10.\")\n",
    "elif nota < 5:\n",
    "    print(\"Suspenso!\")\n",
    "elif nota < 6:\n",
    "    print(\"Suficiente!\")\n",
    "elif nota < 7:\n",
    "    print(\"Bien!\")\n",
    "elif nota < 9:\n",
    "    print(\"Notable!\")\n",
    "elif nota <= 10:\n",
    "    print(\"Sobresaliente!\")\n",
    "else:\n",
    "    print(\"Nota Incorrecta. Introduzca un valor entre 0 y 10.\")"
   ]
  },
  {
   "cell_type": "markdown",
   "metadata": {},
   "source": [
    "## 3. Bucle for\n",
    "Gracias a los bucles podemos ejecutar código repetitivo, de manera bastante automática. Son muy útiles para que nuestro código no sea redundante, y también para aplicar operaciones cuando manejamos iterables. Un iterable no es más que una colección de objetos (una lista es un iterable) que podremos ir recorriendo uno a uno con el bucle `for`, y aplicar operaciones a cada elemento.\n",
    "\n",
    "La sintaxis de los bucles `for` es la siguiente:\n",
    "\n",
    "> `for var_ejecucion in limites ejecución:`\n",
    "> \n",
    ">           codigo del for...\n",
    "    \n",
    "    \n",
    "* **Límites de ejecución**: La cantidad de veces que queremos que se ejecute un `for`. Esto es así porque si no se ejecutarían hasta el infinito. Y además, tienen una variable de ejecución que se va actualizando. Por ejemplo del 1 al 10. Primero valdría 1, luego 2...así hasta 10.\n",
    "\n",
    "\n",
    "* **Variable de ejecución**: dentro del for habrá una variable que se irá actualizando con cada ejecución. Si se ejecuta 10 veces, primero la variable valdrá 1, luego 2, y así hasta 10.\n",
    "\n",
    "![imagen](./img/for-loop-python.jpg)"
   ]
  },
  {
   "cell_type": "markdown",
   "metadata": {},
   "source": [
    "Mejor vemos un ejemplo para entenderlo. Tienes las notas de tres alumnos en una lista, y quieres imprimir por pantalla las notas"
   ]
  },
  {
   "cell_type": "code",
   "execution_count": 43,
   "metadata": {},
   "outputs": [
    {
     "name": "stdout",
     "output_type": "stream",
     "text": [
      "Nota final: 3\n",
      "Nota final: 7\n",
      "Nota final: 9\n"
     ]
    }
   ],
   "source": [
    "notas = [3, 7, 9]\n",
    "\n",
    "for nota in notas:\n",
    "    print(\"Nota final:\", nota)"
   ]
  },
  {
   "cell_type": "code",
   "execution_count": 44,
   "metadata": {},
   "outputs": [
    {
     "name": "stdout",
     "output_type": "stream",
     "text": [
      "Nota final: 3\n",
      "Nota final: 7\n",
      "Nota final: 9\n"
     ]
    }
   ],
   "source": [
    "print(\"Nota final:\", notas[0])\n",
    "print(\"Nota final:\", notas[1])\n",
    "print(\"Nota final:\", notas[2])"
   ]
  },
  {
   "cell_type": "markdown",
   "metadata": {},
   "source": [
    "Genial, pero qué ocurre si ahora tienes 30 notas, o simplemente quieres que tu programa no dependa de cuantas notas tienes, unas veces son 30, otras 20..."
   ]
  },
  {
   "cell_type": "code",
   "execution_count": 47,
   "metadata": {},
   "outputs": [],
   "source": [
    "import random\n",
    "random.seed(0)\n",
    "\n",
    "notas30 = [random.randrange(0, 11) for x in range(30)]"
   ]
  },
  {
   "cell_type": "code",
   "execution_count": 48,
   "metadata": {},
   "outputs": [
    {
     "name": "stdout",
     "output_type": "stream",
     "text": [
      "Nota final: 6\n",
      "Nota final: 6\n",
      "Nota final: 0\n",
      "Nota final: 4\n",
      "Nota final: 8\n",
      "Nota final: 7\n"
     ]
    }
   ],
   "source": [
    "print(\"Nota final:\", notas30[0])\n",
    "print(\"Nota final:\", notas30[1])\n",
    "print(\"Nota final:\", notas30[2])\n",
    "print(\"Nota final:\", notas30[3])\n",
    "print(\"Nota final:\", notas30[4])\n",
    "print(\"Nota final:\", notas30[5])"
   ]
  },
  {
   "cell_type": "code",
   "execution_count": 49,
   "metadata": {},
   "outputs": [
    {
     "name": "stdout",
     "output_type": "stream",
     "text": [
      "Nota final: 6\n",
      "Nota final: 6\n",
      "Nota final: 0\n",
      "Nota final: 4\n",
      "Nota final: 8\n",
      "Nota final: 7\n",
      "Nota final: 6\n",
      "Nota final: 4\n",
      "Nota final: 7\n",
      "Nota final: 5\n",
      "Nota final: 9\n",
      "Nota final: 3\n",
      "Nota final: 8\n",
      "Nota final: 2\n",
      "Nota final: 4\n",
      "Nota final: 2\n",
      "Nota final: 1\n",
      "Nota final: 9\n",
      "Nota final: 4\n",
      "Nota final: 8\n",
      "Nota final: 9\n",
      "Nota final: 2\n",
      "Nota final: 4\n",
      "Nota final: 1\n",
      "Nota final: 1\n",
      "Nota final: 10\n",
      "Nota final: 5\n",
      "Nota final: 7\n",
      "Nota final: 8\n",
      "Nota final: 1\n"
     ]
    }
   ],
   "source": [
    "for nota in notas30:\n",
    "    print(\"Nota final:\", nota)"
   ]
  },
  {
   "cell_type": "code",
   "execution_count": 52,
   "metadata": {},
   "outputs": [
    {
     "name": "stdout",
     "output_type": "stream",
     "text": [
      "200\n"
     ]
    }
   ],
   "source": [
    "# Si me cambia el numero de alumnos, el for de antes me vale igual\n",
    "random.seed(0)\n",
    "n_alumnos = 200\n",
    "notasN = [random.randrange(0, 11) for x in range(n_alumnos)]\n",
    "\n",
    "print(len(notasN))"
   ]
  },
  {
   "cell_type": "code",
   "execution_count": 53,
   "metadata": {},
   "outputs": [
    {
     "name": "stdout",
     "output_type": "stream",
     "text": [
      "Nota final: 6\n",
      "Nota final: 6\n",
      "Nota final: 0\n",
      "Nota final: 4\n",
      "Nota final: 8\n",
      "Nota final: 7\n",
      "Nota final: 6\n",
      "Nota final: 4\n",
      "Nota final: 7\n",
      "Nota final: 5\n",
      "Nota final: 9\n",
      "Nota final: 3\n",
      "Nota final: 8\n",
      "Nota final: 2\n",
      "Nota final: 4\n",
      "Nota final: 2\n",
      "Nota final: 1\n",
      "Nota final: 9\n",
      "Nota final: 4\n",
      "Nota final: 8\n",
      "Nota final: 9\n",
      "Nota final: 2\n",
      "Nota final: 4\n",
      "Nota final: 1\n",
      "Nota final: 1\n",
      "Nota final: 10\n",
      "Nota final: 5\n",
      "Nota final: 7\n",
      "Nota final: 8\n",
      "Nota final: 1\n",
      "Nota final: 5\n",
      "Nota final: 6\n",
      "Nota final: 5\n",
      "Nota final: 9\n",
      "Nota final: 10\n",
      "Nota final: 3\n",
      "Nota final: 8\n",
      "Nota final: 7\n",
      "Nota final: 7\n",
      "Nota final: 8\n",
      "Nota final: 4\n",
      "Nota final: 0\n",
      "Nota final: 8\n",
      "Nota final: 0\n",
      "Nota final: 1\n",
      "Nota final: 6\n",
      "Nota final: 10\n",
      "Nota final: 10\n",
      "Nota final: 0\n",
      "Nota final: 9\n",
      "Nota final: 7\n",
      "Nota final: 5\n",
      "Nota final: 3\n",
      "Nota final: 5\n",
      "Nota final: 1\n",
      "Nota final: 3\n",
      "Nota final: 9\n",
      "Nota final: 3\n",
      "Nota final: 3\n",
      "Nota final: 2\n",
      "Nota final: 8\n",
      "Nota final: 7\n",
      "Nota final: 1\n",
      "Nota final: 1\n",
      "Nota final: 5\n",
      "Nota final: 8\n",
      "Nota final: 7\n",
      "Nota final: 1\n",
      "Nota final: 4\n",
      "Nota final: 8\n",
      "Nota final: 4\n",
      "Nota final: 1\n",
      "Nota final: 8\n",
      "Nota final: 5\n",
      "Nota final: 8\n",
      "Nota final: 3\n",
      "Nota final: 9\n",
      "Nota final: 8\n",
      "Nota final: 9\n",
      "Nota final: 4\n",
      "Nota final: 7\n",
      "Nota final: 1\n",
      "Nota final: 9\n",
      "Nota final: 6\n",
      "Nota final: 5\n",
      "Nota final: 9\n",
      "Nota final: 3\n",
      "Nota final: 4\n",
      "Nota final: 2\n",
      "Nota final: 3\n",
      "Nota final: 2\n",
      "Nota final: 0\n",
      "Nota final: 9\n",
      "Nota final: 10\n",
      "Nota final: 4\n",
      "Nota final: 7\n",
      "Nota final: 1\n",
      "Nota final: 1\n",
      "Nota final: 10\n",
      "Nota final: 2\n",
      "Nota final: 2\n",
      "Nota final: 0\n",
      "Nota final: 1\n",
      "Nota final: 8\n",
      "Nota final: 10\n",
      "Nota final: 6\n",
      "Nota final: 8\n",
      "Nota final: 4\n",
      "Nota final: 8\n",
      "Nota final: 3\n",
      "Nota final: 3\n",
      "Nota final: 10\n",
      "Nota final: 9\n",
      "Nota final: 6\n",
      "Nota final: 9\n",
      "Nota final: 4\n",
      "Nota final: 7\n",
      "Nota final: 7\n",
      "Nota final: 10\n",
      "Nota final: 10\n",
      "Nota final: 5\n",
      "Nota final: 1\n",
      "Nota final: 5\n",
      "Nota final: 9\n",
      "Nota final: 1\n",
      "Nota final: 7\n",
      "Nota final: 9\n",
      "Nota final: 10\n",
      "Nota final: 5\n",
      "Nota final: 3\n",
      "Nota final: 3\n",
      "Nota final: 0\n",
      "Nota final: 4\n",
      "Nota final: 1\n",
      "Nota final: 3\n",
      "Nota final: 5\n",
      "Nota final: 2\n",
      "Nota final: 5\n",
      "Nota final: 6\n",
      "Nota final: 0\n",
      "Nota final: 1\n",
      "Nota final: 2\n",
      "Nota final: 3\n",
      "Nota final: 0\n",
      "Nota final: 9\n",
      "Nota final: 10\n",
      "Nota final: 8\n",
      "Nota final: 9\n",
      "Nota final: 10\n",
      "Nota final: 1\n",
      "Nota final: 0\n",
      "Nota final: 1\n",
      "Nota final: 10\n",
      "Nota final: 3\n",
      "Nota final: 9\n",
      "Nota final: 9\n",
      "Nota final: 1\n",
      "Nota final: 6\n",
      "Nota final: 1\n",
      "Nota final: 5\n",
      "Nota final: 1\n",
      "Nota final: 0\n",
      "Nota final: 9\n",
      "Nota final: 0\n",
      "Nota final: 3\n",
      "Nota final: 2\n",
      "Nota final: 1\n",
      "Nota final: 7\n",
      "Nota final: 3\n",
      "Nota final: 0\n",
      "Nota final: 10\n",
      "Nota final: 0\n",
      "Nota final: 8\n",
      "Nota final: 6\n",
      "Nota final: 9\n",
      "Nota final: 1\n",
      "Nota final: 4\n",
      "Nota final: 1\n",
      "Nota final: 3\n",
      "Nota final: 1\n",
      "Nota final: 10\n",
      "Nota final: 4\n",
      "Nota final: 5\n",
      "Nota final: 6\n",
      "Nota final: 2\n",
      "Nota final: 0\n",
      "Nota final: 8\n",
      "Nota final: 7\n",
      "Nota final: 0\n",
      "Nota final: 9\n",
      "Nota final: 1\n",
      "Nota final: 6\n",
      "Nota final: 3\n",
      "Nota final: 4\n",
      "Nota final: 5\n",
      "Nota final: 7\n",
      "Nota final: 9\n",
      "Nota final: 2\n",
      "Nota final: 10\n",
      "Nota final: 3\n"
     ]
    }
   ],
   "source": [
    "for nota in notasN:\n",
    "    print(\"Nota final:\", nota)"
   ]
  },
  {
   "cell_type": "code",
   "execution_count": 54,
   "metadata": {},
   "outputs": [
    {
     "name": "stdout",
     "output_type": "stream",
     "text": [
      "Hoy es Lunes\n",
      "Hoy es Martes\n",
      "Hoy es Miércoles\n",
      "Hoy es Jueves\n",
      "Hoy es Viernes\n",
      "Hoy es Sábado\n",
      "Hoy es Domingo\n"
     ]
    }
   ],
   "source": [
    "# Si en vez de numeros, tenemos texto, también nos vale\n",
    "dias_semana = [\"Lunes\", \"Martes\", \"Miércoles\", \"Jueves\", \"Viernes\", \"Sábado\", \"Domingo\"]\n",
    "\n",
    "for dia in dias_semana:\n",
    "    print(\"Hoy es\", dia)"
   ]
  },
  {
   "cell_type": "markdown",
   "metadata": {},
   "source": [
    "Todo objeto que sea **iterable**, lo podrás recorrer en un `for`. Veremos los iterables más en detalle en las colecciones."
   ]
  },
  {
   "cell_type": "code",
   "execution_count": 56,
   "metadata": {},
   "outputs": [
    {
     "data": {
      "text/plain": [
       "['H', 'o', 'l', 'a']"
      ]
     },
     "execution_count": 56,
     "metadata": {},
     "output_type": "execute_result"
    }
   ],
   "source": [
    "list(\"Hola\")"
   ]
  },
  {
   "cell_type": "code",
   "execution_count": 57,
   "metadata": {},
   "outputs": [
    {
     "name": "stdout",
     "output_type": "stream",
     "text": [
      "Mi palabra tiene la letra: H\n",
      "Mi palabra tiene la letra: o\n",
      "Mi palabra tiene la letra: l\n",
      "Mi palabra tiene la letra: a\n"
     ]
    }
   ],
   "source": [
    "# Fijate que un String también es un iterable\n",
    "txt = \"Hola\"\n",
    "letter = \"W\"\n",
    "for letter in txt:\n",
    "    print(\"Mi palabra tiene la letra:\", letter)"
   ]
  },
  {
   "cell_type": "markdown",
   "metadata": {},
   "source": [
    "El bucle for resulta de gran utilidad para **aplicar operaciones a cada elemento**. Hasta ahora solo hemos impreso items por pantalla, pero ¿y si queremos subir la nota de todos los alumnos un punto extra? No puedo hacer `lista + 1`. Tendré que iterar/recorrer cada elemento y aplicarle la operación."
   ]
  },
  {
   "cell_type": "code",
   "execution_count": 61,
   "metadata": {},
   "outputs": [
    {
     "name": "stdout",
     "output_type": "stream",
     "text": [
      "4\n",
      "8\n",
      "10\n"
     ]
    }
   ],
   "source": [
    "for nota in notas:\n",
    "    print(nota + 1)"
   ]
  },
  {
   "cell_type": "code",
   "execution_count": 62,
   "metadata": {},
   "outputs": [
    {
     "data": {
      "text/plain": [
       "[3, 7, 9]"
      ]
     },
     "execution_count": 62,
     "metadata": {},
     "output_type": "execute_result"
    }
   ],
   "source": [
    "notas"
   ]
  },
  {
   "cell_type": "code",
   "execution_count": 67,
   "metadata": {},
   "outputs": [
    {
     "name": "stdout",
     "output_type": "stream",
     "text": [
      "Mi caja llena [3, 7, 9]\n",
      "Mi caja vacía []\n",
      "[4]\n",
      "[4, 8]\n",
      "[4, 8, 10]\n"
     ]
    }
   ],
   "source": [
    "print(\"Mi caja llena\", notas)\n",
    "\n",
    "notas_p1 = []\n",
    "print(\"Mi caja vacía\", notas_p1)\n",
    "\n",
    "for nota in notas:\n",
    "    notas_p1.append(nota + 1)\n",
    "\n",
    "    print(notas_p1)"
   ]
  },
  {
   "cell_type": "markdown",
   "metadata": {},
   "source": [
    "Dentro de un bucle `for`, podremos anidar más bucles. Esto resulta útil si queremos calcular combinaciones de iterables, por ejemplo, si quiero imprimir por pantalla todas las coordenadas de un tablero de 4x4."
   ]
  },
  {
   "cell_type": "code",
   "execution_count": 69,
   "metadata": {},
   "outputs": [
    {
     "name": "stdout",
     "output_type": "stream",
     "text": [
      "[[1, 2, 3, 4], [5, 6, 7, 8], [9, 10, 11, 12]]\n"
     ]
    }
   ],
   "source": [
    "mat = [[1,  2,  3,  4], \n",
    "       [5,  6,  7,  8],\n",
    "       [9, 10, 11, 12]]\n",
    "\n",
    "print(mat)"
   ]
  },
  {
   "cell_type": "code",
   "execution_count": 74,
   "metadata": {},
   "outputs": [
    {
     "name": "stdout",
     "output_type": "stream",
     "text": [
      "Fila: [1, 2, 3, 4] \n",
      "\n",
      "1\n",
      "2\n",
      "3\n",
      "4\n",
      "\n",
      "Fila: [5, 6, 7, 8] \n",
      "\n",
      "5\n",
      "6\n",
      "7\n",
      "8\n",
      "\n",
      "Fila: [9, 10, 11, 12] \n",
      "\n",
      "9\n",
      "10\n",
      "11\n",
      "12\n",
      "\n"
     ]
    }
   ],
   "source": [
    "for fila in mat:\n",
    "    print(\"Fila:\", fila, \"\\n\")\n",
    "    for item in fila:\n",
    "        print(item)\n",
    "    print(\"\")"
   ]
  },
  {
   "cell_type": "code",
   "execution_count": 75,
   "metadata": {},
   "outputs": [
    {
     "data": {
      "text/plain": [
       "2"
      ]
     },
     "execution_count": 75,
     "metadata": {},
     "output_type": "execute_result"
    }
   ],
   "source": [
    "ls = [1, 5, 7]\n",
    "ls.index(7)"
   ]
  },
  {
   "cell_type": "code",
   "execution_count": 83,
   "metadata": {},
   "outputs": [
    {
     "name": "stdout",
     "output_type": "stream",
     "text": [
      "Matriz original [[0, 0, 0], [0, 0, 0], [0, 0, 0]]\n",
      "\n",
      "La fila [0, 0, 0] aparece en la posición 0\n",
      "[[1, 0, 0], [0, 0, 0], [0, 0, 0]]\n",
      "\n",
      "La fila [0, 0, 0] aparece en la posición 1\n",
      "[[1, 0, 0], [0, 1, 0], [0, 0, 0]]\n",
      "\n",
      "La fila [0, 0, 0] aparece en la posición 2\n",
      "[[1, 0, 0], [0, 1, 0], [0, 0, 1]]\n",
      "\n"
     ]
    },
    {
     "data": {
      "text/plain": [
       "[[1, 0, 0], [0, 1, 0], [0, 0, 1]]"
      ]
     },
     "execution_count": 83,
     "metadata": {},
     "output_type": "execute_result"
    }
   ],
   "source": [
    "identity = [[0, 0, 0],\n",
    "            [0, 0, 0],\n",
    "            [0, 0, 0]]\n",
    "print(\"Matriz original\", identity)\n",
    "print()\n",
    "for fila in identity:\n",
    "    print(f\"La fila {fila} aparece en la posición {identity.index(fila)}\")\n",
    "    fila[identity.index(fila)] = 1\n",
    "    print(identity)\n",
    "    print()\n",
    "\n",
    "\n",
    "identity"
   ]
  },
  {
   "cell_type": "code",
   "execution_count": 90,
   "metadata": {},
   "outputs": [
    {
     "name": "stdout",
     "output_type": "stream",
     "text": [
      "Matriz original [[0, 0, 0], [0, 0, 0], [0, 0, 0]]\n",
      "\n",
      "Iteración numero  0\n",
      "Iteración numero  1\n",
      "Iteración numero  2\n"
     ]
    },
    {
     "data": {
      "text/plain": [
       "[[1, 0, 0], [0, 1, 0], [0, 0, 1]]"
      ]
     },
     "execution_count": 90,
     "metadata": {},
     "output_type": "execute_result"
    }
   ],
   "source": [
    "identity = [[0, 0, 0],\n",
    "            [0, 0, 0],\n",
    "            [0, 0, 0]]\n",
    "\n",
    "print(\"Matriz original\", identity)\n",
    "print()\n",
    "\n",
    "cnt = 0\n",
    "for fila in identity:\n",
    "    print(\"Iteración numero \", cnt)\n",
    "    fila[cnt] = 1\n",
    "    cnt = cnt + 1\n",
    "\n",
    "identity"
   ]
  },
  {
   "cell_type": "code",
   "execution_count": 94,
   "metadata": {},
   "outputs": [
    {
     "data": {
      "text/plain": [
       "[(0, 1000), (1, 2), (2, 3)]"
      ]
     },
     "execution_count": 94,
     "metadata": {},
     "output_type": "execute_result"
    }
   ],
   "source": [
    "list(enumerate(ls))"
   ]
  },
  {
   "cell_type": "code",
   "execution_count": 95,
   "metadata": {},
   "outputs": [
    {
     "name": "stdout",
     "output_type": "stream",
     "text": [
      "Matriz original [[0, 0, 0], [0, 0, 0], [0, 0, 0]]\n",
      "\n"
     ]
    },
    {
     "data": {
      "text/plain": [
       "[[1, 0, 0], [0, 1, 0], [0, 0, 1]]"
      ]
     },
     "execution_count": 95,
     "metadata": {},
     "output_type": "execute_result"
    }
   ],
   "source": [
    "identity = [[0, 0, 0],\n",
    "            [0, 0, 0],\n",
    "            [0, 0, 0]]\n",
    "\n",
    "print(\"Matriz original\", identity)\n",
    "print()\n",
    "\n",
    "for (idx, fila) in enumerate(identity):\n",
    "    fila[idx] = 1\n",
    "\n",
    "identity"
   ]
  },
  {
   "cell_type": "markdown",
   "metadata": {},
   "source": [
    "<table align=\"left\">\n",
    " <tr><td width=\"80\"><img src=\"./img/error.png\" style=\"width:auto;height:auto\"></td>\n",
    "     <td style=\"text-align:left\">\n",
    "         <h3>ERRORES concatenado str + num</h3>\n",
    "         \n",
    " </td></tr>\n",
    "</table>"
   ]
  },
  {
   "cell_type": "markdown",
   "metadata": {},
   "source": [
    "Cuidado cuando estemos recorriendo una lista de numeros y en el print interno intentemos imprimir por pantalla su concatenado. ¡Hay que pasar el numero a string! o emplear otro método en el `print`."
   ]
  },
  {
   "cell_type": "code",
   "execution_count": 97,
   "metadata": {},
   "outputs": [
    {
     "name": "stdout",
     "output_type": "stream",
     "text": [
      "Elemento: 1\n",
      "Elemento: 2\n",
      "Elemento: 3\n"
     ]
    }
   ],
   "source": [
    "for i in [1, 2, 3]:\n",
    "    print(\"Elemento: \" + str(i))"
   ]
  },
  {
   "cell_type": "markdown",
   "metadata": {},
   "source": [
    "### Función range\n",
    "Es muy común usar la función `range()` en las condiciones de un bucle. Esta función puede funcionar con un único argumento numérico y su output es un **iterable**, comprendido entre el 0 y el número introducido como argumento.\n",
    "\n",
    "Verás en [la documentación](https://www.w3schools.com/python/ref_func_range.asp) que `range()` tiene más posibilidades, combinando sus argumentos."
   ]
  },
  {
   "cell_type": "code",
   "execution_count": 113,
   "metadata": {},
   "outputs": [
    {
     "data": {
      "text/plain": [
       "[-10, -9, -8, -7, -6, -5, -4, -3, -2, -1]"
      ]
     },
     "execution_count": 113,
     "metadata": {},
     "output_type": "execute_result"
    }
   ],
   "source": [
    "list(range(-10, 0, 1))"
   ]
  },
  {
   "cell_type": "code",
   "execution_count": 98,
   "metadata": {},
   "outputs": [
    {
     "name": "stdout",
     "output_type": "stream",
     "text": [
      "0\n",
      "1\n",
      "2\n",
      "3\n",
      "4\n",
      "5\n",
      "6\n",
      "7\n",
      "8\n",
      "9\n"
     ]
    }
   ],
   "source": [
    "for i in range(10):\n",
    "    print(i)"
   ]
  },
  {
   "cell_type": "code",
   "execution_count": 99,
   "metadata": {},
   "outputs": [
    {
     "name": "stdout",
     "output_type": "stream",
     "text": [
      "3\n",
      "4\n",
      "5\n",
      "6\n",
      "7\n",
      "8\n",
      "9\n"
     ]
    }
   ],
   "source": [
    "for i in range(3, 10):\n",
    "    print(i)"
   ]
  },
  {
   "cell_type": "code",
   "execution_count": 100,
   "metadata": {},
   "outputs": [
    {
     "name": "stdout",
     "output_type": "stream",
     "text": [
      "3\n",
      "5\n",
      "7\n",
      "9\n"
     ]
    }
   ],
   "source": [
    "for i in range(3, 10, 2):\n",
    "    print(i)"
   ]
  },
  {
   "cell_type": "code",
   "execution_count": 103,
   "metadata": {},
   "outputs": [
    {
     "name": "stdout",
     "output_type": "stream",
     "text": [
      "10\n",
      "9\n",
      "8\n",
      "7\n",
      "6\n",
      "5\n",
      "4\n",
      "3\n",
      "2\n",
      "1\n"
     ]
    }
   ],
   "source": [
    "for i in range(10, 0, -1):\n",
    "    print(i)"
   ]
  },
  {
   "cell_type": "markdown",
   "metadata": {},
   "source": [
    "En ocasiones nos interesa iterar sobre la posición que tiene cada elemento dentro de un iterable. Para ello podemos combinar `range` con `len` dentro de las condiciones del bucle"
   ]
  },
  {
   "cell_type": "code",
   "execution_count": 114,
   "metadata": {},
   "outputs": [
    {
     "name": "stdout",
     "output_type": "stream",
     "text": [
      "1000\n",
      "2\n",
      "3\n"
     ]
    }
   ],
   "source": [
    "for item in ls:\n",
    "    print(item)"
   ]
  },
  {
   "cell_type": "code",
   "execution_count": 117,
   "metadata": {},
   "outputs": [
    {
     "data": {
      "text/plain": [
       "[0, 1, 2]"
      ]
     },
     "execution_count": 117,
     "metadata": {},
     "output_type": "execute_result"
    }
   ],
   "source": [
    "list(range(len(ls)))"
   ]
  },
  {
   "cell_type": "code",
   "execution_count": 118,
   "metadata": {},
   "outputs": [
    {
     "data": {
      "text/plain": [
       "[0, 1, 2, 3, 4]"
      ]
     },
     "execution_count": 118,
     "metadata": {},
     "output_type": "execute_result"
    }
   ],
   "source": [
    "ls2 = [\"a\", \"e\", \"i\", \"o\", \"u\"] # [0, 1, 2, 3, 4]\n",
    "\n",
    "list(range(len(ls2)))"
   ]
  },
  {
   "cell_type": "code",
   "execution_count": 119,
   "metadata": {},
   "outputs": [
    {
     "data": {
      "text/plain": [
       "[[1, 0, 0], [0, 1, 0], [0, 0, 1]]"
      ]
     },
     "execution_count": 119,
     "metadata": {},
     "output_type": "execute_result"
    }
   ],
   "source": [
    "identity = [[0, 0, 0],\n",
    "            [0, 0, 0],\n",
    "            [0, 0, 0]]\n",
    "\n",
    "for idx_row in range(len(identity)):\n",
    "    fila = identity[idx_row]\n",
    "    fila[idx_row] = 1\n",
    "\n",
    "\n",
    "identity"
   ]
  },
  {
   "cell_type": "code",
   "execution_count": 120,
   "metadata": {},
   "outputs": [
    {
     "data": {
      "text/plain": [
       "['a', 'e', 'i', 'o', 'u']"
      ]
     },
     "execution_count": 120,
     "metadata": {},
     "output_type": "execute_result"
    }
   ],
   "source": [
    "ls2"
   ]
  },
  {
   "cell_type": "code",
   "execution_count": 121,
   "metadata": {},
   "outputs": [
    {
     "name": "stdout",
     "output_type": "stream",
     "text": [
      "a\n",
      "e\n",
      "i\n",
      "o\n",
      "u\n"
     ]
    }
   ],
   "source": [
    "for letter in ls2:\n",
    "    print(letter)"
   ]
  },
  {
   "cell_type": "code",
   "execution_count": 123,
   "metadata": {},
   "outputs": [
    {
     "name": "stdout",
     "output_type": "stream",
     "text": [
      "a\n",
      "e\n",
      "i\n",
      "o\n",
      "u\n"
     ]
    }
   ],
   "source": [
    "for idx in range(len(ls2)):\n",
    "    print(ls2[idx])"
   ]
  },
  {
   "cell_type": "code",
   "execution_count": 137,
   "metadata": {},
   "outputs": [
    {
     "name": "stdout",
     "output_type": "stream",
     "text": [
      "a\n",
      "i\n",
      "u\n"
     ]
    }
   ],
   "source": [
    "for idx in range(len(ls2)):\n",
    "    if idx%2 == 0:\n",
    "        print(ls2[idx])"
   ]
  },
  {
   "cell_type": "markdown",
   "metadata": {},
   "source": [
    "### Función enumerate\n",
    "¿Y si dentro del bucle necesitamos tanto el elemento del iterable, como su índice? En [la documentación](https://www.w3schools.com/python/ref_func_enumerate.asp) verás que puedes elegir desde qué elemento de la lista quieres empezar."
   ]
  },
  {
   "cell_type": "code",
   "execution_count": 124,
   "metadata": {},
   "outputs": [
    {
     "name": "stdout",
     "output_type": "stream",
     "text": [
      "('Primero', 'A')\n",
      "('Segundo', 'B')\n",
      "('Tercero', 'C')\n"
     ]
    }
   ],
   "source": [
    "ls = [('Primero', 'A'), ('Segundo', 'B'), ('Tercero', 'C')]\n",
    "for item in ls:\n",
    "    print(item)"
   ]
  },
  {
   "cell_type": "code",
   "execution_count": 125,
   "metadata": {},
   "outputs": [
    {
     "name": "stdout",
     "output_type": "stream",
     "text": [
      "Primero\n",
      "Segundo\n",
      "Tercero\n"
     ]
    }
   ],
   "source": [
    "for item in ls:\n",
    "    print(item[0])"
   ]
  },
  {
   "cell_type": "code",
   "execution_count": 126,
   "metadata": {},
   "outputs": [
    {
     "name": "stdout",
     "output_type": "stream",
     "text": [
      "A\n",
      "B\n",
      "C\n"
     ]
    }
   ],
   "source": [
    "for item in ls:\n",
    "    print(item[1])"
   ]
  },
  {
   "cell_type": "code",
   "execution_count": 127,
   "metadata": {},
   "outputs": [
    {
     "name": "stdout",
     "output_type": "stream",
     "text": [
      "Primero\n",
      "Segundo\n",
      "Tercero\n"
     ]
    }
   ],
   "source": [
    "for (i, j) in ls:\n",
    "    print(i)"
   ]
  },
  {
   "cell_type": "code",
   "execution_count": 129,
   "metadata": {},
   "outputs": [
    {
     "name": "stdout",
     "output_type": "stream",
     "text": [
      "Primero\n",
      "Segundo\n",
      "Tercero\n"
     ]
    }
   ],
   "source": [
    "for (piso, letra) in ls:\n",
    "    print(piso)"
   ]
  },
  {
   "cell_type": "code",
   "execution_count": 130,
   "metadata": {},
   "outputs": [
    {
     "name": "stdout",
     "output_type": "stream",
     "text": [
      "A\n",
      "B\n",
      "C\n"
     ]
    }
   ],
   "source": [
    "for (piso, letra) in ls:\n",
    "    print(letra)"
   ]
  },
  {
   "cell_type": "code",
   "execution_count": 132,
   "metadata": {},
   "outputs": [
    {
     "data": {
      "text/plain": [
       "[(0, 'a'), (1, 'e'), (2, 'i'), (3, 'o'), (4, 'u')]"
      ]
     },
     "execution_count": 132,
     "metadata": {},
     "output_type": "execute_result"
    }
   ],
   "source": [
    "ls2 = [\"a\", \"e\", \"i\", \"o\", \"u\"] \n",
    "list(enumerate(ls2))"
   ]
  },
  {
   "cell_type": "code",
   "execution_count": 134,
   "metadata": {},
   "outputs": [
    {
     "name": "stdout",
     "output_type": "stream",
     "text": [
      "a\n",
      "i\n",
      "u\n"
     ]
    }
   ],
   "source": [
    "for (idx, val) in enumerate(ls2):\n",
    "    if idx%2 == 0:\n",
    "        print(val)"
   ]
  },
  {
   "cell_type": "markdown",
   "metadata": {},
   "source": [
    "<table align=\"left\">\n",
    " <tr><td width=\"80\"><img src=\"./img/error.png\" style=\"width:auto;height:auto\"></td>\n",
    "     <td style=\"text-align:left\">\n",
    "         <h3>ERRORES en los rangos</h3>\n",
    "         \n",
    " </td></tr>\n",
    "</table>"
   ]
  },
  {
   "cell_type": "markdown",
   "metadata": {},
   "source": [
    "Mucho cuidado al escribir las condiciones del bucle. Lo primero, porque podríamos tener condiciones infinitas de ejecución que ni nosotros, ni nuestro ordenador lo deseamos. Y lo segundo porque si intentamos acceder a un índice de nuestro iterable que no existe, saltará un error. Veamos ejemplo"
   ]
  },
  {
   "cell_type": "code",
   "execution_count": null,
   "metadata": {},
   "outputs": [],
   "source": []
  },
  {
   "cell_type": "markdown",
   "metadata": {},
   "source": [
    "Es por ello que se recomienda dejar el código lo más \"en automático\" posible. Poner en el range la longitud del iterable no es una buena práctica, ¿Y si mañana el iterable tiene menos nombres? saltará error. ¿Y si tiene más? No los tendremos en cuenta en el for. Por ello es mejor usar `len`."
   ]
  },
  {
   "cell_type": "markdown",
   "metadata": {},
   "source": [
    "<table align=\"left\">\n",
    " <tr><td width=\"80\"><img src=\"./img/ejercicio.png\" style=\"width:auto;height:auto\"></td>\n",
    "     <td style=\"text-align:left\">\n",
    "         <h3>Ejercicio bucle for</h3>\n",
    "\n",
    "Recorre la siguiente lista con un for, imprime únicamente los elementos múltiplos de 3, así como el índice que tengan dentro de la lista\n",
    "         \n",
    " </td></tr>\n",
    "</table>"
   ]
  },
  {
   "cell_type": "code",
   "execution_count": null,
   "metadata": {},
   "outputs": [],
   "source": []
  },
  {
   "cell_type": "markdown",
   "metadata": {},
   "source": [
    "## 4. Bucle while\n",
    "Se trata de otra manera de implementar un bucle en programación. Los bucles tienen que ir siempre limitados. En el caso del `for`, le poníamos un número concreto de ejecuciones, según el iterable que estuviésemos recorriendo. Para el `while` es algo diferente. Tiene una **condición de ejecución**, que mientras que se cumpla (`True`), seguirá ejecutando una y otra vez. Por otro lado, el bucle tiene una **variable de ejecucón**, al igual que en el `for`, que se irá actualizando con cada vuelta, y es esa variable la que determina cuándo acaba el bucle.\n",
    "\n",
    "![imagen](./img/while-loop.png)"
   ]
  },
  {
   "cell_type": "markdown",
   "metadata": {},
   "source": [
    "**Cuidado** con estos bucles ya que es muy fácil olvidarnos de actualiza la variable de ejecución, o equivocarnos en la condición de ejecución. Si esto ocurre el código se quedará corriendo hasta que detengamos el kernel (botón *interrupt the kernel*, arriba al lado del Run)\n",
    "\n",
    "Veamos un ejemplo."
   ]
  },
  {
   "cell_type": "code",
   "execution_count": 138,
   "metadata": {},
   "outputs": [
    {
     "name": "stdout",
     "output_type": "stream",
     "text": [
      "0\n",
      "1\n",
      "2\n",
      "3\n",
      "4\n",
      "5\n",
      "6\n",
      "7\n",
      "8\n",
      "9\n"
     ]
    }
   ],
   "source": [
    "for i in range(10):\n",
    "    print(i)"
   ]
  },
  {
   "cell_type": "code",
   "execution_count": 141,
   "metadata": {},
   "outputs": [
    {
     "name": "stdout",
     "output_type": "stream",
     "text": [
      "0\n",
      "1\n",
      "2\n",
      "3\n",
      "4\n",
      "5\n",
      "6\n",
      "7\n",
      "8\n",
      "9\n"
     ]
    }
   ],
   "source": [
    "cnt = 0\n",
    "while cnt < 10:\n",
    "    print(cnt)\n",
    "    cnt = cnt + 1"
   ]
  },
  {
   "cell_type": "markdown",
   "metadata": {},
   "source": [
    "La manera más habitual de implementar estos bucles es:\n",
    "1. Declaro la **variable de ejecución fuera del bucle**\n",
    "2. Establezco una **condición de ejecución** para determinar cuándo queremos que se pare el bucle.\n",
    "3. **Actualizo la variable de ejecución** en cada iteración del bucle.\n"
   ]
  },
  {
   "cell_type": "code",
   "execution_count": 142,
   "metadata": {},
   "outputs": [
    {
     "name": "stdout",
     "output_type": "stream",
     "text": [
      "a\n",
      "e\n",
      "i\n",
      "o\n",
      "u\n"
     ]
    }
   ],
   "source": [
    "ls = [\"a\", \"e\", \"i\", \"o\", \"u\"]\n",
    "\n",
    "cnt = 0\n",
    "while cnt < len(ls):\n",
    "    print(ls[cnt])\n",
    "    cnt = cnt + 1\n"
   ]
  },
  {
   "cell_type": "markdown",
   "metadata": {},
   "source": [
    "## 5. Break/continue\n",
    "Son dos sentencias que podemo usar dentro de los bucles para evitar ejecutar código de más.\n",
    "\n",
    "### Break\n",
    "Se usa cuando queremos salir del bucle forzadamente. Imagina que eres una tienda y estás buscando con un for si al menos uno de los pedidos era un abrigo. Si has tenido 1000 pedidos, vas a tener que iterar sobre todos y mediante un `if`, comprobar si es un abrigo. Ahora bien, si el abrigo es el primer elemento de la lista, el `for` va a recorrer igualmente los otros 999 elementos, cuando no es necesario. Con un `break` podremos salirnos del bucle y continuar con el programa.\n",
    "\n",
    "![imagen](./img/break.jpg)"
   ]
  },
  {
   "cell_type": "code",
   "execution_count": 143,
   "metadata": {},
   "outputs": [
    {
     "name": "stdout",
     "output_type": "stream",
     "text": [
      "a\n",
      "e\n",
      "i\n"
     ]
    }
   ],
   "source": [
    "ls = [\"a\", \"e\", \"i\", \"o\", \"u\"]\n",
    "\n",
    "cnt = 0\n",
    "while cnt < len(ls):\n",
    "    print(ls[cnt])\n",
    "    if ls[cnt] == \"i\":\n",
    "        break\n",
    "    cnt = cnt + 1\n",
    "    "
   ]
  },
  {
   "cell_type": "code",
   "execution_count": 144,
   "metadata": {},
   "outputs": [
    {
     "name": "stdout",
     "output_type": "stream",
     "text": [
      "a\n",
      "e\n",
      "i\n"
     ]
    }
   ],
   "source": [
    "ls = [\"a\", \"e\", \"i\", \"o\", \"u\"]\n",
    "\n",
    "for item in ls:\n",
    "    print(item)\n",
    "    if item == \"i\":\n",
    "        break"
   ]
  },
  {
   "cell_type": "markdown",
   "metadata": {},
   "source": [
    "### Continue\n",
    "Esta sentencia se usa dentro de un bucle para indicarle que continue con el siguiente elemento del iterable. Al igual que con el `break`, nos sirve para evitar que se ejecute código de más. Volviendo al ejemplo anterior, si después de comprobar que tenemos un abrigo, hay 200 líneas más de código que se utiliza en otros casos, con un `continue` evitamos que se ejecute todo eso, hacemos lo que tengamos que hacer con el abrigo, y le decimos al bucle que pase al siguiente elemento, e ignore el resto del código.\n",
    "\n",
    "![imagen](./img/continue.jpg)"
   ]
  },
  {
   "cell_type": "code",
   "execution_count": 148,
   "metadata": {},
   "outputs": [
    {
     "name": "stdout",
     "output_type": "stream",
     "text": [
      "Sigue buscando\n",
      "Sigue buscando\n",
      "abrigo\n",
      "Sigue buscando\n",
      "Sigue buscando\n"
     ]
    }
   ],
   "source": [
    "ls = [\"zapatos\", \"calcetines\", \"abrigo\", \"chandal\", \"sombrero\"]\n",
    "\n",
    "for prenda in ls:\n",
    "    \n",
    "    if prenda != \"abrigo\":\n",
    "        print(\"Sigue buscando\")\n",
    "        continue\n",
    "\n",
    "    print(prenda)"
   ]
  },
  {
   "cell_type": "markdown",
   "metadata": {},
   "source": [
    "**Los bucles `for` y `while`, así como `break` y `continue`, son sentencias complicadas de entender, y si es la primera vez que programas te va a suponer un cambio en la manera de pensar y de solucionar problemas, por ello te recomiendo que cojas papel y boli y hagas los primeros ejercicios de bucles viendo las iteraciones una a una y calculando manualmente todas las opeaciones de dentro del bucle.**"
   ]
  },
  {
   "cell_type": "markdown",
   "metadata": {},
   "source": [
    "## 6. Try/except\n",
    "¿Qué ocurre cuando hay un error en nuestro código? Se para toda la ejecución. Por muy buenos programadores que seamos, hay que contar siempre con que puede haber errores. Podemos llegar a controlarlos con sentencias `if/else`, por ejemplo si no sabemos muy bien los tipos de los datos, `if type(data) == float:` haces algo con floats, `else` haces otra cosa con otro tipo de datos, pero lo mejor es usar `try/except`.\n",
    "\n",
    "Ahora bien, si intuimos que el comportamiento de nuestro código puede ser algo impredecible, en programación podemos usar las sentencias `try/except` para capturar ese error, tomar decisiones, y que el código pueda continuar ejecutándose.\n",
    "\n",
    "La sintaxis es la siguiente:\n",
    "\n",
    "> ```Python\n",
    "> try:\n",
    ">     Código que puede contener errores\n",
    "> except:\n",
    ">     Qué hacer si nos encontramos con un error\n",
    "> ```"
   ]
  },
  {
   "cell_type": "code",
   "execution_count": 150,
   "metadata": {},
   "outputs": [],
   "source": [
    "var = \"Hola\"\n",
    "\n",
    "try:\n",
    "    val = int(var)\n",
    "except:\n",
    "    val = 0"
   ]
  },
  {
   "cell_type": "code",
   "execution_count": 154,
   "metadata": {},
   "outputs": [
    {
     "name": "stdout",
     "output_type": "stream",
     "text": [
      "6\n"
     ]
    }
   ],
   "source": [
    "suma = 0\n",
    "ls = [1, 2, 3]\n",
    "\n",
    "for num in ls:\n",
    "    suma = suma + num\n",
    "\n",
    "print(suma)"
   ]
  },
  {
   "cell_type": "code",
   "execution_count": 155,
   "metadata": {},
   "outputs": [
    {
     "name": "stdout",
     "output_type": "stream",
     "text": [
      "3\n"
     ]
    }
   ],
   "source": [
    "# suma = 0\n",
    "ls = [1, 2, 3]\n",
    "\n",
    "for num in ls:\n",
    "    suma = ls[0] + ls[1]\n",
    "\n",
    "print(suma)"
   ]
  },
  {
   "cell_type": "code",
   "execution_count": 159,
   "metadata": {},
   "outputs": [
    {
     "ename": "IndexError",
     "evalue": "list index out of range",
     "output_type": "error",
     "traceback": [
      "\u001b[1;31m---------------------------------------------------------------------------\u001b[0m",
      "\u001b[1;31mIndexError\u001b[0m                                Traceback (most recent call last)",
      "Cell \u001b[1;32mIn [159], line 2\u001b[0m\n\u001b[0;32m      1\u001b[0m ls_aux \u001b[39m=\u001b[39m [\u001b[39m1\u001b[39m]\n\u001b[1;32m----> 2\u001b[0m ls_aux[\u001b[39m1\u001b[39;49m]\n",
      "\u001b[1;31mIndexError\u001b[0m: list index out of range"
     ]
    }
   ],
   "source": [
    "ls_aux = [1]\n",
    "ls_aux[1]"
   ]
  },
  {
   "cell_type": "code",
   "execution_count": 157,
   "metadata": {},
   "outputs": [
    {
     "name": "stdout",
     "output_type": "stream",
     "text": [
      "1\n"
     ]
    }
   ],
   "source": [
    "# suma = 0\n",
    "ls = [1]\n",
    "\n",
    "for num in ls:\n",
    "    try:\n",
    "        suma = ls[0] + ls[1]\n",
    "    except:\n",
    "        suma = ls[0]\n",
    "\n",
    "print(suma)"
   ]
  },
  {
   "cell_type": "code",
   "execution_count": 167,
   "metadata": {},
   "outputs": [
    {
     "name": "stdout",
     "output_type": "stream",
     "text": [
      "No se puede dividir entre 0!!\n"
     ]
    }
   ],
   "source": [
    "# suma = 0\n",
    "ls = [1, 0, 20]\n",
    "\n",
    "try:\n",
    "    suma = ls[0] / ls[1]\n",
    "except IndexError:\n",
    "    try:\n",
    "        suma = ls[0]\n",
    "    except IndexError:\n",
    "        suma = 0\n",
    "except ZeroDivisionError:\n",
    "    suma = None\n",
    "    print(\"No se puede dividir entre 0!!\")\n",
    "\n",
    "suma\n"
   ]
  },
  {
   "cell_type": "markdown",
   "metadata": {},
   "source": [
    "Hay un error en el código, pero no para el programa.\n",
    "\n",
    "Podemos ser un poco más específicos con los errores, y en función del tipo de error que nos de, tomaremos diferentes caminos"
   ]
  },
  {
   "cell_type": "code",
   "execution_count": null,
   "metadata": {},
   "outputs": [],
   "source": []
  },
  {
   "cell_type": "markdown",
   "metadata": {},
   "source": [
    "## 7. Resumen"
   ]
  },
  {
   "cell_type": "code",
   "execution_count": null,
   "metadata": {},
   "outputs": [],
   "source": [
    "# If/elif/else\n",
    "mi_nota_de_examen = 7\n",
    "\n",
    "if mi_nota_de_examen < 5 :\n",
    "    print(\"A septiembre :(\")\n",
    "\n",
    "elif mi_nota_de_examen < 6 :\n",
    "    print(\"Suficiente\")\n",
    "    \n",
    "elif mi_nota_de_examen < 7 :\n",
    "    print(\"Bien\")\n",
    "    \n",
    "elif mi_nota_de_examen < 9 :\n",
    "    print(\"Notable\")\n",
    "    \n",
    "else:\n",
    "    print(\"Sobresaliente\")\n",
    "    \n",
    "    \n",
    "# Bucle for\n",
    "dias_semana = [\"Lunes\", \"Martes\", \"Miércoles\", \"Jueves\", \"Viernes\", \"Sábado\", \"Domingo\"]\n",
    "\n",
    "for dia in dias_semana:\n",
    "    print(dia)\n",
    "    \n",
    "    \n",
    "# Bucle while\n",
    "i = 0\n",
    "\n",
    "while(i < 5):\n",
    "    print(i)\n",
    "    i = i + 1\n",
    "    \n",
    "    \n",
    "# Break y continue\n",
    "for val in \"string\":\n",
    "    if val == \"i\":\n",
    "        break\n",
    "    print(val)\n",
    "\n",
    "print(\"Fin\")\n",
    "\n",
    "\n",
    "# Try/except\n",
    "try:\n",
    "  print(variable_)\n",
    "except:\n",
    "  print(\"El codigo tiene errores porque la variable 'variable_' no existe\")\n",
    "\n",
    "print(\"Continuo con el programa\")"
   ]
  }
 ],
 "metadata": {
  "kernelspec": {
   "display_name": "Python 3",
   "language": "python",
   "name": "python3"
  },
  "language_info": {
   "codemirror_mode": {
    "name": "ipython",
    "version": 3
   },
   "file_extension": ".py",
   "mimetype": "text/x-python",
   "name": "python",
   "nbconvert_exporter": "python",
   "pygments_lexer": "ipython3",
   "version": "3.10.8"
  },
  "vscode": {
   "interpreter": {
    "hash": "7600a12950a547366bb7a6732117e300ffd26224351912980486e1126c5d0f9a"
   }
  }
 },
 "nbformat": 4,
 "nbformat_minor": 4
}
