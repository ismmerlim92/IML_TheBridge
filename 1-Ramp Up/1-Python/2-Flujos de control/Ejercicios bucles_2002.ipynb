{
 "cells": [
  {
   "cell_type": "markdown",
   "metadata": {},
   "source": [
    "![imagen](./img/ejercicios.png)"
   ]
  },
  {
   "cell_type": "markdown",
   "metadata": {},
   "source": [
    "## Ejercicio 1\n",
    "1. Elimina todos los VW de la siguiente lista. Crea una lista nueva para ello.\n",
    "2. Hazlo de otra manera. Crea una lista nueva, y ve añadiendo todos los que no sean VW\n",
    "3. En vez de `for`, usa un bucle `while`\n",
    "> ejer_1 = [\"VW\", \"Audi\", \"Renault\", \"VW\", \"BMW\"]"
   ]
  },
  {
   "cell_type": "code",
   "execution_count": 5,
   "metadata": {},
   "outputs": [
    {
     "name": "stdout",
     "output_type": "stream",
     "text": [
      "['Audi', 'Renault', 'BMW']\n"
     ]
    }
   ],
   "source": [
    "# Apartado 3\n",
    "ejer_1 = [\"VW\", \"Audi\", \"Renault\", \"VW\", \"BMW\"]\n",
    "\n",
    "ls_inc = ejer_1.copy()\n",
    "\n",
    "while \"VW\" in ls_inc:\n",
    "    ls_inc.remove(\"VW\")\n",
    "\n",
    "print(ls_inc)"
   ]
  },
  {
   "cell_type": "code",
   "execution_count": 7,
   "metadata": {},
   "outputs": [
    {
     "name": "stdout",
     "output_type": "stream",
     "text": [
      "0\n",
      "1\n",
      "2\n",
      "['Audi', 'Renault', 'BMW']\n"
     ]
    }
   ],
   "source": [
    "# Apartado 1\n",
    "ejer_1 = [\"VW\", \"Audi\", \"Renault\", \"VW\", \"BMW\"]\n",
    "\n",
    "ls_inc = ejer_1.copy()\n",
    "\n",
    "i = 0\n",
    "for item in ls_inc:\n",
    "    print(i)\n",
    "    i+=1\n",
    "    if item == \"VW\":\n",
    "        ls_inc.remove(\"VW\")\n",
    "    \n",
    "    if \"VW\" not in ls_inc:\n",
    "        break\n",
    "\n",
    "print(ls_inc)"
   ]
  },
  {
   "cell_type": "code",
   "execution_count": 8,
   "metadata": {},
   "outputs": [
    {
     "name": "stdout",
     "output_type": "stream",
     "text": [
      "['Audi', 'Renault', 'BMW']\n"
     ]
    }
   ],
   "source": [
    "# Apartado 2\n",
    "ejer_1 = [\"VW\", \"Audi\", \"Renault\", \"VW\", \"BMW\"]\n",
    "\n",
    "ls_inc_app = []\n",
    "\n",
    "for item in ls_inc:\n",
    "    if item != \"VW\":\n",
    "        ls_inc_app.append(item)\n",
    "\n",
    "print(ls_inc)"
   ]
  },
  {
   "cell_type": "markdown",
   "metadata": {},
   "source": [
    "## Ejercicio 2\n",
    "Imprime por pantalla la siguiente secuencia: 10, 9, 8.... -8, -9, -10"
   ]
  },
  {
   "cell_type": "code",
   "execution_count": 11,
   "metadata": {},
   "outputs": [
    {
     "name": "stdout",
     "output_type": "stream",
     "text": [
      "10 9 8 7 6 5 4 3 2 1 0 -1 -2 -3 -4 -5 -6 -7 -8 -9 -10 "
     ]
    }
   ],
   "source": [
    "for i in range(10, -11, -1):\n",
    "    print(i, end=\" \")"
   ]
  },
  {
   "cell_type": "code",
   "execution_count": 13,
   "metadata": {},
   "outputs": [
    {
     "data": {
      "text/plain": [
       "[10, 9, 8, 7, 6, 5, 4, 3, 2, 1, 0, -1, -2, -3, -4, -5, -6, -7, -8, -9, -10]"
      ]
     },
     "execution_count": 13,
     "metadata": {},
     "output_type": "execute_result"
    }
   ],
   "source": [
    "list(range(10, -11, -1))"
   ]
  },
  {
   "cell_type": "markdown",
   "metadata": {},
   "source": [
    "## Ejercicio 3\n",
    "1. Escribe un programa que vaya pidiendo numeros al usuario. Cuando el usuario introduzca el 0, el programa tiene que imprimir por pantalla el sumatorio de todos los numeros positivos introducidos\n",
    "2. Además de la suma, queremos que imprima también una lista con todos los números."
   ]
  },
  {
   "cell_type": "code",
   "execution_count": 17,
   "metadata": {},
   "outputs": [
    {
     "name": "stdout",
     "output_type": "stream",
     "text": [
      "La suma de los valores positivos es 100.0\n",
      "Los número introducidos son: [10.0, 10.0, -10.0, -1.0, 80.0]\n"
     ]
    }
   ],
   "source": [
    "suma = 0\n",
    "ls_num = []\n",
    "\n",
    "while True:\n",
    "\n",
    "    val = float(input(\"Por favor, introduzca un número (0 para salir):\"))\n",
    "    ls_num.append(val)\n",
    "\n",
    "    if val > 0:\n",
    "        suma = suma + val # suma += val\n",
    "    elif val == 0:\n",
    "        ls_num.remove(val)\n",
    "        print(f\"La suma de los valores positivos es {suma}\")\n",
    "        print(f\"Los número introducidos son: {ls_num}\")\n",
    "        break"
   ]
  },
  {
   "cell_type": "markdown",
   "metadata": {},
   "source": [
    "## Ejercicio 4\n",
    "Escribir un programa que vaya pidiendo la cantidad de compras de un cliente. El programa tiene que pedir cantidades hasta que se ingresa un 0. Igualmente cuando una de las cantiaddes introducida es negativa, hay que mandar un mensaje de que \"la cantidad es negativa, por favor introducir numeros positivos\""
   ]
  },
  {
   "cell_type": "code",
   "execution_count": 18,
   "metadata": {},
   "outputs": [
    {
     "name": "stdout",
     "output_type": "stream",
     "text": [
      "La cantidad introducida es negativa, por favor, pruebe de nuevo\n",
      "La cantidad introducida es negativa, por favor, pruebe de nuevo\n",
      "Ha hecho en total 29 compras\n",
      "La lista de compras es: [10, 10, 9]\n"
     ]
    }
   ],
   "source": [
    "suma = 0\n",
    "ls_num = []\n",
    "\n",
    "while True:\n",
    "\n",
    "    val = int(input(\"Por favor, introduzca un número (0 para salir):\"))\n",
    "\n",
    "    if val > 0:\n",
    "        suma = suma + val # suma += val\n",
    "        ls_num.append(val)\n",
    "    elif val < 0:\n",
    "        print(\"La cantidad introducida es negativa, por favor, pruebe de nuevo\")\n",
    "        continue\n",
    "    elif val == 0:\n",
    "        print(f\"Ha hecho en total {suma} compras\")\n",
    "        print(f\"La lista de compras es: {ls_num}\")\n",
    "        break"
   ]
  },
  {
   "cell_type": "markdown",
   "metadata": {},
   "source": [
    "## Ejercicio 5\n",
    "Imprime por pantalla la palabra \"Python\", pero empezando con la última letra."
   ]
  },
  {
   "cell_type": "code",
   "execution_count": 27,
   "metadata": {},
   "outputs": [
    {
     "name": "stdout",
     "output_type": "stream",
     "text": [
      "nohtyP\n"
     ]
    }
   ],
   "source": [
    "txt = \"Python\"\n",
    "\n",
    "print(txt[::-1])"
   ]
  },
  {
   "cell_type": "code",
   "execution_count": 28,
   "metadata": {},
   "outputs": [
    {
     "data": {
      "text/plain": [
       "'nohtyP'"
      ]
     },
     "execution_count": 28,
     "metadata": {},
     "output_type": "execute_result"
    }
   ],
   "source": [
    "txt_new = \"\"\n",
    "for idx in range(1, len(txt) + 1):\n",
    "    txt_new += txt[-idx]\n",
    "\n",
    "txt_new"
   ]
  },
  {
   "cell_type": "markdown",
   "metadata": {},
   "source": [
    "## Ejercicio 6\n",
    "Escribe un programa que calcule la cantidad de veces que está la letra \"m\" o \"M\" en la frase:\n",
    "> \"En un lugar de La Mancha, de cuyo nombre no quiero acordarme\""
   ]
  },
  {
   "cell_type": "code",
   "execution_count": 31,
   "metadata": {},
   "outputs": [
    {
     "name": "stdout",
     "output_type": "stream",
     "text": [
      "Hay 3 repeticiones de \"m\"/\"M\"\n"
     ]
    }
   ],
   "source": [
    "txt_qui = \"En un lugar de La Mancha, de cuyo nombre no quiero acordarme\"\n",
    "\n",
    "cnt = 0\n",
    "for letter in txt_qui.lower():\n",
    "    if letter == \"m\":\n",
    "        cnt += 1\n",
    "\n",
    "print(f\"Hay {cnt} repeticiones de \\\"m\\\"/\\\"M\\\"\")\n"
   ]
  },
  {
   "cell_type": "markdown",
   "metadata": {},
   "source": [
    "## Ejercicio 7\n",
    "Crea un programa que simule la siguiente pirámide. Para ello, el programa tiene que pedirle al usuario un caracter cualquiera. El número de filas es fijo, 5. Vas a necesitar usar dos bucles anidados.\n",
    "\n",
    "W W W W W \n",
    "\n",
    "W W W W \n",
    "\n",
    "W W W \n",
    "\n",
    "W W \n",
    "\n",
    "W \n",
    "\n",
    "\n"
   ]
  },
  {
   "cell_type": "code",
   "execution_count": 47,
   "metadata": {},
   "outputs": [
    {
     "name": "stdout",
     "output_type": "stream",
     "text": [
      "W W W W W "
     ]
    }
   ],
   "source": [
    "for j in range(5):\n",
    "    print(char, end=\" \")"
   ]
  },
  {
   "cell_type": "code",
   "execution_count": 42,
   "metadata": {},
   "outputs": [
    {
     "name": "stdout",
     "output_type": "stream",
     "text": [
      "W W W W W \n",
      "\n",
      "W W W W \n",
      "\n",
      "W W W \n",
      "\n",
      "W W \n",
      "\n",
      "W \n",
      "\n",
      "\n",
      "\n"
     ]
    }
   ],
   "source": [
    "n_size = 5\n",
    "char = input(\"Introduzca un caracter\")\n",
    "\n",
    "for i in range(n_size, 0, -1):\n",
    "\n",
    "    for j in range(i):\n",
    "        print(char, end=\" \")\n",
    "    \n",
    "    print(\"\\n\")"
   ]
  },
  {
   "cell_type": "code",
   "execution_count": 52,
   "metadata": {},
   "outputs": [
    {
     "name": "stdout",
     "output_type": "stream",
     "text": [
      "W W W W W \n",
      "W W W W \n",
      "W W W \n",
      "W W \n",
      "W \n"
     ]
    }
   ],
   "source": [
    "n_size = 5\n",
    "char = input(\"Introduzca un caracter\")\n",
    "\n",
    "for i in range(n_size, 0, -1):\n",
    "\n",
    "    print((char + \" \") * i)"
   ]
  },
  {
   "cell_type": "code",
   "execution_count": 54,
   "metadata": {},
   "outputs": [
    {
     "name": "stdout",
     "output_type": "stream",
     "text": [
      "W W W W W \n",
      "W W W W \n",
      "W W W \n",
      "W W \n",
      "W \n"
     ]
    }
   ],
   "source": [
    "n_size = 5\n",
    "char = input(\"Introduzca un caracter\")\n",
    "\n",
    "while n_size > 0:\n",
    "    impresion = n_size * (char + \" \")\n",
    "    print(impresion)\n",
    "    n_size -= 1"
   ]
  },
  {
   "cell_type": "code",
   "execution_count": 2,
   "metadata": {},
   "outputs": [
    {
     "name": "stdout",
     "output_type": "stream",
     "text": [
      "W W W W W \n",
      "W W W W \n",
      "W W W \n",
      "W W \n",
      "W \n",
      "\n"
     ]
    }
   ],
   "source": [
    "n_size = 5\n",
    "char = input(\"Introduzca un caracter\")\n",
    "\n",
    "ls_out = []\n",
    "cnt = 0\n",
    "while cnt < n_size:\n",
    "    ls_out.append(char)\n",
    "    for x in ls_out:\n",
    "        print((char + \" \") * (n_size - cnt))\n",
    "    \n",
    "        cnt += 1 "
   ]
  },
  {
   "cell_type": "markdown",
   "metadata": {},
   "source": [
    " ## Ejercicio 8\n",
    " Crea un programa que en función de un input numérico que inserte el usuario, imprima por pantalla la pirámide de ejemplo. Si el input es 6, tendrá 6 pisos, pero si introduce 10, la pirámide tendrá 10 pisos.\n",
    " \n",
    " 1 2 3 4 5 6\n",
    " \n",
    " 1 2 3 4 5\n",
    " \n",
    " 1 2 3 4\n",
    " \n",
    " 1 2 3\n",
    " \n",
    " 1 2\n",
    " \n",
    " 1"
   ]
  },
  {
   "cell_type": "code",
   "execution_count": 8,
   "metadata": {},
   "outputs": [
    {
     "name": "stdout",
     "output_type": "stream",
     "text": [
      "1 2 3 4 5 6 \n",
      "\n",
      "1 2 3 4 5 \n",
      "\n",
      "1 2 3 4 \n",
      "\n",
      "1 2 3 \n",
      "\n",
      "1 2 \n",
      "\n",
      "1 \n",
      "\n"
     ]
    }
   ],
   "source": [
    "n_pisos = 6\n",
    "\n",
    "for i in range(n_pisos):\n",
    "    for j in range(n_pisos - i):\n",
    "        print(j + 1, end=\" \")\n",
    "    \n",
    "    print(\"\\n\")"
   ]
  },
  {
   "cell_type": "code",
   "execution_count": 9,
   "metadata": {},
   "outputs": [
    {
     "name": "stdout",
     "output_type": "stream",
     "text": [
      "1 2 3 4 5 6 \n",
      "\n",
      "1 2 3 4 5 \n",
      "\n",
      "1 2 3 4 \n",
      "\n",
      "1 2 3 \n",
      "\n",
      "1 2 \n",
      "\n",
      "1 \n",
      "\n"
     ]
    }
   ],
   "source": [
    "n_pisos = 6\n",
    "\n",
    "for i in range(n_pisos, 0, -1):\n",
    "    for j in range(i):\n",
    "        print(j + 1, end=\" \")\n",
    "    \n",
    "    print(\"\\n\")"
   ]
  },
  {
   "cell_type": "markdown",
   "metadata": {},
   "source": [
    "## Ejercicio 10\n",
    "Imprime toda la secuencia de numeros del 1 al 10, excepto el 3, 4 y 9. Impleméntalo de dos maneras diferentes"
   ]
  },
  {
   "cell_type": "code",
   "execution_count": 10,
   "metadata": {},
   "outputs": [
    {
     "name": "stdout",
     "output_type": "stream",
     "text": [
      "1\n",
      "2\n",
      "5\n",
      "6\n",
      "7\n",
      "8\n",
      "10\n"
     ]
    }
   ],
   "source": [
    "for num in range(1, 11):\n",
    "    if not (num in [3, 4, 9]):\n",
    "        print(num)"
   ]
  },
  {
   "cell_type": "code",
   "execution_count": 12,
   "metadata": {},
   "outputs": [
    {
     "name": "stdout",
     "output_type": "stream",
     "text": [
      "1\n",
      "2\n",
      "5\n",
      "6\n",
      "7\n",
      "8\n",
      "10\n"
     ]
    }
   ],
   "source": [
    "num = 1\n",
    "while num <= 10:\n",
    "    if num not in [3, 4, 9]:\n",
    "        print(num)\n",
    "    \n",
    "    num += 1"
   ]
  }
 ],
 "metadata": {
  "kernelspec": {
   "display_name": "Python 3",
   "language": "python",
   "name": "python3"
  },
  "language_info": {
   "codemirror_mode": {
    "name": "ipython",
    "version": 3
   },
   "file_extension": ".py",
   "mimetype": "text/x-python",
   "name": "python",
   "nbconvert_exporter": "python",
   "pygments_lexer": "ipython3",
   "version": "3.10.8"
  },
  "vscode": {
   "interpreter": {
    "hash": "7600a12950a547366bb7a6732117e300ffd26224351912980486e1126c5d0f9a"
   }
  }
 },
 "nbformat": 4,
 "nbformat_minor": 4
}
